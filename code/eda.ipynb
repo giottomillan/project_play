{
 "cells": [
  {
   "attachments": {},
   "cell_type": "markdown",
   "metadata": {},
   "source": [
    "# Análisis Exploratorio de los datos recopilados"
   ]
  },
  {
   "attachments": {},
   "cell_type": "markdown",
   "metadata": {},
   "source": [
    "Habiendo recogido y limpiado los datos previamente, ahora exploraré los datos para sacar las métricas e insights que puedan ser relevantes para posibles estrategias de Marketing por parte de empresas como Playstation."
   ]
  },
  {
   "cell_type": "code",
   "execution_count": 1,
   "metadata": {},
   "outputs": [],
   "source": [
    "#importamos librerías\n",
    "import pandas as pd\n",
    "import numpy as np"
   ]
  },
  {
   "attachments": {},
   "cell_type": "markdown",
   "metadata": {},
   "source": [
    "# Los juegos más vistos"
   ]
  },
  {
   "cell_type": "code",
   "execution_count": 2,
   "metadata": {},
   "outputs": [],
   "source": [
    "top_juegos_mas_vistos = pd.read_csv(\"../data/data_cleaned/juegos_mas_vistos.csv\")"
   ]
  },
  {
   "cell_type": "code",
   "execution_count": 3,
   "metadata": {},
   "outputs": [
    {
     "name": "stdout",
     "output_type": "stream",
     "text": [
      "<class 'pandas.core.frame.DataFrame'>\n",
      "RangeIndex: 100 entries, 0 to 99\n",
      "Data columns (total 4 columns):\n",
      " #   Column        Non-Null Count  Dtype  \n",
      "---  ------        --------------  -----  \n",
      " 0   Game          100 non-null    object \n",
      " 1   Viewers       100 non-null    int64  \n",
      " 2   Change        100 non-null    float64\n",
      " 3   Global Share  100 non-null    float64\n",
      "dtypes: float64(2), int64(1), object(1)\n",
      "memory usage: 3.2+ KB\n"
     ]
    }
   ],
   "source": [
    "top_juegos_mas_vistos.info()"
   ]
  },
  {
   "cell_type": "code",
   "execution_count": 4,
   "metadata": {},
   "outputs": [
    {
     "data": {
      "text/html": [
       "<div>\n",
       "<style scoped>\n",
       "    .dataframe tbody tr th:only-of-type {\n",
       "        vertical-align: middle;\n",
       "    }\n",
       "\n",
       "    .dataframe tbody tr th {\n",
       "        vertical-align: top;\n",
       "    }\n",
       "\n",
       "    .dataframe thead th {\n",
       "        text-align: right;\n",
       "    }\n",
       "</style>\n",
       "<table border=\"1\" class=\"dataframe\">\n",
       "  <thead>\n",
       "    <tr style=\"text-align: right;\">\n",
       "      <th></th>\n",
       "      <th>Game</th>\n",
       "      <th>Viewers</th>\n",
       "      <th>Change</th>\n",
       "      <th>Global Share</th>\n",
       "    </tr>\n",
       "  </thead>\n",
       "  <tbody>\n",
       "    <tr>\n",
       "      <th>0</th>\n",
       "      <td>Diablo IV</td>\n",
       "      <td>476000</td>\n",
       "      <td>0.010</td>\n",
       "      <td>0.14833</td>\n",
       "    </tr>\n",
       "    <tr>\n",
       "      <th>1</th>\n",
       "      <td>Just Chatting</td>\n",
       "      <td>327000</td>\n",
       "      <td>0.022</td>\n",
       "      <td>0.10184</td>\n",
       "    </tr>\n",
       "    <tr>\n",
       "      <th>2</th>\n",
       "      <td>League of Legends</td>\n",
       "      <td>217000</td>\n",
       "      <td>0.037</td>\n",
       "      <td>0.06754</td>\n",
       "    </tr>\n",
       "    <tr>\n",
       "      <th>3</th>\n",
       "      <td>Counter-Strike: Global Offensive</td>\n",
       "      <td>188000</td>\n",
       "      <td>0.060</td>\n",
       "      <td>0.05864</td>\n",
       "    </tr>\n",
       "    <tr>\n",
       "      <th>4</th>\n",
       "      <td>VALORANT</td>\n",
       "      <td>143000</td>\n",
       "      <td>0.072</td>\n",
       "      <td>0.04457</td>\n",
       "    </tr>\n",
       "  </tbody>\n",
       "</table>\n",
       "</div>"
      ],
      "text/plain": [
       "                               Game  Viewers  Change  Global Share\n",
       "0                         Diablo IV   476000   0.010       0.14833\n",
       "1                     Just Chatting   327000   0.022       0.10184\n",
       "2                 League of Legends   217000   0.037       0.06754\n",
       "3  Counter-Strike: Global Offensive   188000   0.060       0.05864\n",
       "4                          VALORANT   143000   0.072       0.04457"
      ]
     },
     "execution_count": 4,
     "metadata": {},
     "output_type": "execute_result"
    }
   ],
   "source": [
    "top_juegos_mas_vistos.head()"
   ]
  },
  {
   "attachments": {},
   "cell_type": "markdown",
   "metadata": {},
   "source": [
    "# Top de los principales gamers o influencers"
   ]
  },
  {
   "cell_type": "code",
   "execution_count": 5,
   "metadata": {},
   "outputs": [],
   "source": [
    "top_gamers = pd.read_csv(\"../data/data_cleaned/top_gamers.csv\")"
   ]
  },
  {
   "cell_type": "code",
   "execution_count": 6,
   "metadata": {},
   "outputs": [
    {
     "name": "stdout",
     "output_type": "stream",
     "text": [
      "<class 'pandas.core.frame.DataFrame'>\n",
      "RangeIndex: 100 entries, 0 to 99\n",
      "Data columns (total 9 columns):\n",
      " #   Column                 Non-Null Count  Dtype  \n",
      "---  ------                 --------------  -----  \n",
      " 0   Gamer                  100 non-null    object \n",
      " 1   AVG VIEWERS            100 non-null    float64\n",
      " 2   TIME STREAMED(h)       100 non-null    float64\n",
      " 3   ALL TIME PEAK VIEWERS  100 non-null    int64  \n",
      " 4   HOURS WATCHED          100 non-null    float64\n",
      " 5   RANK                   100 non-null    int64  \n",
      " 6   FOLLOWERS GAINED       100 non-null    int64  \n",
      " 7   TOTAL FOLLOWERS        100 non-null    int64  \n",
      " 8   TOTAL VIEWS            100 non-null    int64  \n",
      "dtypes: float64(3), int64(5), object(1)\n",
      "memory usage: 7.2+ KB\n"
     ]
    }
   ],
   "source": [
    "top_gamers.info()"
   ]
  },
  {
   "cell_type": "code",
   "execution_count": 7,
   "metadata": {},
   "outputs": [
    {
     "data": {
      "text/html": [
       "<div>\n",
       "<style scoped>\n",
       "    .dataframe tbody tr th:only-of-type {\n",
       "        vertical-align: middle;\n",
       "    }\n",
       "\n",
       "    .dataframe tbody tr th {\n",
       "        vertical-align: top;\n",
       "    }\n",
       "\n",
       "    .dataframe thead th {\n",
       "        text-align: right;\n",
       "    }\n",
       "</style>\n",
       "<table border=\"1\" class=\"dataframe\">\n",
       "  <thead>\n",
       "    <tr style=\"text-align: right;\">\n",
       "      <th></th>\n",
       "      <th>Gamer</th>\n",
       "      <th>AVG VIEWERS</th>\n",
       "      <th>TIME STREAMED(h)</th>\n",
       "      <th>ALL TIME PEAK VIEWERS</th>\n",
       "      <th>HOURS WATCHED</th>\n",
       "      <th>RANK</th>\n",
       "      <th>FOLLOWERS GAINED</th>\n",
       "      <th>TOTAL FOLLOWERS</th>\n",
       "      <th>TOTAL VIEWS</th>\n",
       "    </tr>\n",
       "  </thead>\n",
       "  <tbody>\n",
       "    <tr>\n",
       "      <th>0</th>\n",
       "      <td>KINGSLEAGUE</td>\n",
       "      <td>141.118</td>\n",
       "      <td>71.8</td>\n",
       "      <td>1098636</td>\n",
       "      <td>10100000.0</td>\n",
       "      <td>2</td>\n",
       "      <td>111000</td>\n",
       "      <td>2620000</td>\n",
       "      <td>446000</td>\n",
       "    </tr>\n",
       "    <tr>\n",
       "      <th>1</th>\n",
       "      <td>IBAI</td>\n",
       "      <td>62.765</td>\n",
       "      <td>112.7</td>\n",
       "      <td>3356074</td>\n",
       "      <td>7070000.0</td>\n",
       "      <td>6</td>\n",
       "      <td>84700</td>\n",
       "      <td>13100000</td>\n",
       "      <td>359000000</td>\n",
       "    </tr>\n",
       "    <tr>\n",
       "      <th>2</th>\n",
       "      <td>ILLOJUAN</td>\n",
       "      <td>39.495</td>\n",
       "      <td>125.7</td>\n",
       "      <td>172186</td>\n",
       "      <td>4960000.0</td>\n",
       "      <td>15</td>\n",
       "      <td>59200</td>\n",
       "      <td>3360000</td>\n",
       "      <td>72000000</td>\n",
       "    </tr>\n",
       "    <tr>\n",
       "      <th>3</th>\n",
       "      <td>AURONPLAY</td>\n",
       "      <td>43.589</td>\n",
       "      <td>89.6</td>\n",
       "      <td>602038</td>\n",
       "      <td>3900000.0</td>\n",
       "      <td>17</td>\n",
       "      <td>75900</td>\n",
       "      <td>15200000</td>\n",
       "      <td>263000000</td>\n",
       "    </tr>\n",
       "    <tr>\n",
       "      <th>4</th>\n",
       "      <td>ELMARIANA</td>\n",
       "      <td>34.584</td>\n",
       "      <td>95.7</td>\n",
       "      <td>128442</td>\n",
       "      <td>3310000.0</td>\n",
       "      <td>23</td>\n",
       "      <td>174000</td>\n",
       "      <td>7660000</td>\n",
       "      <td>33299999</td>\n",
       "    </tr>\n",
       "  </tbody>\n",
       "</table>\n",
       "</div>"
      ],
      "text/plain": [
       "         Gamer  AVG VIEWERS  TIME STREAMED(h)  ALL TIME PEAK VIEWERS  \\\n",
       "0  KINGSLEAGUE      141.118              71.8                1098636   \n",
       "1         IBAI       62.765             112.7                3356074   \n",
       "2     ILLOJUAN       39.495             125.7                 172186   \n",
       "3    AURONPLAY       43.589              89.6                 602038   \n",
       "4    ELMARIANA       34.584              95.7                 128442   \n",
       "\n",
       "   HOURS WATCHED  RANK  FOLLOWERS GAINED  TOTAL FOLLOWERS  TOTAL VIEWS  \n",
       "0     10100000.0     2            111000          2620000       446000  \n",
       "1      7070000.0     6             84700         13100000    359000000  \n",
       "2      4960000.0    15             59200          3360000     72000000  \n",
       "3      3900000.0    17             75900         15200000    263000000  \n",
       "4      3310000.0    23            174000          7660000     33299999  "
      ]
     },
     "execution_count": 7,
     "metadata": {},
     "output_type": "execute_result"
    }
   ],
   "source": [
    "top_gamers.head()"
   ]
  },
  {
   "attachments": {},
   "cell_type": "markdown",
   "metadata": {},
   "source": [
    "# Top de los gamers más strimeados"
   ]
  },
  {
   "cell_type": "code",
   "execution_count": 8,
   "metadata": {},
   "outputs": [],
   "source": [
    "top_streamers = pd.read_csv(\"../data/data_cleaned/streamers_top.csv\")"
   ]
  },
  {
   "cell_type": "code",
   "execution_count": 9,
   "metadata": {},
   "outputs": [
    {
     "name": "stdout",
     "output_type": "stream",
     "text": [
      "<class 'pandas.core.frame.DataFrame'>\n",
      "RangeIndex: 100 entries, 0 to 99\n",
      "Data columns (total 7 columns):\n",
      " #   Column                            Non-Null Count  Dtype  \n",
      "---  ------                            --------------  -----  \n",
      " 0   Rank                              100 non-null    int64  \n",
      " 1   Gamer                             100 non-null    object \n",
      " 2   Category                          100 non-null    object \n",
      " 3   Number of Viewers                 100 non-null    int64  \n",
      " 4   Percentage of Viewers             100 non-null    float64\n",
      " 5   Game                              100 non-null    object \n",
      " 6   Percentage Of Spanish viewership  100 non-null    float64\n",
      "dtypes: float64(2), int64(2), object(3)\n",
      "memory usage: 5.6+ KB\n"
     ]
    }
   ],
   "source": [
    "top_streamers.info()"
   ]
  },
  {
   "cell_type": "code",
   "execution_count": 10,
   "metadata": {},
   "outputs": [
    {
     "data": {
      "text/html": [
       "<div>\n",
       "<style scoped>\n",
       "    .dataframe tbody tr th:only-of-type {\n",
       "        vertical-align: middle;\n",
       "    }\n",
       "\n",
       "    .dataframe tbody tr th {\n",
       "        vertical-align: top;\n",
       "    }\n",
       "\n",
       "    .dataframe thead th {\n",
       "        text-align: right;\n",
       "    }\n",
       "</style>\n",
       "<table border=\"1\" class=\"dataframe\">\n",
       "  <thead>\n",
       "    <tr style=\"text-align: right;\">\n",
       "      <th></th>\n",
       "      <th>Rank</th>\n",
       "      <th>Gamer</th>\n",
       "      <th>Category</th>\n",
       "      <th>Number of Viewers</th>\n",
       "      <th>Percentage of Viewers</th>\n",
       "      <th>Game</th>\n",
       "      <th>Percentage Of Spanish viewership</th>\n",
       "    </tr>\n",
       "  </thead>\n",
       "  <tbody>\n",
       "    <tr>\n",
       "      <th>0</th>\n",
       "      <td>1</td>\n",
       "      <td>KINGSLEAGUE</td>\n",
       "      <td>Sports</td>\n",
       "      <td>52347</td>\n",
       "      <td>0.3862</td>\n",
       "      <td>Sports</td>\n",
       "      <td>0.2012</td>\n",
       "    </tr>\n",
       "    <tr>\n",
       "      <th>1</th>\n",
       "      <td>2</td>\n",
       "      <td>IBAI</td>\n",
       "      <td>Sports</td>\n",
       "      <td>31219</td>\n",
       "      <td>0.2303</td>\n",
       "      <td>Sports</td>\n",
       "      <td>0.1200</td>\n",
       "    </tr>\n",
       "    <tr>\n",
       "      <th>2</th>\n",
       "      <td>3</td>\n",
       "      <td>RIVERS_GG</td>\n",
       "      <td>Sports</td>\n",
       "      <td>25840</td>\n",
       "      <td>0.1906</td>\n",
       "      <td>Sports</td>\n",
       "      <td>0.0993</td>\n",
       "    </tr>\n",
       "    <tr>\n",
       "      <th>3</th>\n",
       "      <td>4</td>\n",
       "      <td>ELXOKAS</td>\n",
       "      <td>Diablo IV</td>\n",
       "      <td>8592</td>\n",
       "      <td>0.0186</td>\n",
       "      <td>Diablo IV</td>\n",
       "      <td>0.0330</td>\n",
       "    </tr>\n",
       "    <tr>\n",
       "      <th>4</th>\n",
       "      <td>5</td>\n",
       "      <td>MUNDODEPORTIVO</td>\n",
       "      <td>Special Events</td>\n",
       "      <td>6550</td>\n",
       "      <td>0.6180</td>\n",
       "      <td>Special Events</td>\n",
       "      <td>0.0252</td>\n",
       "    </tr>\n",
       "  </tbody>\n",
       "</table>\n",
       "</div>"
      ],
      "text/plain": [
       "   Rank           Gamer        Category  Number of Viewers  \\\n",
       "0     1     KINGSLEAGUE          Sports              52347   \n",
       "1     2            IBAI          Sports              31219   \n",
       "2     3       RIVERS_GG          Sports              25840   \n",
       "3     4         ELXOKAS       Diablo IV               8592   \n",
       "4     5  MUNDODEPORTIVO  Special Events               6550   \n",
       "\n",
       "   Percentage of Viewers             Game  Percentage Of Spanish viewership  \n",
       "0                 0.3862           Sports                            0.2012  \n",
       "1                 0.2303           Sports                            0.1200  \n",
       "2                 0.1906           Sports                            0.0993  \n",
       "3                 0.0186        Diablo IV                            0.0330  \n",
       "4                 0.6180   Special Events                            0.0252  "
      ]
     },
     "execution_count": 10,
     "metadata": {},
     "output_type": "execute_result"
    }
   ],
   "source": [
    "top_streamers.head()"
   ]
  }
 ],
 "metadata": {
  "kernelspec": {
   "display_name": "base",
   "language": "python",
   "name": "python3"
  },
  "language_info": {
   "codemirror_mode": {
    "name": "ipython",
    "version": 3
   },
   "file_extension": ".py",
   "mimetype": "text/x-python",
   "name": "python",
   "nbconvert_exporter": "python",
   "pygments_lexer": "ipython3",
   "version": "3.9.13"
  },
  "orig_nbformat": 4
 },
 "nbformat": 4,
 "nbformat_minor": 2
}
