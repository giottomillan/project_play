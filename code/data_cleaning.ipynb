{
 "cells": [
  {
   "attachments": {},
   "cell_type": "markdown",
   "metadata": {},
   "source": [
    "# Limpieza de datos"
   ]
  },
  {
   "attachments": {},
   "cell_type": "markdown",
   "metadata": {},
   "source": [
    "Importamos librerías y cargamos los archivos"
   ]
  },
  {
   "cell_type": "code",
   "execution_count": 1,
   "metadata": {},
   "outputs": [],
   "source": [
    "import pandas as pd\n",
    "import numpy as np"
   ]
  },
  {
   "cell_type": "code",
   "execution_count": 2,
   "metadata": {},
   "outputs": [],
   "source": [
    "#tablas iniciales\n",
    "gamers = pd.read_csv(\"../data/data_gamers.csv\")\n",
    "nuevos_talentos = pd.read_csv(\"../data/nuevos_talentos.csv\")\n",
    "talentos_indies = pd.read_csv(\"../data/talentos_indies.csv\")\n",
    "#datos scrapeados\n",
    "user_youtube = pd.read_csv(\"../data/df_user_youtube.csv\")\n",
    "juegos_mas_vistos = pd.read_csv(\"../data/juegos_mas_vistos.csv\")\n",
    "streamers_top = pd.read_csv(\"../data/streamers_limpio.csv\")\n",
    "top_streamers = pd.read_csv(\"../data/TWITCH_TOP_STREAMERS_week.csv\")"
   ]
  },
  {
   "cell_type": "code",
   "execution_count": 3,
   "metadata": {},
   "outputs": [
    {
     "data": {
      "text/html": [
       "<div>\n",
       "<style scoped>\n",
       "    .dataframe tbody tr th:only-of-type {\n",
       "        vertical-align: middle;\n",
       "    }\n",
       "\n",
       "    .dataframe tbody tr th {\n",
       "        vertical-align: top;\n",
       "    }\n",
       "\n",
       "    .dataframe thead th {\n",
       "        text-align: right;\n",
       "    }\n",
       "</style>\n",
       "<table border=\"1\" class=\"dataframe\">\n",
       "  <thead>\n",
       "    <tr style=\"text-align: right;\">\n",
       "      <th></th>\n",
       "      <th>Unnamed: 0</th>\n",
       "      <th>Usuario</th>\n",
       "      <th>Gamer</th>\n",
       "    </tr>\n",
       "  </thead>\n",
       "  <tbody>\n",
       "    <tr>\n",
       "      <th>0</th>\n",
       "      <td>0</td>\n",
       "      <td>@miquelmontoro</td>\n",
       "      <td>Miquel Montoro</td>\n",
       "    </tr>\n",
       "    <tr>\n",
       "      <th>1</th>\n",
       "      <td>1</td>\n",
       "      <td>@jesuscastro17</td>\n",
       "      <td>Jesús Castro</td>\n",
       "    </tr>\n",
       "    <tr>\n",
       "      <th>2</th>\n",
       "      <td>2</td>\n",
       "      <td>@seguimarc</td>\n",
       "      <td>Marc Seguí</td>\n",
       "    </tr>\n",
       "    <tr>\n",
       "      <th>3</th>\n",
       "      <td>3</td>\n",
       "      <td>@nudelolablog</td>\n",
       "      <td>Lola Rodríguez</td>\n",
       "    </tr>\n",
       "    <tr>\n",
       "      <th>4</th>\n",
       "      <td>4</td>\n",
       "      <td>@pablogshow</td>\n",
       "      <td>PabloGShow</td>\n",
       "    </tr>\n",
       "  </tbody>\n",
       "</table>\n",
       "</div>"
      ],
      "text/plain": [
       "   Unnamed: 0         Usuario           Gamer\n",
       "0           0  @miquelmontoro  Miquel Montoro\n",
       "1           1  @jesuscastro17    Jesús Castro\n",
       "2           2      @seguimarc      Marc Seguí\n",
       "3           3   @nudelolablog  Lola Rodríguez\n",
       "4           4     @pablogshow      PabloGShow"
      ]
     },
     "execution_count": 3,
     "metadata": {},
     "output_type": "execute_result"
    }
   ],
   "source": [
    "user_youtube.rename(columns={\"0\":\"Usuario\"}, inplace=True)\n",
    "user_youtube.head()"
   ]
  },
  {
   "attachments": {},
   "cell_type": "markdown",
   "metadata": {},
   "source": [
    "# Funciones de limpieza"
   ]
  },
  {
   "cell_type": "code",
   "execution_count": 56,
   "metadata": {},
   "outputs": [],
   "source": [
    "def convert_percentage_to_float(percentage):\n",
    "    if isinstance(percentage, str) and percentage.endswith('%'):\n",
    "        percentage = percentage[:-1]  # Eliminar el símbolo de porcentaje\n",
    "        try:\n",
    "            percentage = float(percentage) / 100  # Dividir por 100\n",
    "            return percentage\n",
    "        except ValueError:\n",
    "            return None\n",
    "    else:\n",
    "        return None\n"
   ]
  },
  {
   "cell_type": "code",
   "execution_count": 16,
   "metadata": {},
   "outputs": [],
   "source": [
    "# Definir la función de conversión\n",
    "def convert_to_numeric(value):\n",
    "    try:\n",
    "        if value[-1] == 'K':\n",
    "            return float(value[:-1]) * 1000\n",
    "        elif value[-1] == 'M':\n",
    "            return float(value[:-1]) * 1000000\n",
    "        else:\n",
    "            return float(value)\n",
    "    except:\n",
    "        return None\n"
   ]
  },
  {
   "cell_type": "code",
   "execution_count": 184,
   "metadata": {},
   "outputs": [],
   "source": [
    "\n",
    "def clean_streamers_data(df):\n",
    "    # Borramos el índice mal guardado\n",
    "    df.drop(columns=\"Unnamed: 0\", inplace=True)\n",
    "    \n",
    "    # Borramos la columna \"hours\" que no hace nada\n",
    "    df.drop(columns=\"hours\", inplace=True)\n",
    "    \n",
    "    # Quitamos el \"+\" de la columna \"FOLLOWERS GAINED\"\n",
    "    df[\"FOLLOWERS GAINED\"] = df[\"FOLLOWERS GAINED\"].str.replace(\"+\", \"\", regex=True)\n",
    "    \n",
    "    # Aplicar la función a la columna \"HOURS WATCHED\"\n",
    "    df[\"HOURS WATCHED\"] = df[\"HOURS WATCHED\"].apply(convert_to_numeric)\n",
    "    \n",
    "    # Aplicar la función a la columna \"FOLLOWERS GAINED\"\n",
    "    df[\"FOLLOWERS GAINED\"] = df[\"FOLLOWERS GAINED\"].apply(convert_to_numeric)\n",
    "    \n",
    "    # Aplicar la función a la columna \"TOTAL VIEWS\"\n",
    "    df[\"TOTAL VIEWS\"] = df[\"TOTAL VIEWS\"].apply(convert_to_numeric)\n",
    "    \n",
    "    # Aplicar la función a la columna \"TOTAL FOLLOWERS\"\n",
    "    df[\"TOTAL FOLLOWERS\"] = df[\"TOTAL FOLLOWERS\"].apply(convert_to_numeric)\n",
    "    \n",
    "    # Eliminar las comas de los valores en \"AVG VIEWERS\"\n",
    "    df['AVG VIEWERS'] = df['AVG VIEWERS'].str.replace(',', '.')\n",
    "    \n",
    "    # Convertir la columna \"AVG VIEWERS\" a tipo float\n",
    "    df['AVG VIEWERS'] = df['AVG VIEWERS'].astype(float)\n",
    "    \n",
    "    # Rellenar los valores nulos en \"TOTAL VIEWS\" con 0\n",
    "    df['TOTAL VIEWS'] = df['TOTAL VIEWS'].fillna(0)\n",
    "    \n",
    "    # Convertir las columnas \"TOTAL FOLLOWERS\" y \"TOTAL VIEWS\" a tipo int\n",
    "    df['TOTAL FOLLOWERS'] = df['TOTAL FOLLOWERS'].astype(int)\n",
    "    df['TOTAL VIEWS'] = df['TOTAL VIEWS'].astype(int)\n",
    "    \n",
    "    # Eliminar los puntos de los valores en \"ALL TIME PEAK VIEWERS\"\n",
    "    df['ALL TIME PEAK VIEWERS'] = df['ALL TIME PEAK VIEWERS'].str.replace(',', '')\n",
    "    \n",
    "    # Eliminar los puntos de los valores en \"ALL TIME PEAK VIEWERS\"\n",
    "    df['ALL TIME PEAK VIEWERS']  = df['ALL TIME PEAK VIEWERS'] .str.replace('.', '')\n",
    "    \n",
    "    # Convertir la columna \"ALL TIME PEAK VIEWERS\" a tipo int\n",
    "    df['ALL TIME PEAK VIEWERS'] = df['ALL TIME PEAK VIEWERS'].astype(int)\n",
    "    \n",
    "    # Rellenar los valores nulos en \"TOTAL VIEWS\" con 0\n",
    "    df['TOTAL VIEWS'] = df['TOTAL VIEWS'].fillna(0)\n",
    "    \n",
    "    # Convertir la columna \"FOLLOWERS GAINED\" a tipo int\n",
    "    df['FOLLOWERS GAINED'] = df['FOLLOWERS GAINED'].astype(int)\n",
    "    \n",
    "    # Eliminar los puntos de los valores en \"RANK\"\n",
    "    df['RANK'] = df['RANK'].str.replace(',', '')\n",
    "    \n",
    "    # Convertir la columna \"RANK\" a tipo int\n",
    "    df['RANK'] = df['RANK'].astype(int)\n",
    "    \n",
    "    return df\n"
   ]
  },
  {
   "attachments": {},
   "cell_type": "markdown",
   "metadata": {},
   "source": [
    "# Limpieza inicial: tablas iniciales"
   ]
  },
  {
   "attachments": {},
   "cell_type": "markdown",
   "metadata": {},
   "source": [
    "Las tablas gamers, talentos_indies y nuevos_talentos son tablas de las que partimos y que sirven de ejemplo sobre cómo se puede investigar a una lista concreta de gamers para obtener información sobre sus desempeños. En este caso la investigación fue sobre su información y media de sus canales de youtube."
   ]
  },
  {
   "attachments": {},
   "cell_type": "markdown",
   "metadata": {},
   "source": [
    "Tabla Gamers"
   ]
  },
  {
   "cell_type": "code",
   "execution_count": 171,
   "metadata": {},
   "outputs": [
    {
     "name": "stdout",
     "output_type": "stream",
     "text": [
      "<class 'pandas.core.frame.DataFrame'>\n",
      "RangeIndex: 192 entries, 0 to 191\n",
      "Data columns (total 7 columns):\n",
      " #   Column        Non-Null Count  Dtype         \n",
      "---  ------        --------------  -----         \n",
      " 0   UPLOADS       192 non-null    int32         \n",
      " 1   SUBSCRIBERS   192 non-null    int32         \n",
      " 2   VIDEO VIEWS   192 non-null    int32         \n",
      " 3   COUNTRY       192 non-null    object        \n",
      " 4   CHANNEL TYPE  178 non-null    object        \n",
      " 5   USER CREATED  191 non-null    datetime64[ns]\n",
      " 6   Gamer         191 non-null    object        \n",
      "dtypes: datetime64[ns](1), int32(3), object(3)\n",
      "memory usage: 8.4+ KB\n"
     ]
    }
   ],
   "source": [
    "gamers.info()"
   ]
  },
  {
   "cell_type": "code",
   "execution_count": 128,
   "metadata": {},
   "outputs": [
    {
     "name": "stderr",
     "output_type": "stream",
     "text": [
      "C:\\Users\\GAMM\\AppData\\Local\\Temp\\ipykernel_19308\\2744406401.py:5: FutureWarning: The default value of regex will change from True to False in a future version. In addition, single character regular expressions will *not* be treated as literal strings when regex=True.\n",
      "  gamers['UPLOADS']  = gamers['UPLOADS'] .str.replace('.', '')\n"
     ]
    }
   ],
   "source": [
    "#borramos y limpiamos lo que no sirve\n",
    "\n",
    "gamers.COUNTRY.replace(\"CHANNEL TYPE\", \"Nn\", regex=True, inplace=True)\n",
    "\n",
    "gamers.drop(columns=\"Sep 19th, 2018\", inplace=True)\n",
    "\n",
    "gamers.drop(columns=\"Games\", inplace=True)\n",
    "\n",
    "# Eliminar los puntos de los valores\n",
    "gamers['UPLOADS'] = gamers['UPLOADS'].str.replace(',', '')\n",
    "\n",
    "# Eliminar los puntos de los valores\n",
    "gamers['UPLOADS']  = gamers['UPLOADS'] .str.replace('.', '')\n",
    "\n",
    "# Convertir la columna a tipo int\n",
    "gamers['UPLOADS'] = gamers['UPLOADS'].astype(int)\n",
    "\n",
    "#aplicar el cambio de k y m para tenerlos en valores numéricos\n",
    "gamers[\"SUBSCRIBERS\"] = gamers[\"SUBSCRIBERS\"].apply(convert_to_numeric)\n",
    "\n",
    "gamers[\"SUBSCRIBERS\"] = gamers[\"SUBSCRIBERS\"].astype(int)\n",
    "\n",
    "# Eliminar los puntos de los valores\n",
    "gamers['VIDEO VIEWS'] = gamers['VIDEO VIEWS'].str.replace(',', '')\n",
    "\n",
    "# Eliminar los puntos de los valores\n",
    "gamers['VIDEO VIEWS']  = gamers['VIDEO VIEWS'] .str.replace('.', '')\n",
    "\n",
    "# Convertir la columna a tipo int\n",
    "gamers['VIDEO VIEWS'] = gamers['VIDEO VIEWS'].astype(int)\n",
    "\n",
    "#pasamos la columa de USER CREATED a formato tiempo\n",
    "gamers[\"USER CREATED\"] = pd.to_datetime(gamers[\"USER CREATED\"])"
   ]
  },
  {
   "cell_type": "code",
   "execution_count": 175,
   "metadata": {},
   "outputs": [],
   "source": [
    "#guardamos el df limpio\n",
    "gamers.to_csv(\"../data/data_cleaned/gamers_cleaned.csv\", index=False)"
   ]
  },
  {
   "attachments": {},
   "cell_type": "markdown",
   "metadata": {},
   "source": [
    "Tabla Talentos Indies"
   ]
  },
  {
   "cell_type": "code",
   "execution_count": 163,
   "metadata": {},
   "outputs": [
    {
     "name": "stdout",
     "output_type": "stream",
     "text": [
      "<class 'pandas.core.frame.DataFrame'>\n",
      "RangeIndex: 17 entries, 0 to 16\n",
      "Data columns (total 7 columns):\n",
      " #   Column        Non-Null Count  Dtype         \n",
      "---  ------        --------------  -----         \n",
      " 0   UPLOADS       17 non-null     int32         \n",
      " 1   SUBSCRIBERS   17 non-null     int32         \n",
      " 2   VIDEO VIEWS   17 non-null     int32         \n",
      " 3   COUNTRY       17 non-null     object        \n",
      " 4   USER CREATED  17 non-null     datetime64[ns]\n",
      " 5   Gamer         17 non-null     object        \n",
      " 6   CHANNEL TYPE  14 non-null     object        \n",
      "dtypes: datetime64[ns](1), int32(3), object(3)\n",
      "memory usage: 876.0+ bytes\n"
     ]
    }
   ],
   "source": [
    "talentos_indies.info()"
   ]
  },
  {
   "cell_type": "code",
   "execution_count": 162,
   "metadata": {},
   "outputs": [
    {
     "data": {
      "text/html": [
       "<div>\n",
       "<style scoped>\n",
       "    .dataframe tbody tr th:only-of-type {\n",
       "        vertical-align: middle;\n",
       "    }\n",
       "\n",
       "    .dataframe tbody tr th {\n",
       "        vertical-align: top;\n",
       "    }\n",
       "\n",
       "    .dataframe thead th {\n",
       "        text-align: right;\n",
       "    }\n",
       "</style>\n",
       "<table border=\"1\" class=\"dataframe\">\n",
       "  <thead>\n",
       "    <tr style=\"text-align: right;\">\n",
       "      <th></th>\n",
       "      <th>UPLOADS</th>\n",
       "      <th>SUBSCRIBERS</th>\n",
       "      <th>VIDEO VIEWS</th>\n",
       "      <th>COUNTRY</th>\n",
       "      <th>USER CREATED</th>\n",
       "      <th>Gamer</th>\n",
       "      <th>CHANNEL TYPE</th>\n",
       "    </tr>\n",
       "  </thead>\n",
       "  <tbody>\n",
       "    <tr>\n",
       "      <th>0</th>\n",
       "      <td>0</td>\n",
       "      <td>113</td>\n",
       "      <td>0</td>\n",
       "      <td>Nn</td>\n",
       "      <td>2011-09-29</td>\n",
       "      <td>Bruno Sol</td>\n",
       "      <td>NaN</td>\n",
       "    </tr>\n",
       "    <tr>\n",
       "      <th>1</th>\n",
       "      <td>1517</td>\n",
       "      <td>37700</td>\n",
       "      <td>8101582</td>\n",
       "      <td>ES</td>\n",
       "      <td>2012-02-15</td>\n",
       "      <td>DjPrieto y neta</td>\n",
       "      <td>Entertainment</td>\n",
       "    </tr>\n",
       "    <tr>\n",
       "      <th>2</th>\n",
       "      <td>296</td>\n",
       "      <td>27000</td>\n",
       "      <td>1983966</td>\n",
       "      <td>ES</td>\n",
       "      <td>2019-08-08</td>\n",
       "      <td>Indies con Lara</td>\n",
       "      <td>Games</td>\n",
       "    </tr>\n",
       "    <tr>\n",
       "      <th>3</th>\n",
       "      <td>18</td>\n",
       "      <td>59</td>\n",
       "      <td>74290</td>\n",
       "      <td>US</td>\n",
       "      <td>2008-08-03</td>\n",
       "      <td>Jin Kisaragi</td>\n",
       "      <td>Music</td>\n",
       "    </tr>\n",
       "    <tr>\n",
       "      <th>4</th>\n",
       "      <td>2195</td>\n",
       "      <td>1050000</td>\n",
       "      <td>211421624</td>\n",
       "      <td>ES</td>\n",
       "      <td>2015-01-26</td>\n",
       "      <td>Kahuna Games</td>\n",
       "      <td>Games</td>\n",
       "    </tr>\n",
       "  </tbody>\n",
       "</table>\n",
       "</div>"
      ],
      "text/plain": [
       "   UPLOADS  SUBSCRIBERS  VIDEO VIEWS COUNTRY USER CREATED            Gamer  \\\n",
       "0        0          113            0      Nn   2011-09-29        Bruno Sol   \n",
       "1     1517        37700      8101582      ES   2012-02-15  DjPrieto y neta   \n",
       "2      296        27000      1983966      ES   2019-08-08  Indies con Lara   \n",
       "3       18           59        74290      US   2008-08-03     Jin Kisaragi   \n",
       "4     2195      1050000    211421624      ES   2015-01-26     Kahuna Games   \n",
       "\n",
       "    CHANNEL TYPE  \n",
       "0            NaN  \n",
       "1  Entertainment  \n",
       "2          Games  \n",
       "3          Music  \n",
       "4          Games  "
      ]
     },
     "execution_count": 162,
     "metadata": {},
     "output_type": "execute_result"
    }
   ],
   "source": [
    "talentos_indies.head()"
   ]
  },
  {
   "cell_type": "code",
   "execution_count": 147,
   "metadata": {},
   "outputs": [],
   "source": [
    "#borramos el indice mal guardado\n",
    "talentos_indies.drop(columns=\"Unnamed: 0\", inplace=True)\n",
    "\n",
    "# Eliminar los puntos de los valores\n",
    "talentos_indies['UPLOADS'] = talentos_indies['UPLOADS'].str.replace(',', '')\n",
    "\n",
    "# Eliminar los puntos de los valores\n",
    "talentos_indies['UPLOADS']  = talentos_indies['UPLOADS'] .str.replace('.', '')\n",
    "\n",
    "# Convertir la columna a tipo int\n",
    "talentos_indies['UPLOADS'] = talentos_indies['UPLOADS'].astype(int)\n",
    "\n",
    "#aplicar el cambio de k y m para tenerlos en valores numéricos\n",
    "talentos_indies[\"SUBSCRIBERS\"] = talentos_indies[\"SUBSCRIBERS\"].apply(convert_to_numeric)\n",
    "\n",
    "talentos_indies[\"SUBSCRIBERS\"] = talentos_indies[\"SUBSCRIBERS\"].astype(int)\n",
    "\n",
    "# Eliminar los puntos de los valores\n",
    "talentos_indies['VIDEO VIEWS'] = talentos_indies['VIDEO VIEWS'].str.replace(',', '')\n",
    "\n",
    "# Eliminar los puntos de los valores\n",
    "talentos_indies['VIDEO VIEWS']  = talentos_indies['VIDEO VIEWS'] .str.replace('.', '')\n",
    "\n",
    "# Convertir la columna a tipo int\n",
    "talentos_indies['VIDEO VIEWS'] = talentos_indies['VIDEO VIEWS'].astype(int)\n",
    "\n",
    "#borramos y limpiamos lo que no sirve\n",
    "\n",
    "talentos_indies.COUNTRY.replace(\"CHANNEL TYPE\", \"Nn\", regex=True, inplace=True)\n",
    "\n",
    "#pasamos la columa de USER CREATED a formato tiempo\n",
    "talentos_indies[\"USER CREATED\"] = pd.to_datetime(talentos_indies[\"USER CREATED\"])"
   ]
  },
  {
   "cell_type": "code",
   "execution_count": 174,
   "metadata": {},
   "outputs": [],
   "source": [
    "#guardamos el df limpio\n",
    "talentos_indies.to_csv(\"../data/data_cleaned/talentos_indies.csv\", index=False)"
   ]
  },
  {
   "attachments": {},
   "cell_type": "markdown",
   "metadata": {},
   "source": [
    "Tabla de Nuevos Talentos"
   ]
  },
  {
   "cell_type": "code",
   "execution_count": 170,
   "metadata": {},
   "outputs": [
    {
     "name": "stdout",
     "output_type": "stream",
     "text": [
      "<class 'pandas.core.frame.DataFrame'>\n",
      "RangeIndex: 31 entries, 0 to 30\n",
      "Data columns (total 7 columns):\n",
      " #   Column        Non-Null Count  Dtype         \n",
      "---  ------        --------------  -----         \n",
      " 0   UPLOADS       31 non-null     int32         \n",
      " 1   SUBSCRIBERS   31 non-null     int32         \n",
      " 2   VIDEO VIEWS   31 non-null     int32         \n",
      " 3   COUNTRY       31 non-null     object        \n",
      " 4   CHANNEL TYPE  29 non-null     object        \n",
      " 5   USER CREATED  31 non-null     datetime64[ns]\n",
      " 6   Gamer         31 non-null     object        \n",
      "dtypes: datetime64[ns](1), int32(3), object(3)\n",
      "memory usage: 1.5+ KB\n"
     ]
    }
   ],
   "source": [
    "nuevos_talentos.info()"
   ]
  },
  {
   "cell_type": "code",
   "execution_count": 169,
   "metadata": {},
   "outputs": [
    {
     "data": {
      "text/html": [
       "<div>\n",
       "<style scoped>\n",
       "    .dataframe tbody tr th:only-of-type {\n",
       "        vertical-align: middle;\n",
       "    }\n",
       "\n",
       "    .dataframe tbody tr th {\n",
       "        vertical-align: top;\n",
       "    }\n",
       "\n",
       "    .dataframe thead th {\n",
       "        text-align: right;\n",
       "    }\n",
       "</style>\n",
       "<table border=\"1\" class=\"dataframe\">\n",
       "  <thead>\n",
       "    <tr style=\"text-align: right;\">\n",
       "      <th></th>\n",
       "      <th>UPLOADS</th>\n",
       "      <th>SUBSCRIBERS</th>\n",
       "      <th>VIDEO VIEWS</th>\n",
       "      <th>COUNTRY</th>\n",
       "      <th>CHANNEL TYPE</th>\n",
       "      <th>USER CREATED</th>\n",
       "      <th>Gamer</th>\n",
       "    </tr>\n",
       "  </thead>\n",
       "  <tbody>\n",
       "    <tr>\n",
       "      <th>0</th>\n",
       "      <td>157</td>\n",
       "      <td>325000</td>\n",
       "      <td>17923614</td>\n",
       "      <td>ES</td>\n",
       "      <td>People</td>\n",
       "      <td>2017-03-08</td>\n",
       "      <td>Miquel Montoro</td>\n",
       "    </tr>\n",
       "    <tr>\n",
       "      <th>1</th>\n",
       "      <td>787</td>\n",
       "      <td>80300</td>\n",
       "      <td>5140984</td>\n",
       "      <td>VE</td>\n",
       "      <td>Games</td>\n",
       "      <td>2015-05-18</td>\n",
       "      <td>Jesús Castro</td>\n",
       "    </tr>\n",
       "    <tr>\n",
       "      <th>2</th>\n",
       "      <td>19</td>\n",
       "      <td>1570</td>\n",
       "      <td>154950</td>\n",
       "      <td>ES</td>\n",
       "      <td>Howto</td>\n",
       "      <td>2011-10-07</td>\n",
       "      <td>Lola Rodríguez</td>\n",
       "    </tr>\n",
       "    <tr>\n",
       "      <th>3</th>\n",
       "      <td>12</td>\n",
       "      <td>257000</td>\n",
       "      <td>4779325</td>\n",
       "      <td>ES</td>\n",
       "      <td>Comedy</td>\n",
       "      <td>2012-09-29</td>\n",
       "      <td>PabloGShow</td>\n",
       "    </tr>\n",
       "    <tr>\n",
       "      <th>4</th>\n",
       "      <td>3</td>\n",
       "      <td>2680</td>\n",
       "      <td>58003</td>\n",
       "      <td>ES</td>\n",
       "      <td>People</td>\n",
       "      <td>2010-05-24</td>\n",
       "      <td>Benji Verdes</td>\n",
       "    </tr>\n",
       "  </tbody>\n",
       "</table>\n",
       "</div>"
      ],
      "text/plain": [
       "   UPLOADS  SUBSCRIBERS  VIDEO VIEWS COUNTRY CHANNEL TYPE USER CREATED  \\\n",
       "0      157       325000     17923614      ES       People   2017-03-08   \n",
       "1      787        80300      5140984      VE        Games   2015-05-18   \n",
       "2       19         1570       154950      ES        Howto   2011-10-07   \n",
       "3       12       257000      4779325      ES       Comedy   2012-09-29   \n",
       "4        3         2680        58003      ES       People   2010-05-24   \n",
       "\n",
       "            Gamer  \n",
       "0  Miquel Montoro  \n",
       "1    Jesús Castro  \n",
       "2  Lola Rodríguez  \n",
       "3      PabloGShow  \n",
       "4    Benji Verdes  "
      ]
     },
     "execution_count": 169,
     "metadata": {},
     "output_type": "execute_result"
    }
   ],
   "source": [
    "nuevos_talentos.head()"
   ]
  },
  {
   "cell_type": "code",
   "execution_count": 167,
   "metadata": {},
   "outputs": [],
   "source": [
    "def clean_dataframe(df):\n",
    "    \n",
    "    # Eliminar los puntos de los valores en la columna \"UPLOADS\"\n",
    "    df['UPLOADS'] = df['UPLOADS'].str.replace(',', '').str.replace('.', '')\n",
    "    df['UPLOADS'] = df['UPLOADS'].astype(int)\n",
    "    \n",
    "    # Convertir la columna \"SUBSCRIBERS\" a tipo int\n",
    "    df[\"SUBSCRIBERS\"] = df[\"SUBSCRIBERS\"].apply(convert_to_numeric)\n",
    "    df[\"SUBSCRIBERS\"] = df[\"SUBSCRIBERS\"].astype(int)\n",
    "    \n",
    "    # Eliminar los puntos de los valores en la columna \"VIDEO VIEWS\"\n",
    "    df['VIDEO VIEWS'] = df['VIDEO VIEWS'].str.replace(',', '').str.replace('.', '')\n",
    "    df['VIDEO VIEWS'] = df['VIDEO VIEWS'].astype(int)\n",
    "    \n",
    "    # Reemplazar \"CHANNEL TYPE\" por \"Nn\" en la columna \"COUNTRY\"\n",
    "    df[\"COUNTRY\"].replace(\"CHANNEL TYPE\", \"Nn\", regex=True, inplace=True)\n",
    "    \n",
    "    # Convertir la columna \"USER CREATED\" a formato de tiempo\n",
    "    df[\"USER CREATED\"] = pd.to_datetime(df[\"USER CREATED\"])\n",
    "    \n",
    "    return df"
   ]
  },
  {
   "cell_type": "code",
   "execution_count": 168,
   "metadata": {},
   "outputs": [
    {
     "name": "stderr",
     "output_type": "stream",
     "text": [
      "C:\\Users\\GAMM\\AppData\\Local\\Temp\\ipykernel_19308\\234486186.py:4: FutureWarning: The default value of regex will change from True to False in a future version. In addition, single character regular expressions will *not* be treated as literal strings when regex=True.\n",
      "  df['UPLOADS'] = df['UPLOADS'].str.replace(',', '').str.replace('.', '')\n",
      "C:\\Users\\GAMM\\AppData\\Local\\Temp\\ipykernel_19308\\234486186.py:12: FutureWarning: The default value of regex will change from True to False in a future version. In addition, single character regular expressions will *not* be treated as literal strings when regex=True.\n",
      "  df['VIDEO VIEWS'] = df['VIDEO VIEWS'].str.replace(',', '').str.replace('.', '')\n"
     ]
    }
   ],
   "source": [
    "nuevos_talentos= clean_dataframe(nuevos_talentos)"
   ]
  },
  {
   "cell_type": "code",
   "execution_count": 176,
   "metadata": {},
   "outputs": [],
   "source": [
    "#guardamos el df limpio\n",
    "nuevos_talentos.to_csv(\"../data/data_cleaned/nuevos_talentos.csv\", index=False)"
   ]
  },
  {
   "attachments": {},
   "cell_type": "markdown",
   "metadata": {},
   "source": [
    "# Datos obtenidos del web scrapping"
   ]
  },
  {
   "attachments": {},
   "cell_type": "markdown",
   "metadata": {},
   "source": [
    "La tabla *top_gamers* hace referencia a los más importantes actualmente, por sus analíticas generales. AVG VIEWERS es una métrica que se usa para medir el rendimiento de las transmisiones en vivo en plataformas como Twitch o YouTube. Significa el número promedio de espectadores simultáneos que tiene una transmisión en un período de tiempo determinado123. Por ejemplo, si una transmisión tiene 100 espectadores al inicio, 200 al medio y 50 al final, el AVG VIEWERS sería (100 + 200 + 50) / 3 = 116.67."
   ]
  },
  {
   "cell_type": "code",
   "execution_count": 10,
   "metadata": {},
   "outputs": [],
   "source": [
    "top_gamers = top_streamers"
   ]
  },
  {
   "cell_type": "code",
   "execution_count": 12,
   "metadata": {},
   "outputs": [],
   "source": [
    "#borramos el indice mal guardado\n",
    "top_gamers.drop(columns=\"Unnamed: 0\", inplace=True)\n",
    "\n",
    "#borramos la columna hours que no hace nada\n",
    "top_gamers.drop(columns=\"Unnamed: 0\", inplace=True)\n",
    "\n",
    "#quitamos el más de la columna\n",
    "top_gamers[\"FOLLOWERS GAINED\"] = top_gamers[\"FOLLOWERS GAINED\"].str.replace(\"+\", \"\", regex=True)\n",
    "\n",
    "# Aplicar la función a la columna del DataFrame\n",
    "top_gamers[\"HOURS WATCHED\"] = top_gamers[\"HOURS WATCHED\"].apply(convert_to_numeric)\n",
    "\n",
    "# Aplicar la función a la columna del DataFrame\n",
    "top_gamers[\"FOLLOWERS GAINED\"] = top_gamers[\"FOLLOWERS GAINED\"].apply(convert_to_numeric)\n",
    "\n",
    "# Aplicar la función a la columna del DataFrame\n",
    "top_gamers[\"TOTAL VIEWS\"] = top_gamers[\"TOTAL VIEWS\"].apply(convert_to_numeric)\n",
    "\n",
    "# Aplicar la función a la columna del DataFrame\n",
    "top_gamers[\"TOTAL FOLLOWERS\"] = top_gamers[\"TOTAL FOLLOWERS\"].apply(convert_to_numeric)\n",
    "\n",
    "# Eliminar las comas de los valores\n",
    "top_gamers['AVG VIEWERS'] = top_gamers['AVG VIEWERS'].str.replace(',', '.')\n",
    "\n",
    "# Convertir la columna a tipo int\n",
    "top_gamers['AVG VIEWERS'] =top_gamers['AVG VIEWERS'].astype(float)\n",
    "\n",
    "# Convertir la columna a tipo int\n",
    "top_gamers['TOTAL FOLLOWERS'] = top_gamers['TOTAL FOLLOWERS'].astype(int)\n",
    "\n",
    "# Convertir la columna a tipo int\n",
    "top_gamers['TOTAL VIEWS'] = top_gamers['TOTAL VIEWS'].astype(int)\n",
    "\n",
    "# Eliminar los puntos de los valores\n",
    "top_gamers['ALL TIME PEAK VIEWERS'] = top_gamers['ALL TIME PEAK VIEWERS'].str.replace(',', '')\n",
    "\n",
    "# Eliminar los puntos de los valores\n",
    "top_gamers['ALL TIME PEAK VIEWERS']  = top_gamers['ALL TIME PEAK VIEWERS'] .str.replace('.', '')\n",
    "\n",
    "# Convertir la columna a tipo int\n",
    "top_gamers['ALL TIME PEAK VIEWERS'] = top_gamers['ALL TIME PEAK VIEWERS'].astype(int)\n",
    "\n",
    "#rellenamos los valores nulos con 0\n",
    "top_gamers['TOTAL VIEWS'] = top_gamers['TOTAL VIEWS'].fillna(0)\n",
    "\n",
    "# Convertir la columna a tipo int\n",
    "top_gamers['TOTAL FOLLOWERS'] = top_gamers['TOTAL FOLLOWERS'].astype(int)\n",
    "\n",
    "# Convertir la columna a tipo int\n",
    "top_gamers['TOTAL VIEWS'] = top_gamers['TOTAL VIEWS'].astype(int)\n",
    "\n",
    "# Convertir la columna a tipo int\n",
    "top_gamers['FOLLOWERS GAINED'] = top_gamers['FOLLOWERS GAINED'].astype(int)\n",
    "\n",
    "# Convertir la columna a tipo int\n",
    "top_gamers['RANK'] = top_gamers['RANK'].astype(int)"
   ]
  },
  {
   "cell_type": "code",
   "execution_count": 119,
   "metadata": {},
   "outputs": [
    {
     "name": "stdout",
     "output_type": "stream",
     "text": [
      "<class 'pandas.core.frame.DataFrame'>\n",
      "RangeIndex: 100 entries, 0 to 99\n",
      "Data columns (total 9 columns):\n",
      " #   Column                 Non-Null Count  Dtype  \n",
      "---  ------                 --------------  -----  \n",
      " 0   Gamer                  100 non-null    object \n",
      " 1   AVG VIEWERS            100 non-null    float64\n",
      " 2   TIME STREAMED(h)       100 non-null    float64\n",
      " 3   ALL TIME PEAK VIEWERS  100 non-null    int32  \n",
      " 4   HOURS WATCHED          100 non-null    float64\n",
      " 5   RANK                   100 non-null    int64  \n",
      " 6   FOLLOWERS GAINED       100 non-null    int32  \n",
      " 7   TOTAL FOLLOWERS        100 non-null    int32  \n",
      " 8   TOTAL VIEWS            100 non-null    int32  \n",
      "dtypes: float64(3), int32(4), int64(1), object(1)\n",
      "memory usage: 5.6+ KB\n"
     ]
    }
   ],
   "source": [
    "top_gamers.info()"
   ]
  },
  {
   "cell_type": "code",
   "execution_count": 36,
   "metadata": {},
   "outputs": [
    {
     "data": {
      "text/html": [
       "<div>\n",
       "<style scoped>\n",
       "    .dataframe tbody tr th:only-of-type {\n",
       "        vertical-align: middle;\n",
       "    }\n",
       "\n",
       "    .dataframe tbody tr th {\n",
       "        vertical-align: top;\n",
       "    }\n",
       "\n",
       "    .dataframe thead th {\n",
       "        text-align: right;\n",
       "    }\n",
       "</style>\n",
       "<table border=\"1\" class=\"dataframe\">\n",
       "  <thead>\n",
       "    <tr style=\"text-align: right;\">\n",
       "      <th></th>\n",
       "      <th>Gamer</th>\n",
       "      <th>AVG VIEWERS</th>\n",
       "      <th>TIME STREAMED(h)</th>\n",
       "      <th>ALL TIME PEAK VIEWERS</th>\n",
       "      <th>HOURS WATCHED</th>\n",
       "      <th>RANK</th>\n",
       "      <th>FOLLOWERS GAINED</th>\n",
       "      <th>TOTAL FOLLOWERS</th>\n",
       "      <th>TOTAL VIEWS</th>\n",
       "    </tr>\n",
       "  </thead>\n",
       "  <tbody>\n",
       "    <tr>\n",
       "      <th>0</th>\n",
       "      <td>KINGSLEAGUE</td>\n",
       "      <td>141.118</td>\n",
       "      <td>71.8</td>\n",
       "      <td>1098636</td>\n",
       "      <td>10100000.0</td>\n",
       "      <td>2</td>\n",
       "      <td>111000</td>\n",
       "      <td>2620000</td>\n",
       "      <td>446000</td>\n",
       "    </tr>\n",
       "    <tr>\n",
       "      <th>1</th>\n",
       "      <td>IBAI</td>\n",
       "      <td>62.765</td>\n",
       "      <td>112.7</td>\n",
       "      <td>3356074</td>\n",
       "      <td>7070000.0</td>\n",
       "      <td>6</td>\n",
       "      <td>84700</td>\n",
       "      <td>13100000</td>\n",
       "      <td>359000000</td>\n",
       "    </tr>\n",
       "    <tr>\n",
       "      <th>2</th>\n",
       "      <td>ILLOJUAN</td>\n",
       "      <td>39.495</td>\n",
       "      <td>125.7</td>\n",
       "      <td>172186</td>\n",
       "      <td>4960000.0</td>\n",
       "      <td>15</td>\n",
       "      <td>59200</td>\n",
       "      <td>3360000</td>\n",
       "      <td>72000000</td>\n",
       "    </tr>\n",
       "    <tr>\n",
       "      <th>3</th>\n",
       "      <td>AURONPLAY</td>\n",
       "      <td>43.589</td>\n",
       "      <td>89.6</td>\n",
       "      <td>602038</td>\n",
       "      <td>3900000.0</td>\n",
       "      <td>17</td>\n",
       "      <td>75900</td>\n",
       "      <td>15200000</td>\n",
       "      <td>263000000</td>\n",
       "    </tr>\n",
       "    <tr>\n",
       "      <th>4</th>\n",
       "      <td>ELMARIANA</td>\n",
       "      <td>34.584</td>\n",
       "      <td>95.7</td>\n",
       "      <td>128442</td>\n",
       "      <td>3310000.0</td>\n",
       "      <td>23</td>\n",
       "      <td>174000</td>\n",
       "      <td>7660000</td>\n",
       "      <td>33299999</td>\n",
       "    </tr>\n",
       "  </tbody>\n",
       "</table>\n",
       "</div>"
      ],
      "text/plain": [
       "         Gamer  AVG VIEWERS  TIME STREAMED(h)  ALL TIME PEAK VIEWERS  \\\n",
       "0  KINGSLEAGUE      141.118              71.8                1098636   \n",
       "1         IBAI       62.765             112.7                3356074   \n",
       "2     ILLOJUAN       39.495             125.7                 172186   \n",
       "3    AURONPLAY       43.589              89.6                 602038   \n",
       "4    ELMARIANA       34.584              95.7                 128442   \n",
       "\n",
       "   HOURS WATCHED  RANK  FOLLOWERS GAINED  TOTAL FOLLOWERS  TOTAL VIEWS  \n",
       "0     10100000.0     2            111000          2620000       446000  \n",
       "1      7070000.0     6             84700         13100000    359000000  \n",
       "2      4960000.0    15             59200          3360000     72000000  \n",
       "3      3900000.0    17             75900         15200000    263000000  \n",
       "4      3310000.0    23            174000          7660000     33299999  "
      ]
     },
     "execution_count": 36,
     "metadata": {},
     "output_type": "execute_result"
    }
   ],
   "source": [
    "top_gamers.head()"
   ]
  },
  {
   "cell_type": "code",
   "execution_count": null,
   "metadata": {},
   "outputs": [
    {
     "name": "stderr",
     "output_type": "stream",
     "text": [
      "C:\\Users\\GAMM\\AppData\\Local\\Temp\\ipykernel_26080\\2368753959.py:2: FutureWarning: The default value of regex will change from True to False in a future version. In addition, single character regular expressions will *not* be treated as literal strings when regex=True.\n",
      "  top_gamers['ALL TIME PEAK VIEWERS']  = top_gamers['ALL TIME PEAK VIEWERS'] .str.replace('.', '')\n"
     ]
    }
   ],
   "source": [
    "\n",
    "# Eliminar los puntos de los valores\n",
    "top_gamers['ALL TIME PEAK VIEWERS']  = top_gamers['ALL TIME PEAK VIEWERS'] .str.replace('.', '')\n",
    "\n",
    "# Convertir la columna a tipo int\n",
    "top_gamers['ALL TIME PEAK VIEWERS']  = top_gamers['ALL TIME PEAK VIEWERS'] .astype(int)"
   ]
  },
  {
   "cell_type": "code",
   "execution_count": 177,
   "metadata": {},
   "outputs": [],
   "source": [
    "#guardamos el df limpio\n",
    "top_gamers.to_csv(\"../data/data_cleaned/top_gamers.csv\", index=False)"
   ]
  },
  {
   "attachments": {},
   "cell_type": "markdown",
   "metadata": {},
   "source": [
    "STREAMERS_WITH_THE_MOST_VIEWERS la tabla de Ranked by average concurrent viewers for the last 30 days, June 2023, Spanish language que tiene los gamers con más visulizadores"
   ]
  },
  {
   "cell_type": "code",
   "execution_count": 82,
   "metadata": {},
   "outputs": [
    {
     "name": "stdout",
     "output_type": "stream",
     "text": [
      "<class 'pandas.core.frame.DataFrame'>\n",
      "RangeIndex: 100 entries, 0 to 99\n",
      "Data columns (total 11 columns):\n",
      " #   Column                 Non-Null Count  Dtype  \n",
      "---  ------                 --------------  -----  \n",
      " 0   Unnamed: 0             100 non-null    int64  \n",
      " 1   Gamer                  100 non-null    object \n",
      " 2   AVG VIEWERS            100 non-null    object \n",
      " 3   TIME STREAMED(h)       100 non-null    float64\n",
      " 4   hours                  100 non-null    object \n",
      " 5   ALL TIME PEAK VIEWERS  100 non-null    object \n",
      " 6   HOURS WATCHED          100 non-null    object \n",
      " 7   RANK                   100 non-null    object \n",
      " 8   FOLLOWERS GAINED       100 non-null    object \n",
      " 9   TOTAL FOLLOWERS        100 non-null    object \n",
      " 10  TOTAL VIEWS            100 non-null    object \n",
      "dtypes: float64(1), int64(1), object(9)\n",
      "memory usage: 8.7+ KB\n"
     ]
    }
   ],
   "source": [
    "STREAMERS_WITH_THE_MOST_VIEWERS = pd.read_csv(\"../data/STREAMERS_WITH_THE_MOST_VIEWERS\")\n"
   ]
  },
  {
   "cell_type": "code",
   "execution_count": 126,
   "metadata": {},
   "outputs": [
    {
     "name": "stdout",
     "output_type": "stream",
     "text": [
      "<class 'pandas.core.frame.DataFrame'>\n",
      "RangeIndex: 100 entries, 0 to 99\n",
      "Data columns (total 9 columns):\n",
      " #   Column                 Non-Null Count  Dtype  \n",
      "---  ------                 --------------  -----  \n",
      " 0   Gamer                  100 non-null    object \n",
      " 1   AVG VIEWERS            100 non-null    float64\n",
      " 2   TIME STREAMED(h)       100 non-null    float64\n",
      " 3   ALL TIME PEAK VIEWERS  100 non-null    int32  \n",
      " 4   HOURS WATCHED          100 non-null    float64\n",
      " 5   RANK                   100 non-null    int32  \n",
      " 6   FOLLOWERS GAINED       100 non-null    int32  \n",
      " 7   TOTAL FOLLOWERS        100 non-null    int32  \n",
      " 8   TOTAL VIEWS            100 non-null    int32  \n",
      "dtypes: float64(3), int32(5), object(1)\n",
      "memory usage: 5.2+ KB\n"
     ]
    }
   ],
   "source": [
    "STREAMERS_WITH_THE_MOST_VIEWERS.info()"
   ]
  },
  {
   "cell_type": "code",
   "execution_count": 125,
   "metadata": {},
   "outputs": [
    {
     "data": {
      "text/html": [
       "<div>\n",
       "<style scoped>\n",
       "    .dataframe tbody tr th:only-of-type {\n",
       "        vertical-align: middle;\n",
       "    }\n",
       "\n",
       "    .dataframe tbody tr th {\n",
       "        vertical-align: top;\n",
       "    }\n",
       "\n",
       "    .dataframe thead th {\n",
       "        text-align: right;\n",
       "    }\n",
       "</style>\n",
       "<table border=\"1\" class=\"dataframe\">\n",
       "  <thead>\n",
       "    <tr style=\"text-align: right;\">\n",
       "      <th></th>\n",
       "      <th>Gamer</th>\n",
       "      <th>AVG VIEWERS</th>\n",
       "      <th>TIME STREAMED(h)</th>\n",
       "      <th>ALL TIME PEAK VIEWERS</th>\n",
       "      <th>HOURS WATCHED</th>\n",
       "      <th>RANK</th>\n",
       "      <th>FOLLOWERS GAINED</th>\n",
       "      <th>TOTAL FOLLOWERS</th>\n",
       "      <th>TOTAL VIEWS</th>\n",
       "    </tr>\n",
       "  </thead>\n",
       "  <tbody>\n",
       "    <tr>\n",
       "      <th>0</th>\n",
       "      <td>KINGSLEAGUE</td>\n",
       "      <td>137.466</td>\n",
       "      <td>81.8</td>\n",
       "      <td>1098636</td>\n",
       "      <td>11200000.0</td>\n",
       "      <td>1</td>\n",
       "      <td>124000</td>\n",
       "      <td>2640000</td>\n",
       "      <td>446000</td>\n",
       "    </tr>\n",
       "    <tr>\n",
       "      <th>1</th>\n",
       "      <td>IBAI</td>\n",
       "      <td>58.934</td>\n",
       "      <td>111.3</td>\n",
       "      <td>3356074</td>\n",
       "      <td>6560000.0</td>\n",
       "      <td>7</td>\n",
       "      <td>80200</td>\n",
       "      <td>13100000</td>\n",
       "      <td>359000000</td>\n",
       "    </tr>\n",
       "    <tr>\n",
       "      <th>2</th>\n",
       "      <td>AURONPLAY</td>\n",
       "      <td>43.448</td>\n",
       "      <td>90.9</td>\n",
       "      <td>602038</td>\n",
       "      <td>3950000.0</td>\n",
       "      <td>18</td>\n",
       "      <td>76400</td>\n",
       "      <td>15200000</td>\n",
       "      <td>263000000</td>\n",
       "    </tr>\n",
       "    <tr>\n",
       "      <th>3</th>\n",
       "      <td>ILLOJUAN</td>\n",
       "      <td>40.312</td>\n",
       "      <td>118.6</td>\n",
       "      <td>172186</td>\n",
       "      <td>4780000.0</td>\n",
       "      <td>16</td>\n",
       "      <td>55700</td>\n",
       "      <td>3360000</td>\n",
       "      <td>72000000</td>\n",
       "    </tr>\n",
       "    <tr>\n",
       "      <th>4</th>\n",
       "      <td>QUACKITYTOO</td>\n",
       "      <td>39.359</td>\n",
       "      <td>13.9</td>\n",
       "      <td>140697</td>\n",
       "      <td>547000.0</td>\n",
       "      <td>56</td>\n",
       "      <td>70300</td>\n",
       "      <td>4210000</td>\n",
       "      <td>3510000</td>\n",
       "    </tr>\n",
       "  </tbody>\n",
       "</table>\n",
       "</div>"
      ],
      "text/plain": [
       "         Gamer  AVG VIEWERS  TIME STREAMED(h)  ALL TIME PEAK VIEWERS  \\\n",
       "0  KINGSLEAGUE      137.466              81.8                1098636   \n",
       "1         IBAI       58.934             111.3                3356074   \n",
       "2    AURONPLAY       43.448              90.9                 602038   \n",
       "3     ILLOJUAN       40.312             118.6                 172186   \n",
       "4  QUACKITYTOO       39.359              13.9                 140697   \n",
       "\n",
       "   HOURS WATCHED  RANK  FOLLOWERS GAINED  TOTAL FOLLOWERS  TOTAL VIEWS  \n",
       "0     11200000.0     1            124000          2640000       446000  \n",
       "1      6560000.0     7             80200         13100000    359000000  \n",
       "2      3950000.0    18             76400         15200000    263000000  \n",
       "3      4780000.0    16             55700          3360000     72000000  \n",
       "4       547000.0    56             70300          4210000      3510000  "
      ]
     },
     "execution_count": 125,
     "metadata": {},
     "output_type": "execute_result"
    }
   ],
   "source": [
    "STREAMERS_WITH_THE_MOST_VIEWERS.head()"
   ]
  },
  {
   "cell_type": "code",
   "execution_count": 84,
   "metadata": {},
   "outputs": [],
   "source": [
    "\n",
    "# Borramos el índice mal guardado\n",
    "STREAMERS_WITH_THE_MOST_VIEWERS.drop(columns=\"Unnamed: 0\", inplace=True)\n",
    "\n",
    "# Borramos la columna \"hours\" que no hace nada\n",
    "STREAMERS_WITH_THE_MOST_VIEWERS.drop(columns=\"hours\", inplace=True)\n",
    "\n",
    "# Quitamos el \"+\" de la columna \"FOLLOWERS GAINED\"\n",
    "STREAMERS_WITH_THE_MOST_VIEWERS[\"FOLLOWERS GAINED\"] = STREAMERS_WITH_THE_MOST_VIEWERS[\"FOLLOWERS GAINED\"].str.replace(\"+\", \"\", regex=True)\n",
    "\n",
    "# Aplicar la función a la columna \"HOURS WATCHED\"\n",
    "STREAMERS_WITH_THE_MOST_VIEWERS[\"HOURS WATCHED\"] = STREAMERS_WITH_THE_MOST_VIEWERS[\"HOURS WATCHED\"].apply(convert_to_numeric)\n",
    "\n",
    "# Aplicar la función a la columna \"FOLLOWERS GAINED\"\n",
    "STREAMERS_WITH_THE_MOST_VIEWERS[\"FOLLOWERS GAINED\"] = STREAMERS_WITH_THE_MOST_VIEWERS[\"FOLLOWERS GAINED\"].apply(convert_to_numeric)\n",
    "\n",
    "# Aplicar la función a la columna \"TOTAL VIEWS\"\n",
    "STREAMERS_WITH_THE_MOST_VIEWERS[\"TOTAL VIEWS\"] = STREAMERS_WITH_THE_MOST_VIEWERS[\"TOTAL VIEWS\"].apply(convert_to_numeric)\n",
    "\n",
    "# Aplicar la función a la columna \"TOTAL FOLLOWERS\"\n",
    "STREAMERS_WITH_THE_MOST_VIEWERS[\"TOTAL FOLLOWERS\"] = STREAMERS_WITH_THE_MOST_VIEWERS[\"TOTAL FOLLOWERS\"].apply(convert_to_numeric)\n",
    "\n",
    "# Eliminar las comas de los valores en \"AVG VIEWERS\"\n",
    "STREAMERS_WITH_THE_MOST_VIEWERS['AVG VIEWERS'] = STREAMERS_WITH_THE_MOST_VIEWERS['AVG VIEWERS'].str.replace(',', '.')\n",
    "\n",
    "# Convertir la columna \"AVG VIEWERS\" a tipo float\n",
    "STREAMERS_WITH_THE_MOST_VIEWERS['AVG VIEWERS'] = STREAMERS_WITH_THE_MOST_VIEWERS['AVG VIEWERS'].astype(float)\n",
    "\n",
    "# Rellenar los valores nulos en \"TOTAL VIEWS\" con 0\n",
    "STREAMERS_WITH_THE_MOST_VIEWERS['TOTAL VIEWS'] = STREAMERS_WITH_THE_MOST_VIEWERS['TOTAL VIEWS'].fillna(0)\n",
    "\n",
    "# Convertir las columnas \"TOTAL FOLLOWERS\" y \"TOTAL VIEWS\" a tipo int\n",
    "STREAMERS_WITH_THE_MOST_VIEWERS['TOTAL FOLLOWERS'] = STREAMERS_WITH_THE_MOST_VIEWERS['TOTAL FOLLOWERS'].astype(int)\n",
    "STREAMERS_WITH_THE_MOST_VIEWERS['TOTAL VIEWS'] = STREAMERS_WITH_THE_MOST_VIEWERS['TOTAL VIEWS'].astype(int)\n",
    "\n",
    "# Eliminar los puntos de los valores\n",
    "STREAMERS_WITH_THE_MOST_VIEWERS['ALL TIME PEAK VIEWERS'] = STREAMERS_WITH_THE_MOST_VIEWERS['ALL TIME PEAK VIEWERS'].str.replace(',', '')\n",
    "\n",
    "# Eliminar los puntos de los valores\n",
    "STREAMERS_WITH_THE_MOST_VIEWERS['ALL TIME PEAK VIEWERS']  = STREAMERS_WITH_THE_MOST_VIEWERS['ALL TIME PEAK VIEWERS'] .str.replace('.', '')\n",
    "\n",
    "# Convertir la columna a tipo int\n",
    "STREAMERS_WITH_THE_MOST_VIEWERS['ALL TIME PEAK VIEWERS'] = STREAMERS_WITH_THE_MOST_VIEWERS['ALL TIME PEAK VIEWERS'].astype(int)\n",
    "\n",
    "# Rellenar los valores nulos en \"TOTAL VIEWS\" con 0\n",
    "STREAMERS_WITH_THE_MOST_VIEWERS['TOTAL VIEWS'] = STREAMERS_WITH_THE_MOST_VIEWERS['TOTAL VIEWS'].fillna(0)\n",
    "\n",
    "# Convertir la columna a tipo int\n",
    "STREAMERS_WITH_THE_MOST_VIEWERS['FOLLOWERS GAINED'] = STREAMERS_WITH_THE_MOST_VIEWERS['FOLLOWERS GAINED'].astype(int)\n",
    "\n",
    "# Eliminar los puntos de los valores\n",
    "STREAMERS_WITH_THE_MOST_VIEWERS['RANK'] = STREAMERS_WITH_THE_MOST_VIEWERS['RANK'].str.replace(',', '')\n",
    "\n",
    "# Convertir la columna a tipo int\n",
    "STREAMERS_WITH_THE_MOST_VIEWERS['RANK'] = STREAMERS_WITH_THE_MOST_VIEWERS['RANK'].astype(int)"
   ]
  },
  {
   "cell_type": "code",
   "execution_count": 178,
   "metadata": {},
   "outputs": [],
   "source": [
    "#guardamos el df limpio\n",
    "STREAMERS_WITH_THE_MOST_VIEWERS.to_csv(\"../data/data_cleaned/STREAMERS_WITH_THE_MOST_VIEWERS.csv\", index=False)"
   ]
  },
  {
   "attachments": {},
   "cell_type": "markdown",
   "metadata": {},
   "source": [
    "STREAMERS_WITH_THE_FASTEST_GROWING_NUMBER_OF_FOLLOWERS Ranked by the number of followers gained for the last 30 days, June 2023, Spanish language"
   ]
  },
  {
   "cell_type": "code",
   "execution_count": 181,
   "metadata": {},
   "outputs": [],
   "source": [
    "STREAMERS_WITH_THE_FASTEST_GROWING_NUMBER_OF_FOLLOWERS = pd.read_csv(\"../data/STREAMERS_WITH_THE_FASTEST_GROWING_NUMBER_OF_FOLLOWERS\") "
   ]
  },
  {
   "cell_type": "code",
   "execution_count": 189,
   "metadata": {},
   "outputs": [
    {
     "name": "stdout",
     "output_type": "stream",
     "text": [
      "<class 'pandas.core.frame.DataFrame'>\n",
      "RangeIndex: 100 entries, 0 to 99\n",
      "Data columns (total 9 columns):\n",
      " #   Column                 Non-Null Count  Dtype  \n",
      "---  ------                 --------------  -----  \n",
      " 0   Gamer                  100 non-null    object \n",
      " 1   AVG VIEWERS            100 non-null    float64\n",
      " 2   TIME STREAMED(h)       100 non-null    float64\n",
      " 3   ALL TIME PEAK VIEWERS  100 non-null    int32  \n",
      " 4   HOURS WATCHED          100 non-null    float64\n",
      " 5   RANK                   100 non-null    int32  \n",
      " 6   FOLLOWERS GAINED       100 non-null    int32  \n",
      " 7   TOTAL FOLLOWERS        100 non-null    int32  \n",
      " 8   TOTAL VIEWS            100 non-null    int32  \n",
      "dtypes: float64(3), int32(5), object(1)\n",
      "memory usage: 5.2+ KB\n"
     ]
    }
   ],
   "source": [
    "STREAMERS_WITH_THE_FASTEST_GROWING_NUMBER_OF_FOLLOWERS.info()"
   ]
  },
  {
   "cell_type": "code",
   "execution_count": 192,
   "metadata": {},
   "outputs": [
    {
     "data": {
      "text/html": [
       "<div>\n",
       "<style scoped>\n",
       "    .dataframe tbody tr th:only-of-type {\n",
       "        vertical-align: middle;\n",
       "    }\n",
       "\n",
       "    .dataframe tbody tr th {\n",
       "        vertical-align: top;\n",
       "    }\n",
       "\n",
       "    .dataframe thead th {\n",
       "        text-align: right;\n",
       "    }\n",
       "</style>\n",
       "<table border=\"1\" class=\"dataframe\">\n",
       "  <thead>\n",
       "    <tr style=\"text-align: right;\">\n",
       "      <th></th>\n",
       "      <th>Gamer</th>\n",
       "      <th>AVG VIEWERS</th>\n",
       "      <th>TIME STREAMED(h)</th>\n",
       "      <th>ALL TIME PEAK VIEWERS</th>\n",
       "      <th>HOURS WATCHED</th>\n",
       "      <th>RANK</th>\n",
       "      <th>FOLLOWERS GAINED</th>\n",
       "      <th>TOTAL FOLLOWERS</th>\n",
       "      <th>TOTAL VIEWS</th>\n",
       "    </tr>\n",
       "  </thead>\n",
       "  <tbody>\n",
       "    <tr>\n",
       "      <th>0</th>\n",
       "      <td>ELMARIANA</td>\n",
       "      <td>35.284</td>\n",
       "      <td>89.7</td>\n",
       "      <td>128442</td>\n",
       "      <td>3160000.0</td>\n",
       "      <td>23</td>\n",
       "      <td>163000</td>\n",
       "      <td>7660000</td>\n",
       "      <td>33299999</td>\n",
       "    </tr>\n",
       "    <tr>\n",
       "      <th>1</th>\n",
       "      <td>RIVERS_GG</td>\n",
       "      <td>20.381</td>\n",
       "      <td>83.3</td>\n",
       "      <td>163821</td>\n",
       "      <td>1700000.0</td>\n",
       "      <td>79</td>\n",
       "      <td>162000</td>\n",
       "      <td>3830000</td>\n",
       "      <td>4560000</td>\n",
       "    </tr>\n",
       "    <tr>\n",
       "      <th>2</th>\n",
       "      <td>ROIER</td>\n",
       "      <td>21.252</td>\n",
       "      <td>104.2</td>\n",
       "      <td>300741</td>\n",
       "      <td>2210000.0</td>\n",
       "      <td>62</td>\n",
       "      <td>124000</td>\n",
       "      <td>1830000</td>\n",
       "      <td>3270000</td>\n",
       "    </tr>\n",
       "    <tr>\n",
       "      <th>3</th>\n",
       "      <td>KINGSLEAGUE</td>\n",
       "      <td>137.466</td>\n",
       "      <td>81.8</td>\n",
       "      <td>1098636</td>\n",
       "      <td>11200000.0</td>\n",
       "      <td>1</td>\n",
       "      <td>124000</td>\n",
       "      <td>2640000</td>\n",
       "      <td>446000</td>\n",
       "    </tr>\n",
       "    <tr>\n",
       "      <th>4</th>\n",
       "      <td>ELSPREEN</td>\n",
       "      <td>35.532</td>\n",
       "      <td>52.4</td>\n",
       "      <td>403954</td>\n",
       "      <td>1860000.0</td>\n",
       "      <td>38</td>\n",
       "      <td>99000</td>\n",
       "      <td>7770000</td>\n",
       "      <td>32900000</td>\n",
       "    </tr>\n",
       "  </tbody>\n",
       "</table>\n",
       "</div>"
      ],
      "text/plain": [
       "         Gamer  AVG VIEWERS  TIME STREAMED(h)  ALL TIME PEAK VIEWERS  \\\n",
       "0    ELMARIANA       35.284              89.7                 128442   \n",
       "1    RIVERS_GG       20.381              83.3                 163821   \n",
       "2        ROIER       21.252             104.2                 300741   \n",
       "3  KINGSLEAGUE      137.466              81.8                1098636   \n",
       "4     ELSPREEN       35.532              52.4                 403954   \n",
       "\n",
       "   HOURS WATCHED  RANK  FOLLOWERS GAINED  TOTAL FOLLOWERS  TOTAL VIEWS  \n",
       "0      3160000.0    23            163000          7660000     33299999  \n",
       "1      1700000.0    79            162000          3830000      4560000  \n",
       "2      2210000.0    62            124000          1830000      3270000  \n",
       "3     11200000.0     1            124000          2640000       446000  \n",
       "4      1860000.0    38             99000          7770000     32900000  "
      ]
     },
     "execution_count": 192,
     "metadata": {},
     "output_type": "execute_result"
    }
   ],
   "source": [
    "STREAMERS_WITH_THE_FASTEST_GROWING_NUMBER_OF_FOLLOWERS.head()"
   ]
  },
  {
   "cell_type": "code",
   "execution_count": 185,
   "metadata": {},
   "outputs": [
    {
     "name": "stderr",
     "output_type": "stream",
     "text": [
      "C:\\Users\\GAMM\\AppData\\Local\\Temp\\ipykernel_19308\\620536498.py:42: FutureWarning: The default value of regex will change from True to False in a future version. In addition, single character regular expressions will *not* be treated as literal strings when regex=True.\n",
      "  df['ALL TIME PEAK VIEWERS']  = df['ALL TIME PEAK VIEWERS'] .str.replace('.', '')\n"
     ]
    }
   ],
   "source": [
    "STREAMERS_WITH_THE_FASTEST_GROWING_NUMBER_OF_FOLLOWERS = clean_streamers_data(STREAMERS_WITH_THE_FASTEST_GROWING_NUMBER_OF_FOLLOWERS)\n"
   ]
  },
  {
   "cell_type": "code",
   "execution_count": 193,
   "metadata": {},
   "outputs": [],
   "source": [
    "#guardamos el df limpio\n",
    "STREAMERS_WITH_THE_FASTEST_GROWING_NUMBER_OF_FOLLOWERS.to_csv(\"../data/data_cleaned/STREAMERS_WITH_THE_FASTEST_GROWING_NUMBER_OF_FOLLOWERS.csv\", index=False)"
   ]
  },
  {
   "attachments": {},
   "cell_type": "markdown",
   "metadata": {},
   "source": [
    "La tabla *streamers_top* hace referencia a los gamers que más están siendo visualizados esta semana y los juegos que están jugando"
   ]
  },
  {
   "cell_type": "code",
   "execution_count": 65,
   "metadata": {},
   "outputs": [
    {
     "name": "stdout",
     "output_type": "stream",
     "text": [
      "<class 'pandas.core.frame.DataFrame'>\n",
      "Int64Index: 100 entries, 0 to 102\n",
      "Data columns (total 7 columns):\n",
      " #   Column                            Non-Null Count  Dtype  \n",
      "---  ------                            --------------  -----  \n",
      " 0   Rank                              100 non-null    int32  \n",
      " 1   Gamer                             100 non-null    object \n",
      " 2   Category                          100 non-null    object \n",
      " 3   Number of Viewers                 100 non-null    int32  \n",
      " 4   Percentage of Viewers             100 non-null    float64\n",
      " 5   Game                              100 non-null    object \n",
      " 6   Percentage Of Spanish viewership  100 non-null    float64\n",
      "dtypes: float64(2), int32(2), object(3)\n",
      "memory usage: 5.5+ KB\n"
     ]
    }
   ],
   "source": [
    "streamers_top.info()"
   ]
  },
  {
   "cell_type": "code",
   "execution_count": 66,
   "metadata": {},
   "outputs": [
    {
     "data": {
      "text/html": [
       "<div>\n",
       "<style scoped>\n",
       "    .dataframe tbody tr th:only-of-type {\n",
       "        vertical-align: middle;\n",
       "    }\n",
       "\n",
       "    .dataframe tbody tr th {\n",
       "        vertical-align: top;\n",
       "    }\n",
       "\n",
       "    .dataframe thead th {\n",
       "        text-align: right;\n",
       "    }\n",
       "</style>\n",
       "<table border=\"1\" class=\"dataframe\">\n",
       "  <thead>\n",
       "    <tr style=\"text-align: right;\">\n",
       "      <th></th>\n",
       "      <th>Rank</th>\n",
       "      <th>Gamer</th>\n",
       "      <th>Category</th>\n",
       "      <th>Number of Viewers</th>\n",
       "      <th>Percentage of Viewers</th>\n",
       "      <th>Game</th>\n",
       "      <th>Percentage Of Spanish viewership</th>\n",
       "    </tr>\n",
       "  </thead>\n",
       "  <tbody>\n",
       "    <tr>\n",
       "      <th>0</th>\n",
       "      <td>1</td>\n",
       "      <td>KINGSLEAGUE</td>\n",
       "      <td>Sports</td>\n",
       "      <td>52347</td>\n",
       "      <td>0.3862</td>\n",
       "      <td>Sports</td>\n",
       "      <td>0.2012</td>\n",
       "    </tr>\n",
       "    <tr>\n",
       "      <th>1</th>\n",
       "      <td>2</td>\n",
       "      <td>IBAI</td>\n",
       "      <td>Sports</td>\n",
       "      <td>31219</td>\n",
       "      <td>0.2303</td>\n",
       "      <td>Sports</td>\n",
       "      <td>0.1200</td>\n",
       "    </tr>\n",
       "    <tr>\n",
       "      <th>2</th>\n",
       "      <td>3</td>\n",
       "      <td>RIVERS_GG</td>\n",
       "      <td>Sports</td>\n",
       "      <td>25840</td>\n",
       "      <td>0.1906</td>\n",
       "      <td>Sports</td>\n",
       "      <td>0.0993</td>\n",
       "    </tr>\n",
       "    <tr>\n",
       "      <th>3</th>\n",
       "      <td>4</td>\n",
       "      <td>ELXOKAS</td>\n",
       "      <td>Diablo IV</td>\n",
       "      <td>8592</td>\n",
       "      <td>0.0186</td>\n",
       "      <td>Diablo IV</td>\n",
       "      <td>0.0330</td>\n",
       "    </tr>\n",
       "    <tr>\n",
       "      <th>4</th>\n",
       "      <td>5</td>\n",
       "      <td>MUNDODEPORTIVO</td>\n",
       "      <td>Special Events</td>\n",
       "      <td>6550</td>\n",
       "      <td>0.6180</td>\n",
       "      <td>Special Events</td>\n",
       "      <td>0.0252</td>\n",
       "    </tr>\n",
       "  </tbody>\n",
       "</table>\n",
       "</div>"
      ],
      "text/plain": [
       "   Rank           Gamer        Category  Number of Viewers  \\\n",
       "0     1     KINGSLEAGUE          Sports              52347   \n",
       "1     2            IBAI          Sports              31219   \n",
       "2     3       RIVERS_GG          Sports              25840   \n",
       "3     4         ELXOKAS       Diablo IV               8592   \n",
       "4     5  MUNDODEPORTIVO  Special Events               6550   \n",
       "\n",
       "   Percentage of Viewers             Game  Percentage Of Spanish viewership  \n",
       "0                 0.3862           Sports                            0.2012  \n",
       "1                 0.2303           Sports                            0.1200  \n",
       "2                 0.1906           Sports                            0.0993  \n",
       "3                 0.0186        Diablo IV                            0.0330  \n",
       "4                 0.6180   Special Events                            0.0252  "
      ]
     },
     "execution_count": 66,
     "metadata": {},
     "output_type": "execute_result"
    }
   ],
   "source": [
    "streamers_top.head()"
   ]
  },
  {
   "cell_type": "code",
   "execution_count": 40,
   "metadata": {},
   "outputs": [],
   "source": [
    "#borramos el indice mal guardado\n",
    "streamers_top.drop(columns=\"Unnamed: 0\", inplace=True)\n",
    "\n",
    "#quitamos el más de la columna\n",
    "streamers_top[\"Rank\"] = streamers_top[\"Rank\"].str.replace(\"#\", \"\", regex=True)\n",
    "\n",
    "#borramos las filas que no tenían información\n",
    "streamers_top.drop([40, 61, 82], inplace=True)\n",
    "\n",
    "# Convertir la columna a tipo int\n",
    "streamers_top['Rank'] = streamers_top['Rank'].astype(int)\n",
    "\n",
    "# Convertir la columna a tipo int\n",
    "streamers_top['Number of Viewers'] = streamers_top['Number of Viewers'].astype(int)\n",
    "\n",
    "#convertimos las columnas de porcentajes a valores decimales\n",
    "\n",
    "streamers_top[\"Percentage of Viewers\"] = streamers_top[\"Percentage of Viewers\"].apply(convert_percentage_to_float)\n",
    "\n",
    "streamers_top[\"Percentage Of Spanish viewership\"] = streamers_top[\"Percentage Of Spanish viewership\"].apply(convert_percentage_to_float)"
   ]
  },
  {
   "cell_type": "code",
   "execution_count": 179,
   "metadata": {},
   "outputs": [],
   "source": [
    "#guardamos el df limpio\n",
    "streamers_top.to_csv(\"../data/data_cleaned/streamers_top.csv\", index=False)"
   ]
  },
  {
   "attachments": {},
   "cell_type": "markdown",
   "metadata": {},
   "source": [
    "Y la tabla de *juegos_mas_vistos* hace referencia al top de los cien juegos más vistos actualmente"
   ]
  },
  {
   "cell_type": "code",
   "execution_count": 77,
   "metadata": {},
   "outputs": [
    {
     "data": {
      "text/html": [
       "<div>\n",
       "<style scoped>\n",
       "    .dataframe tbody tr th:only-of-type {\n",
       "        vertical-align: middle;\n",
       "    }\n",
       "\n",
       "    .dataframe tbody tr th {\n",
       "        vertical-align: top;\n",
       "    }\n",
       "\n",
       "    .dataframe thead th {\n",
       "        text-align: right;\n",
       "    }\n",
       "</style>\n",
       "<table border=\"1\" class=\"dataframe\">\n",
       "  <thead>\n",
       "    <tr style=\"text-align: right;\">\n",
       "      <th></th>\n",
       "      <th>Game</th>\n",
       "      <th>Viewers</th>\n",
       "      <th>Change</th>\n",
       "      <th>Global Share</th>\n",
       "    </tr>\n",
       "  </thead>\n",
       "  <tbody>\n",
       "    <tr>\n",
       "      <th>0</th>\n",
       "      <td>Diablo IV</td>\n",
       "      <td>476000</td>\n",
       "      <td>0.010</td>\n",
       "      <td>0.14833</td>\n",
       "    </tr>\n",
       "    <tr>\n",
       "      <th>1</th>\n",
       "      <td>Just Chatting</td>\n",
       "      <td>327000</td>\n",
       "      <td>0.022</td>\n",
       "      <td>0.10184</td>\n",
       "    </tr>\n",
       "    <tr>\n",
       "      <th>2</th>\n",
       "      <td>League of Legends</td>\n",
       "      <td>217000</td>\n",
       "      <td>0.037</td>\n",
       "      <td>0.06754</td>\n",
       "    </tr>\n",
       "    <tr>\n",
       "      <th>3</th>\n",
       "      <td>Counter-Strike: Global Offensive</td>\n",
       "      <td>188000</td>\n",
       "      <td>0.060</td>\n",
       "      <td>0.05864</td>\n",
       "    </tr>\n",
       "    <tr>\n",
       "      <th>4</th>\n",
       "      <td>VALORANT</td>\n",
       "      <td>143000</td>\n",
       "      <td>0.072</td>\n",
       "      <td>0.04457</td>\n",
       "    </tr>\n",
       "  </tbody>\n",
       "</table>\n",
       "</div>"
      ],
      "text/plain": [
       "                               Game  Viewers  Change  Global Share\n",
       "0                         Diablo IV   476000   0.010       0.14833\n",
       "1                     Just Chatting   327000   0.022       0.10184\n",
       "2                 League of Legends   217000   0.037       0.06754\n",
       "3  Counter-Strike: Global Offensive   188000   0.060       0.05864\n",
       "4                          VALORANT   143000   0.072       0.04457"
      ]
     },
     "execution_count": 77,
     "metadata": {},
     "output_type": "execute_result"
    }
   ],
   "source": [
    "juegos_mas_vistos.head()"
   ]
  },
  {
   "cell_type": "code",
   "execution_count": 68,
   "metadata": {},
   "outputs": [],
   "source": [
    "#convertimos las columnas de porcentajes a valores decimales\n",
    "\n",
    "juegos_mas_vistos[\"Change\"] = juegos_mas_vistos[\"Change\"].apply(convert_percentage_to_float)\n",
    "\n",
    "juegos_mas_vistos[\"Global Share\"] = juegos_mas_vistos[\"Global Share\"].apply(convert_percentage_to_float)\n",
    "\n",
    "#convertimos a números la columna de visualizaciones\n",
    "juegos_mas_vistos[\"Viewers\"] = juegos_mas_vistos[\"Viewers\"].apply(convert_to_numeric)\n",
    "\n",
    "# Convertir la columna a tipo int\n",
    "juegos_mas_vistos[\"Viewers\"] = juegos_mas_vistos[\"Viewers\"].astype(int)"
   ]
  },
  {
   "cell_type": "code",
   "execution_count": 76,
   "metadata": {},
   "outputs": [
    {
     "name": "stdout",
     "output_type": "stream",
     "text": [
      "<class 'pandas.core.frame.DataFrame'>\n",
      "RangeIndex: 100 entries, 0 to 99\n",
      "Data columns (total 4 columns):\n",
      " #   Column        Non-Null Count  Dtype  \n",
      "---  ------        --------------  -----  \n",
      " 0   Game          100 non-null    object \n",
      " 1   Viewers       100 non-null    int32  \n",
      " 2   Change        100 non-null    float64\n",
      " 3   Global Share  100 non-null    float64\n",
      "dtypes: float64(2), int32(1), object(1)\n",
      "memory usage: 2.9+ KB\n"
     ]
    }
   ],
   "source": [
    "juegos_mas_vistos.info()"
   ]
  },
  {
   "cell_type": "code",
   "execution_count": 180,
   "metadata": {},
   "outputs": [],
   "source": [
    "#guardamos el df limpio\n",
    "juegos_mas_vistos.to_csv(\"../data/data_cleaned/juegos_mas_vistos.csv\", index=False)"
   ]
  }
 ],
 "metadata": {
  "kernelspec": {
   "display_name": "base",
   "language": "python",
   "name": "python3"
  },
  "language_info": {
   "codemirror_mode": {
    "name": "ipython",
    "version": 3
   },
   "file_extension": ".py",
   "mimetype": "text/x-python",
   "name": "python",
   "nbconvert_exporter": "python",
   "pygments_lexer": "ipython3",
   "version": "3.9.13"
  },
  "orig_nbformat": 4
 },
 "nbformat": 4,
 "nbformat_minor": 2
}
