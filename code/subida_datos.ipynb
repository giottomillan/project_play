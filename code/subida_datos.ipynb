{
 "cells": [
  {
   "attachments": {},
   "cell_type": "markdown",
   "metadata": {},
   "source": [
    "# Subida y creación de una base de datos"
   ]
  },
  {
   "cell_type": "code",
   "execution_count": 1,
   "metadata": {},
   "outputs": [
    {
     "name": "stdout",
     "output_type": "stream",
     "text": [
      "Requirement already satisfied: pymongo in c:\\users\\gamm\\anaconda3\\lib\\site-packages (4.3.3)\n",
      "Requirement already satisfied: dnspython<3.0.0,>=1.16.0 in c:\\users\\gamm\\anaconda3\\lib\\site-packages (from pymongo) (2.3.0)\n",
      "Note: you may need to restart the kernel to use updated packages.\n"
     ]
    }
   ],
   "source": [
    "%pip install pymongo"
   ]
  },
  {
   "cell_type": "code",
   "execution_count": 2,
   "metadata": {},
   "outputs": [],
   "source": [
    "from pymongo import MongoClient, database\n",
    "import csv"
   ]
  },
  {
   "cell_type": "code",
   "execution_count": 11,
   "metadata": {},
   "outputs": [],
   "source": [
    "# Establecer la conexión con MongoDB\n",
    "client = MongoClient('mongodb://localhost:27017')\n",
    "db = client['project_play']  # nombre de tu base de datos"
   ]
  },
  {
   "cell_type": "code",
   "execution_count": 10,
   "metadata": {},
   "outputs": [],
   "source": [
    "#creamos función para cargar las tablas en formato csv a la base de datos\n",
    "# Cargar el archivo CSV y guardar los datos en MongoDB\n",
    "def cargar_tabla_csv(nombre_tabla, nombre_archivo):\n",
    "    collection = db[nombre_tabla]  # nombre de tu colección\n",
    "    \n",
    "    with open(nombre_archivo, 'r') as file:\n",
    "        csv_data = csv.DictReader(file)\n",
    "        collection.insert_many(csv_data)\n",
    "        print('Datos cargados exitosamente en MongoDB.')"
   ]
  },
  {
   "cell_type": "code",
   "execution_count": 9,
   "metadata": {},
   "outputs": [
    {
     "name": "stdout",
     "output_type": "stream",
     "text": [
      "Datos cargados exitosamente en MongoDB.\n"
     ]
    }
   ],
   "source": [
    "# Llamar a la función para cargar tabla CSV en MongoDB\n",
    "cargar_tabla_csv('top_most_viewers', '../data/data_cleaned/STREAMERS_WITH_THE_MOST_VIEWERS.csv')"
   ]
  },
  {
   "cell_type": "code",
   "execution_count": 12,
   "metadata": {},
   "outputs": [
    {
     "name": "stdout",
     "output_type": "stream",
     "text": [
      "Datos cargados exitosamente en MongoDB.\n"
     ]
    }
   ],
   "source": [
    "cargar_tabla_csv(\"top_growing_followers\", \"../data/data_cleaned/STREAMERS_WITH_THE_FASTEST_GROWING_NUMBER_OF_FOLLOWERS.csv\")"
   ]
  },
  {
   "cell_type": "code",
   "execution_count": 13,
   "metadata": {},
   "outputs": [
    {
     "name": "stdout",
     "output_type": "stream",
     "text": [
      "Datos cargados exitosamente en MongoDB.\n"
     ]
    }
   ],
   "source": [
    "cargar_tabla_csv(\"top_streamers\", \"../data/data_cleaned/streamers_top.csv\")"
   ]
  },
  {
   "cell_type": "code",
   "execution_count": 14,
   "metadata": {},
   "outputs": [
    {
     "name": "stdout",
     "output_type": "stream",
     "text": [
      "Datos cargados exitosamente en MongoDB.\n"
     ]
    }
   ],
   "source": [
    "cargar_tabla_csv(\"top_gamers\",\"../data/data_cleaned/top_gamers.csv\")"
   ]
  },
  {
   "cell_type": "code",
   "execution_count": 15,
   "metadata": {},
   "outputs": [
    {
     "name": "stdout",
     "output_type": "stream",
     "text": [
      "Datos cargados exitosamente en MongoDB.\n"
     ]
    }
   ],
   "source": [
    "cargar_tabla_csv(\"gamers_play\", \"../data/data_cleaned/gamers_cleaned.csv\")"
   ]
  },
  {
   "cell_type": "code",
   "execution_count": 16,
   "metadata": {},
   "outputs": [
    {
     "name": "stdout",
     "output_type": "stream",
     "text": [
      "Datos cargados exitosamente en MongoDB.\n"
     ]
    }
   ],
   "source": [
    "cargar_tabla_csv(\"nuevos_talentos\", \"../data/data_cleaned/nuevos_talentos.csv\")"
   ]
  },
  {
   "cell_type": "code",
   "execution_count": 17,
   "metadata": {},
   "outputs": [
    {
     "name": "stdout",
     "output_type": "stream",
     "text": [
      "Datos cargados exitosamente en MongoDB.\n"
     ]
    }
   ],
   "source": [
    "cargar_tabla_csv(\"talentos_indies\", \"../data/data_cleaned/talentos_indies.csv\")"
   ]
  },
  {
   "cell_type": "code",
   "execution_count": 18,
   "metadata": {},
   "outputs": [
    {
     "name": "stdout",
     "output_type": "stream",
     "text": [
      "Datos cargados exitosamente en MongoDB.\n"
     ]
    }
   ],
   "source": [
    "cargar_tabla_csv(\"top_juegos\", \"../data/data_cleaned/juegos_mas_vistos.csv\")"
   ]
  }
 ],
 "metadata": {
  "kernelspec": {
   "display_name": "base",
   "language": "python",
   "name": "python3"
  },
  "language_info": {
   "codemirror_mode": {
    "name": "ipython",
    "version": 3
   },
   "file_extension": ".py",
   "mimetype": "text/x-python",
   "name": "python",
   "nbconvert_exporter": "python",
   "pygments_lexer": "ipython3",
   "version": "3.9.13"
  },
  "orig_nbformat": 4
 },
 "nbformat": 4,
 "nbformat_minor": 2
}
