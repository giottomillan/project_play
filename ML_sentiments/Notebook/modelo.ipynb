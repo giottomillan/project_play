{
 "cells": [
  {
   "attachments": {},
   "cell_type": "markdown",
   "metadata": {},
   "source": [
    "### Introducción\n",
    "El objetivo final de este proyecto es predecir el sentimiento de un texto dado usando python, donde usamos NLTK, también conocido como Natural Language Processing Toolkit.\n",
    "\n",
    "* Para este proyecto, importaremos un conjunto de librerías que se muestran a continuación\n",
    "* Importaremos el conjunto de datos\n",
    "* Realizaremos limpieza, formateo y visualización de los datos\n",
    "* Construcción del modelo\n",
    "* Predicción"
   ]
  },
  {
   "cell_type": "code",
   "execution_count": 1,
   "metadata": {},
   "outputs": [],
   "source": [
    "# Importar librerías\n",
    "from bs4 import BeautifulSoup\n",
    "import numpy as np\n",
    "import pandas as pd\n",
    "import matplotlib.pyplot as plt\n",
    "import seaborn as sns\n",
    "import nltk\n",
    "import sklearn\n",
    "import requests\n",
    "import string as st\n",
    "\n",
    "from sklearn.feature_extraction.text import CountVectorizer\n",
    "from sklearn.feature_extraction.text import TfidfVectorizer\n",
    "from sklearn.model_selection import train_test_split\n",
    "from sklearn.linear_model import LogisticRegression\n"
   ]
  },
  {
   "cell_type": "code",
   "execution_count": 6,
   "metadata": {},
   "outputs": [],
   "source": [
    "# Importar datos\n",
    "data = pd.read_csv('../DatosOriginales/reviews_filmaffinity.csv', delimiter='|', header=0)"
   ]
  },
  {
   "cell_type": "code",
   "execution_count": 7,
   "metadata": {},
   "outputs": [
    {
     "data": {
      "text/plain": [
       "(8591, 6)"
      ]
     },
     "execution_count": 7,
     "metadata": {},
     "output_type": "execute_result"
    }
   ],
   "source": [
    "data.shape"
   ]
  },
  {
   "cell_type": "code",
   "execution_count": 8,
   "metadata": {},
   "outputs": [
    {
     "name": "stdout",
     "output_type": "stream",
     "text": [
      "<class 'pandas.core.frame.DataFrame'>\n",
      "RangeIndex: 8591 entries, 0 to 8590\n",
      "Data columns (total 6 columns):\n",
      " #   Column         Non-Null Count  Dtype  \n",
      "---  ------         --------------  -----  \n",
      " 0   film_name      8591 non-null   object \n",
      " 1   gender         8591 non-null   object \n",
      " 2   film_avg_rate  8591 non-null   object \n",
      " 3   review_rate    8589 non-null   float64\n",
      " 4   review_title   8591 non-null   object \n",
      " 5   review_text    8591 non-null   object \n",
      "dtypes: float64(1), object(5)\n",
      "memory usage: 402.8+ KB\n"
     ]
    }
   ],
   "source": [
    "data.info()"
   ]
  },
  {
   "cell_type": "code",
   "execution_count": 9,
   "metadata": {},
   "outputs": [
    {
     "data": {
      "text/html": [
       "<div>\n",
       "<style scoped>\n",
       "    .dataframe tbody tr th:only-of-type {\n",
       "        vertical-align: middle;\n",
       "    }\n",
       "\n",
       "    .dataframe tbody tr th {\n",
       "        vertical-align: top;\n",
       "    }\n",
       "\n",
       "    .dataframe thead th {\n",
       "        text-align: right;\n",
       "    }\n",
       "</style>\n",
       "<table border=\"1\" class=\"dataframe\">\n",
       "  <thead>\n",
       "    <tr style=\"text-align: right;\">\n",
       "      <th></th>\n",
       "      <th>film_name</th>\n",
       "      <th>gender</th>\n",
       "      <th>film_avg_rate</th>\n",
       "      <th>review_rate</th>\n",
       "      <th>review_title</th>\n",
       "      <th>review_text</th>\n",
       "    </tr>\n",
       "  </thead>\n",
       "  <tbody>\n",
       "    <tr>\n",
       "      <th>0</th>\n",
       "      <td>Ocho apellidos vascos</td>\n",
       "      <td>Comedia</td>\n",
       "      <td>6,0</td>\n",
       "      <td>3.0</td>\n",
       "      <td>OCHO APELLIDOS VASCOS...Y NINGÚN NOMBRE PROPIO</td>\n",
       "      <td>La mayor virtud de esta película es su existen...</td>\n",
       "    </tr>\n",
       "    <tr>\n",
       "      <th>1</th>\n",
       "      <td>Ocho apellidos vascos</td>\n",
       "      <td>Comedia</td>\n",
       "      <td>6,0</td>\n",
       "      <td>2.0</td>\n",
       "      <td>El perro verde</td>\n",
       "      <td>No soy un experto cinéfilo, pero pocas veces m...</td>\n",
       "    </tr>\n",
       "    <tr>\n",
       "      <th>2</th>\n",
       "      <td>Ocho apellidos vascos</td>\n",
       "      <td>Comedia</td>\n",
       "      <td>6,0</td>\n",
       "      <td>2.0</td>\n",
       "      <td>Si no eres de comer mierda... no te comas esta...</td>\n",
       "      <td>Si no eres un incondicional del humor estilo T...</td>\n",
       "    </tr>\n",
       "    <tr>\n",
       "      <th>3</th>\n",
       "      <td>Ocho apellidos vascos</td>\n",
       "      <td>Comedia</td>\n",
       "      <td>6,0</td>\n",
       "      <td>2.0</td>\n",
       "      <td>Aida: The movie</td>\n",
       "      <td>No sé qué está pasando, si la gente se deja ll...</td>\n",
       "    </tr>\n",
       "    <tr>\n",
       "      <th>4</th>\n",
       "      <td>Ocho apellidos vascos</td>\n",
       "      <td>Comedia</td>\n",
       "      <td>6,0</td>\n",
       "      <td>2.0</td>\n",
       "      <td>UN HOMBRE SOLO (Julio Iglesias 1987)</td>\n",
       "      <td>Pero cuando amanece,y me quedo solo,siento en ...</td>\n",
       "    </tr>\n",
       "  </tbody>\n",
       "</table>\n",
       "</div>"
      ],
      "text/plain": [
       "               film_name   gender film_avg_rate  review_rate  \\\n",
       "0  Ocho apellidos vascos  Comedia           6,0          3.0   \n",
       "1  Ocho apellidos vascos  Comedia           6,0          2.0   \n",
       "2  Ocho apellidos vascos  Comedia           6,0          2.0   \n",
       "3  Ocho apellidos vascos  Comedia           6,0          2.0   \n",
       "4  Ocho apellidos vascos  Comedia           6,0          2.0   \n",
       "\n",
       "                                        review_title  \\\n",
       "0     OCHO APELLIDOS VASCOS...Y NINGÚN NOMBRE PROPIO   \n",
       "1                                     El perro verde   \n",
       "2  Si no eres de comer mierda... no te comas esta...   \n",
       "3                                    Aida: The movie   \n",
       "4               UN HOMBRE SOLO (Julio Iglesias 1987)   \n",
       "\n",
       "                                         review_text  \n",
       "0  La mayor virtud de esta película es su existen...  \n",
       "1  No soy un experto cinéfilo, pero pocas veces m...  \n",
       "2  Si no eres un incondicional del humor estilo T...  \n",
       "3  No sé qué está pasando, si la gente se deja ll...  \n",
       "4  Pero cuando amanece,y me quedo solo,siento en ...  "
      ]
     },
     "execution_count": 9,
     "metadata": {},
     "output_type": "execute_result"
    }
   ],
   "source": [
    "data.head()"
   ]
  },
  {
   "cell_type": "code",
   "execution_count": 10,
   "metadata": {},
   "outputs": [
    {
     "data": {
      "text/plain": [
       "film_name        0\n",
       "gender           0\n",
       "film_avg_rate    0\n",
       "review_rate      2\n",
       "review_title     0\n",
       "review_text      0\n",
       "dtype: int64"
      ]
     },
     "execution_count": 10,
     "metadata": {},
     "output_type": "execute_result"
    }
   ],
   "source": [
    "# Encontrar nulos\n",
    "data.isnull().sum()"
   ]
  },
  {
   "cell_type": "code",
   "execution_count": 11,
   "metadata": {},
   "outputs": [],
   "source": [
    "# Eliminar nulos\n",
    "data=data.dropna()"
   ]
  },
  {
   "cell_type": "code",
   "execution_count": 12,
   "metadata": {},
   "outputs": [
    {
     "name": "stdout",
     "output_type": "stream",
     "text": [
      "['6,0' '6,8' '4,4' '6,7' '4,8' '5,3' '6,5' '6,4' '7,2' '4,2' '6,9' '3,7'\n",
      " '5,7' '5,5' '7,7' '6,1' '5,8' '5,2' '5,4' '4,6' '5,0' '7,1' '3,9' '4,7'\n",
      " '5,1' '6,2' '6,6' '7,0']\n"
     ]
    }
   ],
   "source": [
    "# Comprobando datos de la columna y noto que los valores contienen una coma y además son objetos. \n",
    "film=data['film_avg_rate'].unique()\n",
    "print(film)\n"
   ]
  },
  {
   "cell_type": "code",
   "execution_count": 13,
   "metadata": {},
   "outputs": [],
   "source": [
    "# La columna film_avg_rate La convierto en float y remplazo ',' por '.'\n",
    "data['film_avg_rate'] = data['film_avg_rate'].str.replace(',', '.').astype(float)\n"
   ]
  },
  {
   "cell_type": "code",
   "execution_count": 14,
   "metadata": {},
   "outputs": [
    {
     "name": "stdout",
     "output_type": "stream",
     "text": [
      "[ 3.  2.  8.  1.  6.  4.  5.  7.  9. 10.]\n"
     ]
    }
   ],
   "source": [
    "# comprobar rango de puntajes en la columna review_rate\n",
    "rate=data['review_rate'].unique()\n",
    "print(rate)"
   ]
  },
  {
   "cell_type": "code",
   "execution_count": 19,
   "metadata": {},
   "outputs": [
    {
     "data": {
      "text/html": [
       "<div>\n",
       "<style scoped>\n",
       "    .dataframe tbody tr th:only-of-type {\n",
       "        vertical-align: middle;\n",
       "    }\n",
       "\n",
       "    .dataframe tbody tr th {\n",
       "        vertical-align: top;\n",
       "    }\n",
       "\n",
       "    .dataframe thead th {\n",
       "        text-align: right;\n",
       "    }\n",
       "</style>\n",
       "<table border=\"1\" class=\"dataframe\">\n",
       "  <thead>\n",
       "    <tr style=\"text-align: right;\">\n",
       "      <th></th>\n",
       "      <th>count</th>\n",
       "      <th>mean</th>\n",
       "      <th>std</th>\n",
       "      <th>min</th>\n",
       "      <th>25%</th>\n",
       "      <th>50%</th>\n",
       "      <th>75%</th>\n",
       "      <th>max</th>\n",
       "    </tr>\n",
       "  </thead>\n",
       "  <tbody>\n",
       "    <tr>\n",
       "      <th>film_avg_rate</th>\n",
       "      <td>8589.0</td>\n",
       "      <td>6.186972</td>\n",
       "      <td>0.991661</td>\n",
       "      <td>3.7</td>\n",
       "      <td>5.5</td>\n",
       "      <td>6.5</td>\n",
       "      <td>6.9</td>\n",
       "      <td>7.7</td>\n",
       "    </tr>\n",
       "    <tr>\n",
       "      <th>review_rate</th>\n",
       "      <td>8589.0</td>\n",
       "      <td>5.872744</td>\n",
       "      <td>2.549188</td>\n",
       "      <td>1.0</td>\n",
       "      <td>4.0</td>\n",
       "      <td>6.0</td>\n",
       "      <td>8.0</td>\n",
       "      <td>10.0</td>\n",
       "    </tr>\n",
       "  </tbody>\n",
       "</table>\n",
       "</div>"
      ],
      "text/plain": [
       "                count      mean       std  min  25%  50%  75%   max\n",
       "film_avg_rate  8589.0  6.186972  0.991661  3.7  5.5  6.5  6.9   7.7\n",
       "review_rate    8589.0  5.872744  2.549188  1.0  4.0  6.0  8.0  10.0"
      ]
     },
     "execution_count": 19,
     "metadata": {},
     "output_type": "execute_result"
    }
   ],
   "source": [
    "data.describe().T"
   ]
  },
  {
   "attachments": {},
   "cell_type": "markdown",
   "metadata": {},
   "source": [
    "Crear una escala más manejable de los valores de review_rate en el que agruparemos siguiendo el criterio de normalidad que nos muestra la descripción de la tabla el 25 % de los puntajes estan entre 1-4, con lo cual los agrupamos con el puntaje 0 = 1,2,3,4 y los significamos como valores negativos. entre el 25% y el 75% se ubican los puntajes entre  5-8 y los agrupamos con el puntaje 1 = 5,6,7, significandolos neutrales y por encima del 75% los puntajes 9,10 que agrupamos en el puntaje 2 = 8,9,10 como positivos."
   ]
  },
  {
   "cell_type": "code",
   "execution_count": 20,
   "metadata": {},
   "outputs": [],
   "source": [
    "# Valoración calificaciones \n",
    "\n",
    "def clasificar_rate(n_review):\n",
    "    if (n_review <= 4.0).all():\n",
    "        return 'Negative'\n",
    "    elif ((n_review > 4.0) & (n_review <= 7.0)).any():\n",
    "        return 'Neutral'\n",
    "    else:\n",
    "        return 'Positive'\n",
    "    \n",
    "data['value_rate']= data.groupby(level=0)['review_rate'].apply(lambda x: clasificar_rate(x))"
   ]
  },
  {
   "cell_type": "code",
   "execution_count": 21,
   "metadata": {},
   "outputs": [
    {
     "data": {
      "text/html": [
       "<div>\n",
       "<style scoped>\n",
       "    .dataframe tbody tr th:only-of-type {\n",
       "        vertical-align: middle;\n",
       "    }\n",
       "\n",
       "    .dataframe tbody tr th {\n",
       "        vertical-align: top;\n",
       "    }\n",
       "\n",
       "    .dataframe thead th {\n",
       "        text-align: right;\n",
       "    }\n",
       "</style>\n",
       "<table border=\"1\" class=\"dataframe\">\n",
       "  <thead>\n",
       "    <tr style=\"text-align: right;\">\n",
       "      <th></th>\n",
       "      <th>film_name</th>\n",
       "      <th>gender</th>\n",
       "      <th>film_avg_rate</th>\n",
       "      <th>review_rate</th>\n",
       "      <th>review_title</th>\n",
       "      <th>review_text</th>\n",
       "      <th>value_rate</th>\n",
       "    </tr>\n",
       "  </thead>\n",
       "  <tbody>\n",
       "    <tr>\n",
       "      <th>6030</th>\n",
       "      <td>Es por tu bien</td>\n",
       "      <td>Comedia</td>\n",
       "      <td>5.1</td>\n",
       "      <td>2.0</td>\n",
       "      <td>Venezuela</td>\n",
       "      <td>Los cuarentones y cincuentones sobran, el pate...</td>\n",
       "      <td>Negative</td>\n",
       "    </tr>\n",
       "    <tr>\n",
       "      <th>1081</th>\n",
       "      <td>El orfanato</td>\n",
       "      <td>Terror</td>\n",
       "      <td>6.7</td>\n",
       "      <td>4.0</td>\n",
       "      <td>La Orfanatitis</td>\n",
       "      <td>Enfermedad del hombre y de pocas especies anim...</td>\n",
       "      <td>Negative</td>\n",
       "    </tr>\n",
       "    <tr>\n",
       "      <th>7230</th>\n",
       "      <td>Los crímenes de Oxford</td>\n",
       "      <td>Intriga</td>\n",
       "      <td>5.7</td>\n",
       "      <td>6.0</td>\n",
       "      <td>De re-listos gafapasta con un pezoncillo muy e...</td>\n",
       "      <td>Me esperaba un absoluto desprósito, pero a Ale...</td>\n",
       "      <td>Neutral</td>\n",
       "    </tr>\n",
       "    <tr>\n",
       "      <th>3337</th>\n",
       "      <td>Palmeras en la nieve</td>\n",
       "      <td>Drama</td>\n",
       "      <td>6.0</td>\n",
       "      <td>3.0</td>\n",
       "      <td>plana</td>\n",
       "      <td>Ante lo que podría haber sido una gran películ...</td>\n",
       "      <td>Negative</td>\n",
       "    </tr>\n",
       "    <tr>\n",
       "      <th>7364</th>\n",
       "      <td>REC</td>\n",
       "      <td>Terror</td>\n",
       "      <td>6.6</td>\n",
       "      <td>5.0</td>\n",
       "      <td>Original y entretenida, pero facil de hacer.</td>\n",
       "      <td>La película tiene una historia bastante origin...</td>\n",
       "      <td>Neutral</td>\n",
       "    </tr>\n",
       "  </tbody>\n",
       "</table>\n",
       "</div>"
      ],
      "text/plain": [
       "                   film_name   gender  film_avg_rate  review_rate  \\\n",
       "6030          Es por tu bien  Comedia            5.1          2.0   \n",
       "1081             El orfanato   Terror            6.7          4.0   \n",
       "7230  Los crímenes de Oxford  Intriga            5.7          6.0   \n",
       "3337    Palmeras en la nieve    Drama            6.0          3.0   \n",
       "7364                     REC   Terror            6.6          5.0   \n",
       "\n",
       "                                           review_title  \\\n",
       "6030                                          Venezuela   \n",
       "1081                                     La Orfanatitis   \n",
       "7230  De re-listos gafapasta con un pezoncillo muy e...   \n",
       "3337                                              plana   \n",
       "7364       Original y entretenida, pero facil de hacer.   \n",
       "\n",
       "                                            review_text value_rate  \n",
       "6030  Los cuarentones y cincuentones sobran, el pate...   Negative  \n",
       "1081  Enfermedad del hombre y de pocas especies anim...   Negative  \n",
       "7230  Me esperaba un absoluto desprósito, pero a Ale...    Neutral  \n",
       "3337  Ante lo que podría haber sido una gran películ...   Negative  \n",
       "7364  La película tiene una historia bastante origin...    Neutral  "
      ]
     },
     "execution_count": 21,
     "metadata": {},
     "output_type": "execute_result"
    }
   ],
   "source": [
    "data.sample(5)"
   ]
  },
  {
   "cell_type": "code",
   "execution_count": 56,
   "metadata": {},
   "outputs": [
    {
     "data": {
      "image/png": "[encoded data removed]",
      "text/plain": [
       "<Figure size 640x480 with 1 Axes>"
      ]
     },
     "metadata": {},
     "output_type": "display_data"
    }
   ],
   "source": [
    "# Obtener la frecuencia de cada categoría\n",
    "category_counts = data['value_rate'].value_counts()\n",
    "\n",
    "# Crear el gráfico de barras\n",
    "sns.barplot(x=category_counts.index, y=category_counts.values)\n",
    "\n",
    "# Colores para las barras\n",
    "colors = ['red', 'green', 'blue']\n",
    "\n",
    "# Configurar los ejes y el título del gráfico\n",
    "\n",
    "plt.xlabel('Escala cualitativa de sentimientos')\n",
    "plt.ylabel('Cantidad')\n",
    "plt.title('Distribución de Calificaciones')\n",
    "\n",
    "# Mostrar gráfico\n",
    "plt.show()"
   ]
  },
  {
   "cell_type": "code",
   "execution_count": 23,
   "metadata": {},
   "outputs": [],
   "source": [
    "#Simplificación de sentimientos\n",
    "a=[]\n",
    "for i, review_rate in enumerate(data['review_rate']):\n",
    "    if review_rate <= 4.0:\n",
    "        a.append(0)\n",
    "    elif review_rate <= 7.0:\n",
    "        a.append(1)\n",
    "    elif review_rate > 7.0:\n",
    "        a.append(2)\n",
    "    else:\n",
    "        print(f\"Unmatched value at index {i}: {review_rate}\")\n",
    "\n",
    "\n",
    "        "
   ]
  },
  {
   "cell_type": "code",
   "execution_count": 24,
   "metadata": {},
   "outputs": [],
   "source": [
    "a = [int(value) for value in a]"
   ]
  },
  {
   "cell_type": "code",
   "execution_count": 50,
   "metadata": {},
   "outputs": [
    {
     "data": {
      "image/png": "[encoded data removed]",
      "text/plain": [
       "<Figure size 640x480 with 1 Axes>"
      ]
     },
     "metadata": {},
     "output_type": "display_data"
    }
   ],
   "source": [
    "#Graficamos solo con matplotlib.pyplot porque seaborn esta dando un error\n",
    "\n",
    "# Contar la frecuencia de cada categoría en 'a'\n",
    "counts = [a.count(0), a.count(1), a.count(2)]\n",
    "\n",
    "# Etiquetas de las categorías\n",
    "labels = ['0', '1', '2']\n",
    "\n",
    "# Colores para las barras\n",
    "colors = ['red', 'green', 'blue']\n",
    "\n",
    "# Crear el gráfico de barras con colores diferentes\n",
    "plt.bar(labels, counts, color=colors)\n",
    "plt.xlabel('Escala Numérica de sentimientos', color=\"red\")\n",
    "plt.ylabel('Count', color=\"red\")\n",
    "plt.title('COUNT PLOT', color=\"r\")\n",
    "plt.show()"
   ]
  },
  {
   "cell_type": "code",
   "execution_count": 26,
   "metadata": {},
   "outputs": [
    {
     "name": "stdout",
     "output_type": "stream",
     "text": [
      "                                            review_text  sentiment\n",
      "0     La mayor virtud de esta película es su existen...          0\n",
      "1     No soy un experto cinéfilo, pero pocas veces m...          0\n",
      "2     Si no eres un incondicional del humor estilo T...          0\n",
      "3     No sé qué está pasando, si la gente se deja ll...          0\n",
      "4     Pero cuando amanece,y me quedo solo,siento en ...          0\n",
      "...                                                 ...        ...\n",
      "8586  Buena no, lo siguiente. Por fin un film serio ...          2\n",
      "8587  Me esperaba mucho, pero que mucho, más.Guión m...          0\n",
      "8588  De mal cuerpo como sensación al finalizar, de ...          0\n",
      "8589  Los que han añadido comentarios os lo han dich...          0\n",
      "8590  Fui a ver esta película de cine con entusiasmo...          0\n",
      "\n",
      "[8589 rows x 2 columns]\n"
     ]
    }
   ],
   "source": [
    "data['sentiment']=a\n",
    "final_dataset = data[['review_text', 'sentiment']]\n",
    "print(final_dataset)"
   ]
  },
  {
   "cell_type": "code",
   "execution_count": 27,
   "metadata": {},
   "outputs": [
    {
     "data": {
      "text/plain": [
       "(2440, 2635)"
      ]
     },
     "execution_count": 27,
     "metadata": {},
     "output_type": "execute_result"
    }
   ],
   "source": [
    "#Cuento cantidad de comentarios\n",
    "\n",
    "data_p=final_dataset[data['sentiment']==2]\n",
    "data_n=final_dataset[data['sentiment']==0]\n",
    "len(data_n), len(data_p)"
   ]
  },
  {
   "cell_type": "code",
   "execution_count": 28,
   "metadata": {},
   "outputs": [
    {
     "data": {
      "text/plain": [
       "(2400, 2400)"
      ]
     },
     "execution_count": 28,
     "metadata": {},
     "output_type": "execute_result"
    }
   ],
   "source": [
    "#Selecciono la misma cantidad de comentarios positivos y negativos\n",
    "\n",
    "datap = data_p.iloc[np.random.randint(0, len(data_p), 2400), :]\n",
    "datan = data_n.iloc[np.random.randint(0, len(data_n), 2400), :]\n",
    "\n",
    "len(datan), len(datap)"
   ]
  },
  {
   "cell_type": "code",
   "execution_count": 29,
   "metadata": {},
   "outputs": [
    {
     "data": {
      "text/plain": [
       "4800"
      ]
     },
     "execution_count": 29,
     "metadata": {},
     "output_type": "execute_result"
    }
   ],
   "source": [
    "# creo nuevo dataset con datos equivalentes para el modelo\n",
    "\n",
    "data_sent = pd.concat([datap,datan])\n",
    "len(data_sent)"
   ]
  },
  {
   "cell_type": "code",
   "execution_count": 30,
   "metadata": {},
   "outputs": [
    {
     "data": {
      "text/html": [
       "<div>\n",
       "<style scoped>\n",
       "    .dataframe tbody tr th:only-of-type {\n",
       "        vertical-align: middle;\n",
       "    }\n",
       "\n",
       "    .dataframe tbody tr th {\n",
       "        vertical-align: top;\n",
       "    }\n",
       "\n",
       "    .dataframe thead th {\n",
       "        text-align: right;\n",
       "    }\n",
       "</style>\n",
       "<table border=\"1\" class=\"dataframe\">\n",
       "  <thead>\n",
       "    <tr style=\"text-align: right;\">\n",
       "      <th></th>\n",
       "      <th>review_text</th>\n",
       "      <th>sentiment</th>\n",
       "    </tr>\n",
       "  </thead>\n",
       "  <tbody>\n",
       "    <tr>\n",
       "      <th>7163</th>\n",
       "      <td>Complicada película donde el tema principal so...</td>\n",
       "      <td>2</td>\n",
       "    </tr>\n",
       "  </tbody>\n",
       "</table>\n",
       "</div>"
      ],
      "text/plain": [
       "                                            review_text  sentiment\n",
       "7163  Complicada película donde el tema principal so...          2"
      ]
     },
     "execution_count": 30,
     "metadata": {},
     "output_type": "execute_result"
    }
   ],
   "source": [
    "data_sent.sample()"
   ]
  },
  {
   "cell_type": "code",
   "execution_count": 31,
   "metadata": {},
   "outputs": [],
   "source": [
    "# En una nueva variable asigno 0 a los valores negativos y 1 a los valores positivos.\n",
    "c=[]\n",
    "for i in data_sent['sentiment']:\n",
    "    if i==2:\n",
    "        c.append(1)\n",
    "    if i==0:\n",
    "        c.append(0)\n",
    "data_sent['sentiment']=c"
   ]
  },
  {
   "cell_type": "code",
   "execution_count": 32,
   "metadata": {},
   "outputs": [
    {
     "data": {
      "text/html": [
       "<div>\n",
       "<style scoped>\n",
       "    .dataframe tbody tr th:only-of-type {\n",
       "        vertical-align: middle;\n",
       "    }\n",
       "\n",
       "    .dataframe tbody tr th {\n",
       "        vertical-align: top;\n",
       "    }\n",
       "\n",
       "    .dataframe thead th {\n",
       "        text-align: right;\n",
       "    }\n",
       "</style>\n",
       "<table border=\"1\" class=\"dataframe\">\n",
       "  <thead>\n",
       "    <tr style=\"text-align: right;\">\n",
       "      <th></th>\n",
       "      <th>review_text</th>\n",
       "      <th>sentiment</th>\n",
       "    </tr>\n",
       "  </thead>\n",
       "  <tbody>\n",
       "    <tr>\n",
       "      <th>1097</th>\n",
       "      <td>Nuestro cine patrio se caracteriza por muchas ...</td>\n",
       "      <td>0</td>\n",
       "    </tr>\n",
       "    <tr>\n",
       "      <th>7571</th>\n",
       "      <td>Con un punto de vista cámara en mano, la pelíc...</td>\n",
       "      <td>1</td>\n",
       "    </tr>\n",
       "    <tr>\n",
       "      <th>2567</th>\n",
       "      <td>Haceos un favor. Ved la extraordinaria Mi pie ...</td>\n",
       "      <td>0</td>\n",
       "    </tr>\n",
       "    <tr>\n",
       "      <th>7376</th>\n",
       "      <td>Me ha impresionado esta peli. Y creo que si es...</td>\n",
       "      <td>1</td>\n",
       "    </tr>\n",
       "    <tr>\n",
       "      <th>3785</th>\n",
       "      <td>Por muy bien lograda que esté la ambientación ...</td>\n",
       "      <td>0</td>\n",
       "    </tr>\n",
       "    <tr>\n",
       "      <th>7539</th>\n",
       "      <td>Original,distinta; inquietante e inteligente c...</td>\n",
       "      <td>1</td>\n",
       "    </tr>\n",
       "    <tr>\n",
       "      <th>5575</th>\n",
       "      <td>De no ser por el reparto tan \"Almodoriano\", si...</td>\n",
       "      <td>1</td>\n",
       "    </tr>\n",
       "    <tr>\n",
       "      <th>972</th>\n",
       "      <td>Copia practicamente a la primera pelicula haci...</td>\n",
       "      <td>0</td>\n",
       "    </tr>\n",
       "    <tr>\n",
       "      <th>2644</th>\n",
       "      <td>Cuando salió Torrente: el brazo tonto de la le...</td>\n",
       "      <td>0</td>\n",
       "    </tr>\n",
       "    <tr>\n",
       "      <th>3641</th>\n",
       "      <td>Qué lástima. Podría haber sido una gran pelícu...</td>\n",
       "      <td>0</td>\n",
       "    </tr>\n",
       "  </tbody>\n",
       "</table>\n",
       "</div>"
      ],
      "text/plain": [
       "                                            review_text  sentiment\n",
       "1097  Nuestro cine patrio se caracteriza por muchas ...          0\n",
       "7571  Con un punto de vista cámara en mano, la pelíc...          1\n",
       "2567  Haceos un favor. Ved la extraordinaria Mi pie ...          0\n",
       "7376  Me ha impresionado esta peli. Y creo que si es...          1\n",
       "3785  Por muy bien lograda que esté la ambientación ...          0\n",
       "7539  Original,distinta; inquietante e inteligente c...          1\n",
       "5575  De no ser por el reparto tan \"Almodoriano\", si...          1\n",
       "972   Copia practicamente a la primera pelicula haci...          0\n",
       "2644  Cuando salió Torrente: el brazo tonto de la le...          0\n",
       "3641  Qué lástima. Podría haber sido una gran pelícu...          0"
      ]
     },
     "execution_count": 32,
     "metadata": {},
     "output_type": "execute_result"
    }
   ],
   "source": [
    "data_sent.sample(10)"
   ]
  },
  {
   "cell_type": "code",
   "execution_count": 33,
   "metadata": {},
   "outputs": [
    {
     "data": {
      "image/png": "[encoded data removed]",
      "text/plain": [
       "<Figure size 640x480 with 1 Axes>"
      ]
     },
     "metadata": {},
     "output_type": "display_data"
    }
   ],
   "source": [
    "# Visualizar\n",
    "sns.countplot(data=data_sent, x='sentiment')\n",
    "plt.xlabel('Sentiment')\n",
    "plt.ylabel('Count')\n",
    "plt.title('Sentiment agrupado en dos niveles')\n",
    "plt.show()"
   ]
  },
  {
   "attachments": {},
   "cell_type": "markdown",
   "metadata": {},
   "source": [
    "## Construcción del modelo"
   ]
  },
  {
   "cell_type": "code",
   "execution_count": 34,
   "metadata": {},
   "outputs": [
    {
     "name": "stdout",
     "output_type": "stream",
     "text": [
      "<class 'pandas.core.frame.DataFrame'>\n",
      "Int64Index: 4800 entries, 6283 to 3641\n",
      "Data columns (total 2 columns):\n",
      " #   Column       Non-Null Count  Dtype \n",
      "---  ------       --------------  ----- \n",
      " 0   review_text  4800 non-null   object\n",
      " 1   sentiment    4800 non-null   int64 \n",
      "dtypes: int64(1), object(1)\n",
      "memory usage: 112.5+ KB\n"
     ]
    }
   ],
   "source": [
    "data_sent.info()"
   ]
  },
  {
   "cell_type": "code",
   "execution_count": 35,
   "metadata": {},
   "outputs": [],
   "source": [
    "# Eliminar signos\n",
    "def punc_clean(text):\n",
    "    punctuation = ''.join([c for c in st.punctuation if c != '´'])\n",
    "    a = [w for w in text if w not in punctuation]\n",
    "    return ''.join(a)\n",
    "\n",
    "data_sent['review_text'] = data_sent['review_text'].apply(punc_clean)\n"
   ]
  },
  {
   "cell_type": "code",
   "execution_count": 36,
   "metadata": {},
   "outputs": [
    {
     "data": {
      "text/html": [
       "<div>\n",
       "<style scoped>\n",
       "    .dataframe tbody tr th:only-of-type {\n",
       "        vertical-align: middle;\n",
       "    }\n",
       "\n",
       "    .dataframe tbody tr th {\n",
       "        vertical-align: top;\n",
       "    }\n",
       "\n",
       "    .dataframe thead th {\n",
       "        text-align: right;\n",
       "    }\n",
       "</style>\n",
       "<table border=\"1\" class=\"dataframe\">\n",
       "  <thead>\n",
       "    <tr style=\"text-align: right;\">\n",
       "      <th></th>\n",
       "      <th>review_text</th>\n",
       "      <th>sentiment</th>\n",
       "    </tr>\n",
       "  </thead>\n",
       "  <tbody>\n",
       "    <tr>\n",
       "      <th>6283</th>\n",
       "      <td>Alejandro Amenábar era para mí un director un ...</td>\n",
       "      <td>1</td>\n",
       "    </tr>\n",
       "    <tr>\n",
       "      <th>2475</th>\n",
       "      <td>Lección de vida aunque parezca que no Lección ...</td>\n",
       "      <td>1</td>\n",
       "    </tr>\n",
       "    <tr>\n",
       "      <th>838</th>\n",
       "      <td>ArgumentoDiciembre del año 2004 María Naomi Wa...</td>\n",
       "      <td>1</td>\n",
       "    </tr>\n",
       "    <tr>\n",
       "      <th>4019</th>\n",
       "      <td>No puedo añadir algo que no se haya dichoSimpl...</td>\n",
       "      <td>1</td>\n",
       "    </tr>\n",
       "    <tr>\n",
       "      <th>6446</th>\n",
       "      <td>Bellísima a rabiarHistoria llena de realidades...</td>\n",
       "      <td>1</td>\n",
       "    </tr>\n",
       "  </tbody>\n",
       "</table>\n",
       "</div>"
      ],
      "text/plain": [
       "                                            review_text  sentiment\n",
       "6283  Alejandro Amenábar era para mí un director un ...          1\n",
       "2475  Lección de vida aunque parezca que no Lección ...          1\n",
       "838   ArgumentoDiciembre del año 2004 María Naomi Wa...          1\n",
       "4019  No puedo añadir algo que no se haya dichoSimpl...          1\n",
       "6446  Bellísima a rabiarHistoria llena de realidades...          1"
      ]
     },
     "execution_count": 36,
     "metadata": {},
     "output_type": "execute_result"
    }
   ],
   "source": [
    "data_sent.head()"
   ]
  },
  {
   "cell_type": "code",
   "execution_count": 37,
   "metadata": {},
   "outputs": [],
   "source": [
    "# Eliminar palabras vacías\n",
    "def remove_stopwords(text):\n",
    "    stopword=nltk.corpus.stopwords.words('spanish')\n",
    "    stopword.remove('no')\n",
    "    a=[w for w in nltk.wordpunct_tokenize(text) if w not in stopword]\n",
    "    return ' '.join(a)\n",
    "data_sent['review_text'] = data_sent['review_text'].apply(remove_stopwords)"
   ]
  },
  {
   "cell_type": "code",
   "execution_count": 38,
   "metadata": {},
   "outputs": [
    {
     "data": {
      "text/html": [
       "<div>\n",
       "<style scoped>\n",
       "    .dataframe tbody tr th:only-of-type {\n",
       "        vertical-align: middle;\n",
       "    }\n",
       "\n",
       "    .dataframe tbody tr th {\n",
       "        vertical-align: top;\n",
       "    }\n",
       "\n",
       "    .dataframe thead th {\n",
       "        text-align: right;\n",
       "    }\n",
       "</style>\n",
       "<table border=\"1\" class=\"dataframe\">\n",
       "  <thead>\n",
       "    <tr style=\"text-align: right;\">\n",
       "      <th></th>\n",
       "      <th>review_text</th>\n",
       "      <th>sentiment</th>\n",
       "    </tr>\n",
       "  </thead>\n",
       "  <tbody>\n",
       "    <tr>\n",
       "      <th>6283</th>\n",
       "      <td>Alejandro Amenábar director irregular Me encan...</td>\n",
       "      <td>1</td>\n",
       "    </tr>\n",
       "    <tr>\n",
       "      <th>2475</th>\n",
       "      <td>Lección vida aunque parezca no Lección interpr...</td>\n",
       "      <td>1</td>\n",
       "    </tr>\n",
       "    <tr>\n",
       "      <th>838</th>\n",
       "      <td>ArgumentoDiciembre año 2004 María Naomi Watts ...</td>\n",
       "      <td>1</td>\n",
       "    </tr>\n",
       "    <tr>\n",
       "      <th>4019</th>\n",
       "      <td>No puedo añadir no dichoSimplemente pensamient...</td>\n",
       "      <td>1</td>\n",
       "    </tr>\n",
       "    <tr>\n",
       "      <th>6446</th>\n",
       "      <td>Bellísima rabiarHistoria llena realidades espa...</td>\n",
       "      <td>1</td>\n",
       "    </tr>\n",
       "  </tbody>\n",
       "</table>\n",
       "</div>"
      ],
      "text/plain": [
       "                                            review_text  sentiment\n",
       "6283  Alejandro Amenábar director irregular Me encan...          1\n",
       "2475  Lección vida aunque parezca no Lección interpr...          1\n",
       "838   ArgumentoDiciembre año 2004 María Naomi Watts ...          1\n",
       "4019  No puedo añadir no dichoSimplemente pensamient...          1\n",
       "6446  Bellísima rabiarHistoria llena realidades espa...          1"
      ]
     },
     "execution_count": 38,
     "metadata": {},
     "output_type": "execute_result"
    }
   ],
   "source": [
    "data_sent.head()"
   ]
  },
  {
   "cell_type": "code",
   "execution_count": 39,
   "metadata": {},
   "outputs": [],
   "source": [
    "# asignar palabra de texto con sentimientos, creando el vector\n",
    "\n",
    "vectr = TfidfVectorizer(ngram_range=(1,2),min_df=1)\n",
    "vectr.fit(data_sent['review_text'])\n",
    "\n",
    "vect_X = vectr.transform(data_sent['review_text'])"
   ]
  },
  {
   "cell_type": "code",
   "execution_count": 40,
   "metadata": {},
   "outputs": [],
   "source": [
    "# construir modelo de regresión logistica para clasificar, y entrenamos el modelo\n",
    "model = LogisticRegression()\n",
    "clf=model.fit(vect_X,data_sent['sentiment'])"
   ]
  },
  {
   "cell_type": "code",
   "execution_count": 41,
   "metadata": {},
   "outputs": [
    {
     "data": {
      "text/plain": [
       "array([0], dtype=int64)"
      ]
     },
     "execution_count": 41,
     "metadata": {},
     "output_type": "execute_result"
    }
   ],
   "source": [
    "# Probar modelo\n",
    "clf.predict(vectr.transform(['Amo el helado de chocolate con crema']))"
   ]
  },
  {
   "cell_type": "code",
   "execution_count": 42,
   "metadata": {},
   "outputs": [
    {
     "data": {
      "text/plain": [
       "array([1], dtype=int64)"
      ]
     },
     "execution_count": 42,
     "metadata": {},
     "output_type": "execute_result"
    }
   ],
   "source": [
    "clf.predict(vectr.transform(['Destesto las pelis comicas']))"
   ]
  },
  {
   "cell_type": "code",
   "execution_count": 43,
   "metadata": {},
   "outputs": [
    {
     "data": {
      "text/plain": [
       "array([0], dtype=int64)"
      ]
     },
     "execution_count": 43,
     "metadata": {},
     "output_type": "execute_result"
    }
   ],
   "source": [
    "clf.predict(vectr.transform(['No existen peliculas cómicas que sean buenas, todas son un fraude']))"
   ]
  },
  {
   "cell_type": "code",
   "execution_count": 44,
   "metadata": {},
   "outputs": [
    {
     "data": {
      "text/plain": [
       "array([0], dtype=int64)"
      ]
     },
     "execution_count": 44,
     "metadata": {},
     "output_type": "execute_result"
    }
   ],
   "source": [
    "clf.predict(vectr.transform(['Que perdida de tiempo con esta peli, dos horas tiradas a la basura']))"
   ]
  },
  {
   "cell_type": "code",
   "execution_count": 45,
   "metadata": {},
   "outputs": [
    {
     "name": "stdout",
     "output_type": "stream",
     "text": [
      "Precisión: 99.35%\n"
     ]
    }
   ],
   "source": [
    "# Evaluar precisión del modelo\n",
    "\n",
    "accuracy = model.score(vect_X, data_sent['sentiment']) * 100\n",
    "print('Precisión: {:.2f}%'.format(accuracy))"
   ]
  },
  {
   "cell_type": "code",
   "execution_count": 46,
   "metadata": {},
   "outputs": [
    {
     "data": {
      "text/plain": [
       "array([1], dtype=int64)"
      ]
     },
     "execution_count": 46,
     "metadata": {},
     "output_type": "execute_result"
    }
   ],
   "source": [
    "clf.predict(vectr.transform(['Sus trabajos me facinan siempre logra enganchar con su guión']))"
   ]
  },
  {
   "cell_type": "code",
   "execution_count": 47,
   "metadata": {},
   "outputs": [
    {
     "data": {
      "text/plain": [
       "array([0], dtype=int64)"
      ]
     },
     "execution_count": 47,
     "metadata": {},
     "output_type": "execute_result"
    }
   ],
   "source": [
    "\n",
    "\n",
    "clf.predict(vectr.transform(['Quiero cambiar los enlaces de teclas porque los valores predeterminados son culo']))"
   ]
  },
  {
   "attachments": {},
   "cell_type": "markdown",
   "metadata": {},
   "source": [
    "# Probaremos el modelo con comentarios de reseñas de videojuegos"
   ]
  },
  {
   "attachments": {},
   "cell_type": "markdown",
   "metadata": {},
   "source": [
    "Haré web scrapping de "
   ]
  },
  {
   "cell_type": "code",
   "execution_count": 54,
   "metadata": {},
   "outputs": [],
   "source": [
    "url = \"https://www.3djuegos.com/juegos/analisis/lectores/35947/0/horizon-forbidden-west/\"\n",
    "response = requests.get(url)\n",
    "html_content = response.content\n",
    "\n",
    "soup = BeautifulSoup(html_content, 'html.parser')\n",
    "\n",
    "# Listas para almacenar los datos\n",
    "titulos = []\n",
    "comentarios = []\n",
    "calificaciones = []\n",
    "\n",
    "# Buscar todos los elementos que contienen los comentarios\n",
    "comentarios_html = soup.find_all('div', class_='container_msg')\n",
    "\n",
    "# Iterar sobre los elementos de comentarios\n",
    "for comentario_html in comentarios_html:\n",
    "    # Extraer el título del comentario\n",
    "    titulo = comentario_html.find('h2').text.strip()\n",
    "    titulos.append(titulo)\n",
    "\n",
    "    # Extraer el comentario\n",
    "    comentario = comentario_html.find('pre').text.strip()\n",
    "    comentarios.append(comentario)\n",
    "\n",
    "    # Extraer la calificación del juego\n",
    "    calificacion = comentario_html.find('div', class_='nota').text.strip()\n",
    "    calificaciones.append(calificacion)\n",
    "\n",
    "# Crear un DataFrame con los datos extraídos\n",
    "data = {'Título': titulos, 'Comentario': comentarios, 'Calificación': calificaciones}\n",
    "df = pd.DataFrame(data)"
   ]
  },
  {
   "cell_type": "code",
   "execution_count": 55,
   "metadata": {},
   "outputs": [],
   "source": [
    "reviews = df"
   ]
  },
  {
   "cell_type": "code",
   "execution_count": 56,
   "metadata": {},
   "outputs": [
    {
     "data": {
      "text/html": [
       "<div>\n",
       "<style scoped>\n",
       "    .dataframe tbody tr th:only-of-type {\n",
       "        vertical-align: middle;\n",
       "    }\n",
       "\n",
       "    .dataframe tbody tr th {\n",
       "        vertical-align: top;\n",
       "    }\n",
       "\n",
       "    .dataframe thead th {\n",
       "        text-align: right;\n",
       "    }\n",
       "</style>\n",
       "<table border=\"1\" class=\"dataframe\">\n",
       "  <thead>\n",
       "    <tr style=\"text-align: right;\">\n",
       "      <th></th>\n",
       "      <th>Título</th>\n",
       "      <th>Comentario</th>\n",
       "      <th>Calificación</th>\n",
       "    </tr>\n",
       "  </thead>\n",
       "  <tbody>\n",
       "    <tr>\n",
       "      <th>0</th>\n",
       "      <td>Bastante mejor que el primero</td>\n",
       "      <td>Bastante mejor que el primero Algo que me mole...</td>\n",
       "      <td>9</td>\n",
       "    </tr>\n",
       "    <tr>\n",
       "      <th>1</th>\n",
       "      <td>Forbidden West: el cansado viaje hacia lo mejo...</td>\n",
       "      <td>Forbidden West: el cansado viaje hacia lo mejo...</td>\n",
       "      <td>8,5</td>\n",
       "    </tr>\n",
       "    <tr>\n",
       "      <th>2</th>\n",
       "      <td>Me quedo con el primero sin duda</td>\n",
       "      <td>Me quedo con el primero sin dudaLo bueno:\\r\\n\\...</td>\n",
       "      <td>8</td>\n",
       "    </tr>\n",
       "    <tr>\n",
       "      <th>3</th>\n",
       "      <td>Sin tapujos directo y genial.</td>\n",
       "      <td>Sin tapujos directo y genial.Digamos que este ...</td>\n",
       "      <td>10</td>\n",
       "    </tr>\n",
       "    <tr>\n",
       "      <th>4</th>\n",
       "      <td>Si el primero estuvo muy bien hecho, este lo s...</td>\n",
       "      <td>Si el primero estuvo muy bien hecho, este lo s...</td>\n",
       "      <td>10</td>\n",
       "    </tr>\n",
       "    <tr>\n",
       "      <th>5</th>\n",
       "      <td>Más y mejor</td>\n",
       "      <td>Más y mejorTras nuestro viaje por las Tierras ...</td>\n",
       "      <td>9,5</td>\n",
       "    </tr>\n",
       "    <tr>\n",
       "      <th>6</th>\n",
       "      <td>Una de wéstern en el lejano oeste futurista...</td>\n",
       "      <td>Una de wéstern en el lejano oeste futurista......</td>\n",
       "      <td>9,5</td>\n",
       "    </tr>\n",
       "    <tr>\n",
       "      <th>7</th>\n",
       "      <td>Bueno.... ahí vamos..</td>\n",
       "      <td>Bueno.... ahí vamos..Bueno después de jugar un...</td>\n",
       "      <td>7</td>\n",
       "    </tr>\n",
       "    <tr>\n",
       "      <th>8</th>\n",
       "      <td>Secuela de un Favorito</td>\n",
       "      <td>Secuela de un FavoritoJUGABILIDAD:\\r\\nYo amé H...</td>\n",
       "      <td>9</td>\n",
       "    </tr>\n",
       "    <tr>\n",
       "      <th>9</th>\n",
       "      <td>Horizon : forbidden west</td>\n",
       "      <td>Horizon : forbidden westOpinión personal : bue...</td>\n",
       "      <td>8</td>\n",
       "    </tr>\n",
       "  </tbody>\n",
       "</table>\n",
       "</div>"
      ],
      "text/plain": [
       "                                              Título  \\\n",
       "0                      Bastante mejor que el primero   \n",
       "1  Forbidden West: el cansado viaje hacia lo mejo...   \n",
       "2                   Me quedo con el primero sin duda   \n",
       "3                      Sin tapujos directo y genial.   \n",
       "4  Si el primero estuvo muy bien hecho, este lo s...   \n",
       "5                                        Más y mejor   \n",
       "6     Una de wéstern en el lejano oeste futurista...   \n",
       "7                              Bueno.... ahí vamos..   \n",
       "8                             Secuela de un Favorito   \n",
       "9                           Horizon : forbidden west   \n",
       "\n",
       "                                          Comentario Calificación  \n",
       "0  Bastante mejor que el primero Algo que me mole...            9  \n",
       "1  Forbidden West: el cansado viaje hacia lo mejo...          8,5  \n",
       "2  Me quedo con el primero sin dudaLo bueno:\\r\\n\\...            8  \n",
       "3  Sin tapujos directo y genial.Digamos que este ...           10  \n",
       "4  Si el primero estuvo muy bien hecho, este lo s...           10  \n",
       "5  Más y mejorTras nuestro viaje por las Tierras ...          9,5  \n",
       "6  Una de wéstern en el lejano oeste futurista......          9,5  \n",
       "7  Bueno.... ahí vamos..Bueno después de jugar un...            7  \n",
       "8  Secuela de un FavoritoJUGABILIDAD:\\r\\nYo amé H...            9  \n",
       "9  Horizon : forbidden westOpinión personal : bue...            8  "
      ]
     },
     "execution_count": 56,
     "metadata": {},
     "output_type": "execute_result"
    }
   ],
   "source": [
    "reviews"
   ]
  },
  {
   "cell_type": "code",
   "execution_count": 57,
   "metadata": {},
   "outputs": [],
   "source": [
    "url = \"https://www.3djuegos.com/juegos/analisis/lectores/35947/1/horizon-forbidden-west/\"\n",
    "response = requests.get(url)\n",
    "html_content = response.content\n",
    "\n",
    "soup = BeautifulSoup(html_content, 'html.parser')\n",
    "\n",
    "# Listas para almacenar los datos\n",
    "titulos = []\n",
    "comentarios = []\n",
    "calificaciones = []\n",
    "\n",
    "# Buscar todos los elementos que contienen los comentarios\n",
    "comentarios_html = soup.find_all('div', class_='container_msg')\n",
    "\n",
    "# Iterar sobre los elementos de comentarios\n",
    "for comentario_html in comentarios_html:\n",
    "    # Extraer el título del comentario\n",
    "    titulo = comentario_html.find('h2').text.strip()\n",
    "    titulos.append(titulo)\n",
    "\n",
    "    # Extraer el comentario\n",
    "    comentario = comentario_html.find('pre').text.strip()\n",
    "    comentarios.append(comentario)\n",
    "\n",
    "    # Extraer la calificación del juego\n",
    "    calificacion = comentario_html.find('div', class_='nota').text.strip()\n",
    "    calificaciones.append(calificacion)\n",
    "\n",
    "# Crear un DataFrame con los datos extraídos\n",
    "data = {'Título': titulos, 'Comentario': comentarios, 'Calificación': calificaciones}\n",
    "df = pd.DataFrame(data)"
   ]
  },
  {
   "cell_type": "code",
   "execution_count": 58,
   "metadata": {},
   "outputs": [
    {
     "data": {
      "text/html": [
       "<div>\n",
       "<style scoped>\n",
       "    .dataframe tbody tr th:only-of-type {\n",
       "        vertical-align: middle;\n",
       "    }\n",
       "\n",
       "    .dataframe tbody tr th {\n",
       "        vertical-align: top;\n",
       "    }\n",
       "\n",
       "    .dataframe thead th {\n",
       "        text-align: right;\n",
       "    }\n",
       "</style>\n",
       "<table border=\"1\" class=\"dataframe\">\n",
       "  <thead>\n",
       "    <tr style=\"text-align: right;\">\n",
       "      <th></th>\n",
       "      <th>Título</th>\n",
       "      <th>Comentario</th>\n",
       "      <th>Calificación</th>\n",
       "    </tr>\n",
       "  </thead>\n",
       "  <tbody>\n",
       "    <tr>\n",
       "      <th>0</th>\n",
       "      <td>Grandes aspiraciones para un título sin nadie ...</td>\n",
       "      <td>Grandes aspiraciones para un título sin nadie ...</td>\n",
       "      <td>7</td>\n",
       "    </tr>\n",
       "    <tr>\n",
       "      <th>1</th>\n",
       "      <td>HFW, en general mejora a HZD</td>\n",
       "      <td>HFW, en general mejora a HZDPor qué digo esto?...</td>\n",
       "      <td>9,5</td>\n",
       "    </tr>\n",
       "    <tr>\n",
       "      <th>2</th>\n",
       "      <td>Cyberpunk 2077 Parte 2</td>\n",
       "      <td>Cyberpunk 2077 Parte 2En un mundo en el que la...</td>\n",
       "      <td>3,5</td>\n",
       "    </tr>\n",
       "    <tr>\n",
       "      <th>3</th>\n",
       "      <td>Horizon Forbidden West</td>\n",
       "      <td>Horizon Forbidden WestHorizon Forbidden West e...</td>\n",
       "      <td>9</td>\n",
       "    </tr>\n",
       "    <tr>\n",
       "      <th>4</th>\n",
       "      <td>Todo lo mejor que tenia el primer juego pero e...</td>\n",
       "      <td>Todo lo mejor que tenia el primer juego pero e...</td>\n",
       "      <td>10</td>\n",
       "    </tr>\n",
       "    <tr>\n",
       "      <th>5</th>\n",
       "      <td>Un espectáculo</td>\n",
       "      <td>Un espectáculo Puedo decir con total seguridad...</td>\n",
       "      <td>9</td>\n",
       "    </tr>\n",
       "    <tr>\n",
       "      <th>6</th>\n",
       "      <td>Una evolución gratificante</td>\n",
       "      <td>Una evolución gratificanteMundo: variedad de b...</td>\n",
       "      <td>9,5</td>\n",
       "    </tr>\n",
       "    <tr>\n",
       "      <th>7</th>\n",
       "      <td>Amor por los mundos Abiertos...</td>\n",
       "      <td>Amor por los mundos Abiertos...Llevo más de 25...</td>\n",
       "      <td>10</td>\n",
       "    </tr>\n",
       "    <tr>\n",
       "      <th>8</th>\n",
       "      <td>Una 2da parte que repite casi todos los proble...</td>\n",
       "      <td>Una 2da parte que repite casi todos los proble...</td>\n",
       "      <td>6</td>\n",
       "    </tr>\n",
       "  </tbody>\n",
       "</table>\n",
       "</div>"
      ],
      "text/plain": [
       "                                              Título  \\\n",
       "0  Grandes aspiraciones para un título sin nadie ...   \n",
       "1                       HFW, en general mejora a HZD   \n",
       "2                             Cyberpunk 2077 Parte 2   \n",
       "3                             Horizon Forbidden West   \n",
       "4  Todo lo mejor que tenia el primer juego pero e...   \n",
       "5                                     Un espectáculo   \n",
       "6                         Una evolución gratificante   \n",
       "7                    Amor por los mundos Abiertos...   \n",
       "8  Una 2da parte que repite casi todos los proble...   \n",
       "\n",
       "                                          Comentario Calificación  \n",
       "0  Grandes aspiraciones para un título sin nadie ...            7  \n",
       "1  HFW, en general mejora a HZDPor qué digo esto?...          9,5  \n",
       "2  Cyberpunk 2077 Parte 2En un mundo en el que la...          3,5  \n",
       "3  Horizon Forbidden WestHorizon Forbidden West e...            9  \n",
       "4  Todo lo mejor que tenia el primer juego pero e...           10  \n",
       "5  Un espectáculo Puedo decir con total seguridad...            9  \n",
       "6  Una evolución gratificanteMundo: variedad de b...          9,5  \n",
       "7  Amor por los mundos Abiertos...Llevo más de 25...           10  \n",
       "8  Una 2da parte que repite casi todos los proble...            6  "
      ]
     },
     "execution_count": 58,
     "metadata": {},
     "output_type": "execute_result"
    }
   ],
   "source": [
    "df"
   ]
  },
  {
   "cell_type": "code",
   "execution_count": 59,
   "metadata": {},
   "outputs": [],
   "source": [
    "reviews_total = pd.concat([reviews, df])"
   ]
  },
  {
   "cell_type": "code",
   "execution_count": 60,
   "metadata": {},
   "outputs": [
    {
     "data": {
      "text/html": [
       "<div>\n",
       "<style scoped>\n",
       "    .dataframe tbody tr th:only-of-type {\n",
       "        vertical-align: middle;\n",
       "    }\n",
       "\n",
       "    .dataframe tbody tr th {\n",
       "        vertical-align: top;\n",
       "    }\n",
       "\n",
       "    .dataframe thead th {\n",
       "        text-align: right;\n",
       "    }\n",
       "</style>\n",
       "<table border=\"1\" class=\"dataframe\">\n",
       "  <thead>\n",
       "    <tr style=\"text-align: right;\">\n",
       "      <th></th>\n",
       "      <th>index</th>\n",
       "      <th>Título</th>\n",
       "      <th>Comentario</th>\n",
       "      <th>Calificación</th>\n",
       "    </tr>\n",
       "  </thead>\n",
       "  <tbody>\n",
       "    <tr>\n",
       "      <th>0</th>\n",
       "      <td>0</td>\n",
       "      <td>Bastante mejor que el primero</td>\n",
       "      <td>Bastante mejor que el primero Algo que me mole...</td>\n",
       "      <td>9</td>\n",
       "    </tr>\n",
       "    <tr>\n",
       "      <th>1</th>\n",
       "      <td>1</td>\n",
       "      <td>Forbidden West: el cansado viaje hacia lo mejo...</td>\n",
       "      <td>Forbidden West: el cansado viaje hacia lo mejo...</td>\n",
       "      <td>8,5</td>\n",
       "    </tr>\n",
       "    <tr>\n",
       "      <th>2</th>\n",
       "      <td>2</td>\n",
       "      <td>Me quedo con el primero sin duda</td>\n",
       "      <td>Me quedo con el primero sin dudaLo bueno:\\r\\n\\...</td>\n",
       "      <td>8</td>\n",
       "    </tr>\n",
       "    <tr>\n",
       "      <th>3</th>\n",
       "      <td>3</td>\n",
       "      <td>Sin tapujos directo y genial.</td>\n",
       "      <td>Sin tapujos directo y genial.Digamos que este ...</td>\n",
       "      <td>10</td>\n",
       "    </tr>\n",
       "    <tr>\n",
       "      <th>4</th>\n",
       "      <td>4</td>\n",
       "      <td>Si el primero estuvo muy bien hecho, este lo s...</td>\n",
       "      <td>Si el primero estuvo muy bien hecho, este lo s...</td>\n",
       "      <td>10</td>\n",
       "    </tr>\n",
       "    <tr>\n",
       "      <th>5</th>\n",
       "      <td>5</td>\n",
       "      <td>Más y mejor</td>\n",
       "      <td>Más y mejorTras nuestro viaje por las Tierras ...</td>\n",
       "      <td>9,5</td>\n",
       "    </tr>\n",
       "    <tr>\n",
       "      <th>6</th>\n",
       "      <td>6</td>\n",
       "      <td>Una de wéstern en el lejano oeste futurista...</td>\n",
       "      <td>Una de wéstern en el lejano oeste futurista......</td>\n",
       "      <td>9,5</td>\n",
       "    </tr>\n",
       "    <tr>\n",
       "      <th>7</th>\n",
       "      <td>7</td>\n",
       "      <td>Bueno.... ahí vamos..</td>\n",
       "      <td>Bueno.... ahí vamos..Bueno después de jugar un...</td>\n",
       "      <td>7</td>\n",
       "    </tr>\n",
       "    <tr>\n",
       "      <th>8</th>\n",
       "      <td>8</td>\n",
       "      <td>Secuela de un Favorito</td>\n",
       "      <td>Secuela de un FavoritoJUGABILIDAD:\\r\\nYo amé H...</td>\n",
       "      <td>9</td>\n",
       "    </tr>\n",
       "    <tr>\n",
       "      <th>9</th>\n",
       "      <td>9</td>\n",
       "      <td>Horizon : forbidden west</td>\n",
       "      <td>Horizon : forbidden westOpinión personal : bue...</td>\n",
       "      <td>8</td>\n",
       "    </tr>\n",
       "    <tr>\n",
       "      <th>10</th>\n",
       "      <td>0</td>\n",
       "      <td>Grandes aspiraciones para un título sin nadie ...</td>\n",
       "      <td>Grandes aspiraciones para un título sin nadie ...</td>\n",
       "      <td>7</td>\n",
       "    </tr>\n",
       "    <tr>\n",
       "      <th>11</th>\n",
       "      <td>1</td>\n",
       "      <td>HFW, en general mejora a HZD</td>\n",
       "      <td>HFW, en general mejora a HZDPor qué digo esto?...</td>\n",
       "      <td>9,5</td>\n",
       "    </tr>\n",
       "    <tr>\n",
       "      <th>12</th>\n",
       "      <td>2</td>\n",
       "      <td>Cyberpunk 2077 Parte 2</td>\n",
       "      <td>Cyberpunk 2077 Parte 2En un mundo en el que la...</td>\n",
       "      <td>3,5</td>\n",
       "    </tr>\n",
       "    <tr>\n",
       "      <th>13</th>\n",
       "      <td>3</td>\n",
       "      <td>Horizon Forbidden West</td>\n",
       "      <td>Horizon Forbidden WestHorizon Forbidden West e...</td>\n",
       "      <td>9</td>\n",
       "    </tr>\n",
       "    <tr>\n",
       "      <th>14</th>\n",
       "      <td>4</td>\n",
       "      <td>Todo lo mejor que tenia el primer juego pero e...</td>\n",
       "      <td>Todo lo mejor que tenia el primer juego pero e...</td>\n",
       "      <td>10</td>\n",
       "    </tr>\n",
       "    <tr>\n",
       "      <th>15</th>\n",
       "      <td>5</td>\n",
       "      <td>Un espectáculo</td>\n",
       "      <td>Un espectáculo Puedo decir con total seguridad...</td>\n",
       "      <td>9</td>\n",
       "    </tr>\n",
       "    <tr>\n",
       "      <th>16</th>\n",
       "      <td>6</td>\n",
       "      <td>Una evolución gratificante</td>\n",
       "      <td>Una evolución gratificanteMundo: variedad de b...</td>\n",
       "      <td>9,5</td>\n",
       "    </tr>\n",
       "    <tr>\n",
       "      <th>17</th>\n",
       "      <td>7</td>\n",
       "      <td>Amor por los mundos Abiertos...</td>\n",
       "      <td>Amor por los mundos Abiertos...Llevo más de 25...</td>\n",
       "      <td>10</td>\n",
       "    </tr>\n",
       "    <tr>\n",
       "      <th>18</th>\n",
       "      <td>8</td>\n",
       "      <td>Una 2da parte que repite casi todos los proble...</td>\n",
       "      <td>Una 2da parte que repite casi todos los proble...</td>\n",
       "      <td>6</td>\n",
       "    </tr>\n",
       "  </tbody>\n",
       "</table>\n",
       "</div>"
      ],
      "text/plain": [
       "    index                                             Título  \\\n",
       "0       0                      Bastante mejor que el primero   \n",
       "1       1  Forbidden West: el cansado viaje hacia lo mejo...   \n",
       "2       2                   Me quedo con el primero sin duda   \n",
       "3       3                      Sin tapujos directo y genial.   \n",
       "4       4  Si el primero estuvo muy bien hecho, este lo s...   \n",
       "5       5                                        Más y mejor   \n",
       "6       6     Una de wéstern en el lejano oeste futurista...   \n",
       "7       7                              Bueno.... ahí vamos..   \n",
       "8       8                             Secuela de un Favorito   \n",
       "9       9                           Horizon : forbidden west   \n",
       "10      0  Grandes aspiraciones para un título sin nadie ...   \n",
       "11      1                       HFW, en general mejora a HZD   \n",
       "12      2                             Cyberpunk 2077 Parte 2   \n",
       "13      3                             Horizon Forbidden West   \n",
       "14      4  Todo lo mejor que tenia el primer juego pero e...   \n",
       "15      5                                     Un espectáculo   \n",
       "16      6                         Una evolución gratificante   \n",
       "17      7                    Amor por los mundos Abiertos...   \n",
       "18      8  Una 2da parte que repite casi todos los proble...   \n",
       "\n",
       "                                           Comentario Calificación  \n",
       "0   Bastante mejor que el primero Algo que me mole...            9  \n",
       "1   Forbidden West: el cansado viaje hacia lo mejo...          8,5  \n",
       "2   Me quedo con el primero sin dudaLo bueno:\\r\\n\\...            8  \n",
       "3   Sin tapujos directo y genial.Digamos que este ...           10  \n",
       "4   Si el primero estuvo muy bien hecho, este lo s...           10  \n",
       "5   Más y mejorTras nuestro viaje por las Tierras ...          9,5  \n",
       "6   Una de wéstern en el lejano oeste futurista......          9,5  \n",
       "7   Bueno.... ahí vamos..Bueno después de jugar un...            7  \n",
       "8   Secuela de un FavoritoJUGABILIDAD:\\r\\nYo amé H...            9  \n",
       "9   Horizon : forbidden westOpinión personal : bue...            8  \n",
       "10  Grandes aspiraciones para un título sin nadie ...            7  \n",
       "11  HFW, en general mejora a HZDPor qué digo esto?...          9,5  \n",
       "12  Cyberpunk 2077 Parte 2En un mundo en el que la...          3,5  \n",
       "13  Horizon Forbidden WestHorizon Forbidden West e...            9  \n",
       "14  Todo lo mejor que tenia el primer juego pero e...           10  \n",
       "15  Un espectáculo Puedo decir con total seguridad...            9  \n",
       "16  Una evolución gratificanteMundo: variedad de b...          9,5  \n",
       "17  Amor por los mundos Abiertos...Llevo más de 25...           10  \n",
       "18  Una 2da parte que repite casi todos los proble...            6  "
      ]
     },
     "execution_count": 60,
     "metadata": {},
     "output_type": "execute_result"
    }
   ],
   "source": [
    "reviews_total.reset_index()"
   ]
  },
  {
   "cell_type": "code",
   "execution_count": 159,
   "metadata": {},
   "outputs": [],
   "source": [
    "# Iterar sobre los comentarios y aplicar la predicción del modelo\n",
    "predictions = [clf.predict(vectr.transform([c])) for c in reviews_total[\"Comentario\"]]\n",
    "\n",
    "# Asignar los resultados de la predicción a una nueva columna\n",
    "reviews_total[\"Predicción del modelo\"] = predictions"
   ]
  },
  {
   "cell_type": "code",
   "execution_count": 61,
   "metadata": {},
   "outputs": [],
   "source": [
    "# Iterar sobre los comentarios y aplicar la predicción del modelo\n",
    "predictions = [clf.predict(vectr.transform([c])) for c in reviews_total[\"Comentario\"]]\n",
    "\n",
    "# Asignar los resultados de la predicción a una nueva columna\n",
    "reviews_total[\"Predicción del modelo\"] = predictions"
   ]
  },
  {
   "cell_type": "code",
   "execution_count": 78,
   "metadata": {},
   "outputs": [],
   "source": [
    "reviews_total[\"Calificación\"] = reviews_total[\"Calificación\"].str.replace(\",\", \".\").astype(float)"
   ]
  },
  {
   "cell_type": "code",
   "execution_count": 79,
   "metadata": {},
   "outputs": [],
   "source": [
    "reviews_total['Calificación'] = reviews_total['Calificación'].apply(lambda c: 0 if c <= 6 else 1)"
   ]
  },
  {
   "cell_type": "code",
   "execution_count": 80,
   "metadata": {},
   "outputs": [
    {
     "data": {
      "text/html": [
       "<div>\n",
       "<style scoped>\n",
       "    .dataframe tbody tr th:only-of-type {\n",
       "        vertical-align: middle;\n",
       "    }\n",
       "\n",
       "    .dataframe tbody tr th {\n",
       "        vertical-align: top;\n",
       "    }\n",
       "\n",
       "    .dataframe thead th {\n",
       "        text-align: right;\n",
       "    }\n",
       "</style>\n",
       "<table border=\"1\" class=\"dataframe\">\n",
       "  <thead>\n",
       "    <tr style=\"text-align: right;\">\n",
       "      <th></th>\n",
       "      <th>Título</th>\n",
       "      <th>Comentario</th>\n",
       "      <th>Calificación</th>\n",
       "      <th>Predicción del modelo</th>\n",
       "    </tr>\n",
       "  </thead>\n",
       "  <tbody>\n",
       "    <tr>\n",
       "      <th>0</th>\n",
       "      <td>Bastante mejor que el primero</td>\n",
       "      <td>Bastante mejor que el primero Algo que me mole...</td>\n",
       "      <td>1</td>\n",
       "      <td>1</td>\n",
       "    </tr>\n",
       "    <tr>\n",
       "      <th>1</th>\n",
       "      <td>Forbidden West: el cansado viaje hacia lo mejo...</td>\n",
       "      <td>Forbidden West: el cansado viaje hacia lo mejo...</td>\n",
       "      <td>1</td>\n",
       "      <td>1</td>\n",
       "    </tr>\n",
       "    <tr>\n",
       "      <th>2</th>\n",
       "      <td>Me quedo con el primero sin duda</td>\n",
       "      <td>Me quedo con el primero sin dudaLo bueno:\\r\\n\\...</td>\n",
       "      <td>1</td>\n",
       "      <td>1</td>\n",
       "    </tr>\n",
       "    <tr>\n",
       "      <th>3</th>\n",
       "      <td>Sin tapujos directo y genial.</td>\n",
       "      <td>Sin tapujos directo y genial.Digamos que este ...</td>\n",
       "      <td>1</td>\n",
       "      <td>1</td>\n",
       "    </tr>\n",
       "    <tr>\n",
       "      <th>4</th>\n",
       "      <td>Si el primero estuvo muy bien hecho, este lo s...</td>\n",
       "      <td>Si el primero estuvo muy bien hecho, este lo s...</td>\n",
       "      <td>1</td>\n",
       "      <td>1</td>\n",
       "    </tr>\n",
       "    <tr>\n",
       "      <th>5</th>\n",
       "      <td>Más y mejor</td>\n",
       "      <td>Más y mejorTras nuestro viaje por las Tierras ...</td>\n",
       "      <td>1</td>\n",
       "      <td>1</td>\n",
       "    </tr>\n",
       "    <tr>\n",
       "      <th>6</th>\n",
       "      <td>Una de wéstern en el lejano oeste futurista...</td>\n",
       "      <td>Una de wéstern en el lejano oeste futurista......</td>\n",
       "      <td>1</td>\n",
       "      <td>1</td>\n",
       "    </tr>\n",
       "    <tr>\n",
       "      <th>7</th>\n",
       "      <td>Bueno.... ahí vamos..</td>\n",
       "      <td>Bueno.... ahí vamos..Bueno después de jugar un...</td>\n",
       "      <td>1</td>\n",
       "      <td>1</td>\n",
       "    </tr>\n",
       "    <tr>\n",
       "      <th>8</th>\n",
       "      <td>Secuela de un Favorito</td>\n",
       "      <td>Secuela de un FavoritoJUGABILIDAD:\\r\\nYo amé H...</td>\n",
       "      <td>1</td>\n",
       "      <td>1</td>\n",
       "    </tr>\n",
       "    <tr>\n",
       "      <th>9</th>\n",
       "      <td>Horizon : forbidden west</td>\n",
       "      <td>Horizon : forbidden westOpinión personal : bue...</td>\n",
       "      <td>1</td>\n",
       "      <td>1</td>\n",
       "    </tr>\n",
       "    <tr>\n",
       "      <th>0</th>\n",
       "      <td>Grandes aspiraciones para un título sin nadie ...</td>\n",
       "      <td>Grandes aspiraciones para un título sin nadie ...</td>\n",
       "      <td>1</td>\n",
       "      <td>0</td>\n",
       "    </tr>\n",
       "    <tr>\n",
       "      <th>1</th>\n",
       "      <td>HFW, en general mejora a HZD</td>\n",
       "      <td>HFW, en general mejora a HZDPor qué digo esto?...</td>\n",
       "      <td>1</td>\n",
       "      <td>1</td>\n",
       "    </tr>\n",
       "    <tr>\n",
       "      <th>2</th>\n",
       "      <td>Cyberpunk 2077 Parte 2</td>\n",
       "      <td>Cyberpunk 2077 Parte 2En un mundo en el que la...</td>\n",
       "      <td>0</td>\n",
       "      <td>0</td>\n",
       "    </tr>\n",
       "    <tr>\n",
       "      <th>3</th>\n",
       "      <td>Horizon Forbidden West</td>\n",
       "      <td>Horizon Forbidden WestHorizon Forbidden West e...</td>\n",
       "      <td>1</td>\n",
       "      <td>1</td>\n",
       "    </tr>\n",
       "    <tr>\n",
       "      <th>4</th>\n",
       "      <td>Todo lo mejor que tenia el primer juego pero e...</td>\n",
       "      <td>Todo lo mejor que tenia el primer juego pero e...</td>\n",
       "      <td>1</td>\n",
       "      <td>1</td>\n",
       "    </tr>\n",
       "    <tr>\n",
       "      <th>5</th>\n",
       "      <td>Un espectáculo</td>\n",
       "      <td>Un espectáculo Puedo decir con total seguridad...</td>\n",
       "      <td>1</td>\n",
       "      <td>1</td>\n",
       "    </tr>\n",
       "    <tr>\n",
       "      <th>6</th>\n",
       "      <td>Una evolución gratificante</td>\n",
       "      <td>Una evolución gratificanteMundo: variedad de b...</td>\n",
       "      <td>1</td>\n",
       "      <td>1</td>\n",
       "    </tr>\n",
       "    <tr>\n",
       "      <th>7</th>\n",
       "      <td>Amor por los mundos Abiertos...</td>\n",
       "      <td>Amor por los mundos Abiertos...Llevo más de 25...</td>\n",
       "      <td>1</td>\n",
       "      <td>1</td>\n",
       "    </tr>\n",
       "    <tr>\n",
       "      <th>8</th>\n",
       "      <td>Una 2da parte que repite casi todos los proble...</td>\n",
       "      <td>Una 2da parte que repite casi todos los proble...</td>\n",
       "      <td>0</td>\n",
       "      <td>1</td>\n",
       "    </tr>\n",
       "  </tbody>\n",
       "</table>\n",
       "</div>"
      ],
      "text/plain": [
       "                                              Título  \\\n",
       "0                      Bastante mejor que el primero   \n",
       "1  Forbidden West: el cansado viaje hacia lo mejo...   \n",
       "2                   Me quedo con el primero sin duda   \n",
       "3                      Sin tapujos directo y genial.   \n",
       "4  Si el primero estuvo muy bien hecho, este lo s...   \n",
       "5                                        Más y mejor   \n",
       "6     Una de wéstern en el lejano oeste futurista...   \n",
       "7                              Bueno.... ahí vamos..   \n",
       "8                             Secuela de un Favorito   \n",
       "9                           Horizon : forbidden west   \n",
       "0  Grandes aspiraciones para un título sin nadie ...   \n",
       "1                       HFW, en general mejora a HZD   \n",
       "2                             Cyberpunk 2077 Parte 2   \n",
       "3                             Horizon Forbidden West   \n",
       "4  Todo lo mejor que tenia el primer juego pero e...   \n",
       "5                                     Un espectáculo   \n",
       "6                         Una evolución gratificante   \n",
       "7                    Amor por los mundos Abiertos...   \n",
       "8  Una 2da parte que repite casi todos los proble...   \n",
       "\n",
       "                                          Comentario  Calificación  \\\n",
       "0  Bastante mejor que el primero Algo que me mole...             1   \n",
       "1  Forbidden West: el cansado viaje hacia lo mejo...             1   \n",
       "2  Me quedo con el primero sin dudaLo bueno:\\r\\n\\...             1   \n",
       "3  Sin tapujos directo y genial.Digamos que este ...             1   \n",
       "4  Si el primero estuvo muy bien hecho, este lo s...             1   \n",
       "5  Más y mejorTras nuestro viaje por las Tierras ...             1   \n",
       "6  Una de wéstern en el lejano oeste futurista......             1   \n",
       "7  Bueno.... ahí vamos..Bueno después de jugar un...             1   \n",
       "8  Secuela de un FavoritoJUGABILIDAD:\\r\\nYo amé H...             1   \n",
       "9  Horizon : forbidden westOpinión personal : bue...             1   \n",
       "0  Grandes aspiraciones para un título sin nadie ...             1   \n",
       "1  HFW, en general mejora a HZDPor qué digo esto?...             1   \n",
       "2  Cyberpunk 2077 Parte 2En un mundo en el que la...             0   \n",
       "3  Horizon Forbidden WestHorizon Forbidden West e...             1   \n",
       "4  Todo lo mejor que tenia el primer juego pero e...             1   \n",
       "5  Un espectáculo Puedo decir con total seguridad...             1   \n",
       "6  Una evolución gratificanteMundo: variedad de b...             1   \n",
       "7  Amor por los mundos Abiertos...Llevo más de 25...             1   \n",
       "8  Una 2da parte que repite casi todos los proble...             0   \n",
       "\n",
       "   Predicción del modelo  \n",
       "0                      1  \n",
       "1                      1  \n",
       "2                      1  \n",
       "3                      1  \n",
       "4                      1  \n",
       "5                      1  \n",
       "6                      1  \n",
       "7                      1  \n",
       "8                      1  \n",
       "9                      1  \n",
       "0                      0  \n",
       "1                      1  \n",
       "2                      0  \n",
       "3                      1  \n",
       "4                      1  \n",
       "5                      1  \n",
       "6                      1  \n",
       "7                      1  \n",
       "8                      1  "
      ]
     },
     "execution_count": 80,
     "metadata": {},
     "output_type": "execute_result"
    }
   ],
   "source": [
    "reviews_total"
   ]
  },
  {
   "cell_type": "code",
   "execution_count": 92,
   "metadata": {},
   "outputs": [
    {
     "name": "stdout",
     "output_type": "stream",
     "text": [
      "Porcentaje de acierto: 89.47368421052632%\n"
     ]
    },
    {
     "data": {
      "image/png": "[encoded data removed]",
      "text/plain": [
       "<Figure size 640x480 with 1 Axes>"
      ]
     },
     "metadata": {},
     "output_type": "display_data"
    }
   ],
   "source": [
    "from sklearn.metrics import accuracy_score\n",
    "\n",
    "# Calcular el porcentaje de acierto\n",
    "porcentaje_acierto = accuracy_score(reviews_total[\"Calificación\"], reviews_total[\"Predicción del modelo\"]) * 100\n",
    "\n",
    "# Mostrar el porcentaje de acierto\n",
    "print(f\"Porcentaje de acierto: {porcentaje_acierto}%\")\n",
    "\n",
    "import matplotlib.pyplot as plt\n",
    "\n",
    "# Calcular el porcentaje de acierto\n",
    "porcentaje_acierto = accuracy_score(reviews_total[\"Calificación\"], reviews_total[\"Predicción del modelo\"]) * 100\n",
    "\n",
    "# Calcular el porcentaje de error\n",
    "porcentaje_error = 100 - porcentaje_acierto\n",
    "\n",
    "# Crear el gráfico de barras\n",
    "plt.bar([\"Acierto\", \"Error\"], [porcentaje_acierto, porcentaje_error], color=['green', 'red'])\n",
    "\n",
    "# Agregar etiquetas y título\n",
    "plt.xlabel(\"Clasificación\")\n",
    "plt.ylabel(\"Porcentaje\")\n",
    "plt.title(\"Porcentaje de acierto y error en la clasificación\")\n",
    "\n",
    "# Mostrar el gráfico\n",
    "plt.show()\n",
    "\n"
   ]
  },
  {
   "cell_type": "code",
   "execution_count": 161,
   "metadata": {},
   "outputs": [
    {
     "name": "stderr",
     "output_type": "stream",
     "text": [
      "C:\\Users\\GAMM\\AppData\\Local\\Temp\\ipykernel_7472\\3411691990.py:1: FutureWarning: The default value of regex will change from True to False in a future version. In addition, single character regular expressions will *not* be treated as literal strings when regex=True.\n",
      "  reviews_total[\"Predicción del modelo\"] = reviews_total[\"Predicción del modelo\"].astype(str).str.replace(\"[\", \"\").str.replace(\"]\", \"\")\n"
     ]
    }
   ],
   "source": [
    "reviews_total[\"Predicción del modelo\"] = reviews_total[\"Predicción del modelo\"].astype(str).str.replace(\"[\", \"\").str.replace(\"]\", \"\")\n"
   ]
  },
  {
   "cell_type": "code",
   "execution_count": 167,
   "metadata": {},
   "outputs": [],
   "source": [
    "reviews_total[\"Predicción del modelo\"] = reviews_total[\"Predicción del modelo\"].astype(int)"
   ]
  },
  {
   "cell_type": "code",
   "execution_count": 168,
   "metadata": {},
   "outputs": [
    {
     "name": "stdout",
     "output_type": "stream",
     "text": [
      "<class 'pandas.core.frame.DataFrame'>\n",
      "Int64Index: 19 entries, 0 to 8\n",
      "Data columns (total 5 columns):\n",
      " #   Column                 Non-Null Count  Dtype \n",
      "---  ------                 --------------  ----- \n",
      " 0   Título                 19 non-null     object\n",
      " 1   Comentario             19 non-null     object\n",
      " 2   Calificación           19 non-null     object\n",
      " 3   Predicción del modelo  19 non-null     int32 \n",
      " 4   Recomendación          19 non-null     object\n",
      "dtypes: int32(1), object(4)\n",
      "memory usage: 836.0+ bytes\n"
     ]
    }
   ],
   "source": [
    "reviews_total.info()"
   ]
  },
  {
   "cell_type": "code",
   "execution_count": 169,
   "metadata": {},
   "outputs": [],
   "source": [
    "reviews_total[\"Recomendación\"] = reviews_total[\"Predicción del modelo\"].apply(lambda x: \"Recomendado\" if x == 1 else \"No recomendado\")\n"
   ]
  },
  {
   "cell_type": "code",
   "execution_count": 174,
   "metadata": {},
   "outputs": [
    {
     "data": {
      "text/html": [
       "<div>\n",
       "<style scoped>\n",
       "    .dataframe tbody tr th:only-of-type {\n",
       "        vertical-align: middle;\n",
       "    }\n",
       "\n",
       "    .dataframe tbody tr th {\n",
       "        vertical-align: top;\n",
       "    }\n",
       "\n",
       "    .dataframe thead th {\n",
       "        text-align: right;\n",
       "    }\n",
       "</style>\n",
       "<table border=\"1\" class=\"dataframe\">\n",
       "  <thead>\n",
       "    <tr style=\"text-align: right;\">\n",
       "      <th></th>\n",
       "      <th>Título</th>\n",
       "      <th>Comentario</th>\n",
       "      <th>Calificación</th>\n",
       "      <th>Predicción del modelo</th>\n",
       "      <th>Recomendación</th>\n",
       "    </tr>\n",
       "  </thead>\n",
       "  <tbody>\n",
       "    <tr>\n",
       "      <th>0</th>\n",
       "      <td>Bastante mejor que el primero</td>\n",
       "      <td>Bastante mejor que el primero Algo que me mole...</td>\n",
       "      <td>9</td>\n",
       "      <td>1</td>\n",
       "      <td>Recomendado</td>\n",
       "    </tr>\n",
       "    <tr>\n",
       "      <th>1</th>\n",
       "      <td>Forbidden West: el cansado viaje hacia lo mejo...</td>\n",
       "      <td>Forbidden West: el cansado viaje hacia lo mejo...</td>\n",
       "      <td>8,5</td>\n",
       "      <td>0</td>\n",
       "      <td>No recomendado</td>\n",
       "    </tr>\n",
       "    <tr>\n",
       "      <th>2</th>\n",
       "      <td>Me quedo con el primero sin duda</td>\n",
       "      <td>Me quedo con el primero sin dudaLo bueno:\\r\\n\\...</td>\n",
       "      <td>8</td>\n",
       "      <td>0</td>\n",
       "      <td>No recomendado</td>\n",
       "    </tr>\n",
       "    <tr>\n",
       "      <th>3</th>\n",
       "      <td>Sin tapujos directo y genial.</td>\n",
       "      <td>Sin tapujos directo y genial.Digamos que este ...</td>\n",
       "      <td>10</td>\n",
       "      <td>1</td>\n",
       "      <td>Recomendado</td>\n",
       "    </tr>\n",
       "    <tr>\n",
       "      <th>4</th>\n",
       "      <td>Si el primero estuvo muy bien hecho, este lo s...</td>\n",
       "      <td>Si el primero estuvo muy bien hecho, este lo s...</td>\n",
       "      <td>10</td>\n",
       "      <td>0</td>\n",
       "      <td>No recomendado</td>\n",
       "    </tr>\n",
       "    <tr>\n",
       "      <th>5</th>\n",
       "      <td>Más y mejor</td>\n",
       "      <td>Más y mejorTras nuestro viaje por las Tierras ...</td>\n",
       "      <td>9,5</td>\n",
       "      <td>0</td>\n",
       "      <td>No recomendado</td>\n",
       "    </tr>\n",
       "    <tr>\n",
       "      <th>6</th>\n",
       "      <td>Una de wéstern en el lejano oeste futurista...</td>\n",
       "      <td>Una de wéstern en el lejano oeste futurista......</td>\n",
       "      <td>9,5</td>\n",
       "      <td>0</td>\n",
       "      <td>No recomendado</td>\n",
       "    </tr>\n",
       "    <tr>\n",
       "      <th>7</th>\n",
       "      <td>Bueno.... ahí vamos..</td>\n",
       "      <td>Bueno.... ahí vamos..Bueno después de jugar un...</td>\n",
       "      <td>7</td>\n",
       "      <td>0</td>\n",
       "      <td>No recomendado</td>\n",
       "    </tr>\n",
       "    <tr>\n",
       "      <th>8</th>\n",
       "      <td>Secuela de un Favorito</td>\n",
       "      <td>Secuela de un FavoritoJUGABILIDAD:\\r\\nYo amé H...</td>\n",
       "      <td>9</td>\n",
       "      <td>1</td>\n",
       "      <td>Recomendado</td>\n",
       "    </tr>\n",
       "    <tr>\n",
       "      <th>9</th>\n",
       "      <td>Horizon : forbidden west</td>\n",
       "      <td>Horizon : forbidden westOpinión personal : bue...</td>\n",
       "      <td>8</td>\n",
       "      <td>1</td>\n",
       "      <td>Recomendado</td>\n",
       "    </tr>\n",
       "    <tr>\n",
       "      <th>0</th>\n",
       "      <td>Grandes aspiraciones para un título sin nadie ...</td>\n",
       "      <td>Grandes aspiraciones para un título sin nadie ...</td>\n",
       "      <td>7</td>\n",
       "      <td>0</td>\n",
       "      <td>No recomendado</td>\n",
       "    </tr>\n",
       "    <tr>\n",
       "      <th>1</th>\n",
       "      <td>HFW, en general mejora a HZD</td>\n",
       "      <td>HFW, en general mejora a HZDPor qué digo esto?...</td>\n",
       "      <td>9,5</td>\n",
       "      <td>0</td>\n",
       "      <td>No recomendado</td>\n",
       "    </tr>\n",
       "    <tr>\n",
       "      <th>2</th>\n",
       "      <td>Cyberpunk 2077 Parte 2</td>\n",
       "      <td>Cyberpunk 2077 Parte 2En un mundo en el que la...</td>\n",
       "      <td>3,5</td>\n",
       "      <td>0</td>\n",
       "      <td>No recomendado</td>\n",
       "    </tr>\n",
       "    <tr>\n",
       "      <th>3</th>\n",
       "      <td>Horizon Forbidden West</td>\n",
       "      <td>Horizon Forbidden WestHorizon Forbidden West e...</td>\n",
       "      <td>9</td>\n",
       "      <td>1</td>\n",
       "      <td>Recomendado</td>\n",
       "    </tr>\n",
       "    <tr>\n",
       "      <th>4</th>\n",
       "      <td>Todo lo mejor que tenia el primer juego pero e...</td>\n",
       "      <td>Todo lo mejor que tenia el primer juego pero e...</td>\n",
       "      <td>10</td>\n",
       "      <td>1</td>\n",
       "      <td>Recomendado</td>\n",
       "    </tr>\n",
       "    <tr>\n",
       "      <th>5</th>\n",
       "      <td>Un espectáculo</td>\n",
       "      <td>Un espectáculo Puedo decir con total seguridad...</td>\n",
       "      <td>9</td>\n",
       "      <td>1</td>\n",
       "      <td>Recomendado</td>\n",
       "    </tr>\n",
       "    <tr>\n",
       "      <th>6</th>\n",
       "      <td>Una evolución gratificante</td>\n",
       "      <td>Una evolución gratificanteMundo: variedad de b...</td>\n",
       "      <td>9,5</td>\n",
       "      <td>0</td>\n",
       "      <td>No recomendado</td>\n",
       "    </tr>\n",
       "    <tr>\n",
       "      <th>7</th>\n",
       "      <td>Amor por los mundos Abiertos...</td>\n",
       "      <td>Amor por los mundos Abiertos...Llevo más de 25...</td>\n",
       "      <td>10</td>\n",
       "      <td>1</td>\n",
       "      <td>Recomendado</td>\n",
       "    </tr>\n",
       "    <tr>\n",
       "      <th>8</th>\n",
       "      <td>Una 2da parte que repite casi todos los proble...</td>\n",
       "      <td>Una 2da parte que repite casi todos los proble...</td>\n",
       "      <td>6</td>\n",
       "      <td>0</td>\n",
       "      <td>No recomendado</td>\n",
       "    </tr>\n",
       "  </tbody>\n",
       "</table>\n",
       "</div>"
      ],
      "text/plain": [
       "                                              Título  \\\n",
       "0                      Bastante mejor que el primero   \n",
       "1  Forbidden West: el cansado viaje hacia lo mejo...   \n",
       "2                   Me quedo con el primero sin duda   \n",
       "3                      Sin tapujos directo y genial.   \n",
       "4  Si el primero estuvo muy bien hecho, este lo s...   \n",
       "5                                        Más y mejor   \n",
       "6     Una de wéstern en el lejano oeste futurista...   \n",
       "7                              Bueno.... ahí vamos..   \n",
       "8                             Secuela de un Favorito   \n",
       "9                           Horizon : forbidden west   \n",
       "0  Grandes aspiraciones para un título sin nadie ...   \n",
       "1                       HFW, en general mejora a HZD   \n",
       "2                             Cyberpunk 2077 Parte 2   \n",
       "3                             Horizon Forbidden West   \n",
       "4  Todo lo mejor que tenia el primer juego pero e...   \n",
       "5                                     Un espectáculo   \n",
       "6                         Una evolución gratificante   \n",
       "7                    Amor por los mundos Abiertos...   \n",
       "8  Una 2da parte que repite casi todos los proble...   \n",
       "\n",
       "                                          Comentario Calificación  \\\n",
       "0  Bastante mejor que el primero Algo que me mole...            9   \n",
       "1  Forbidden West: el cansado viaje hacia lo mejo...          8,5   \n",
       "2  Me quedo con el primero sin dudaLo bueno:\\r\\n\\...            8   \n",
       "3  Sin tapujos directo y genial.Digamos que este ...           10   \n",
       "4  Si el primero estuvo muy bien hecho, este lo s...           10   \n",
       "5  Más y mejorTras nuestro viaje por las Tierras ...          9,5   \n",
       "6  Una de wéstern en el lejano oeste futurista......          9,5   \n",
       "7  Bueno.... ahí vamos..Bueno después de jugar un...            7   \n",
       "8  Secuela de un FavoritoJUGABILIDAD:\\r\\nYo amé H...            9   \n",
       "9  Horizon : forbidden westOpinión personal : bue...            8   \n",
       "0  Grandes aspiraciones para un título sin nadie ...            7   \n",
       "1  HFW, en general mejora a HZDPor qué digo esto?...          9,5   \n",
       "2  Cyberpunk 2077 Parte 2En un mundo en el que la...          3,5   \n",
       "3  Horizon Forbidden WestHorizon Forbidden West e...            9   \n",
       "4  Todo lo mejor que tenia el primer juego pero e...           10   \n",
       "5  Un espectáculo Puedo decir con total seguridad...            9   \n",
       "6  Una evolución gratificanteMundo: variedad de b...          9,5   \n",
       "7  Amor por los mundos Abiertos...Llevo más de 25...           10   \n",
       "8  Una 2da parte que repite casi todos los proble...            6   \n",
       "\n",
       "   Predicción del modelo   Recomendación  \n",
       "0                      1     Recomendado  \n",
       "1                      0  No recomendado  \n",
       "2                      0  No recomendado  \n",
       "3                      1     Recomendado  \n",
       "4                      0  No recomendado  \n",
       "5                      0  No recomendado  \n",
       "6                      0  No recomendado  \n",
       "7                      0  No recomendado  \n",
       "8                      1     Recomendado  \n",
       "9                      1     Recomendado  \n",
       "0                      0  No recomendado  \n",
       "1                      0  No recomendado  \n",
       "2                      0  No recomendado  \n",
       "3                      1     Recomendado  \n",
       "4                      1     Recomendado  \n",
       "5                      1     Recomendado  \n",
       "6                      0  No recomendado  \n",
       "7                      1     Recomendado  \n",
       "8                      0  No recomendado  "
      ]
     },
     "execution_count": 174,
     "metadata": {},
     "output_type": "execute_result"
    }
   ],
   "source": [
    "reviews_total"
   ]
  },
  {
   "attachments": {},
   "cell_type": "markdown",
   "metadata": {},
   "source": [
    "# Entrenamiento del modelo de PLN con los comentarios de la base de datos"
   ]
  },
  {
   "cell_type": "code",
   "execution_count": 2,
   "metadata": {},
   "outputs": [],
   "source": [
    "horizon = pd.read_json(\"../../data/datos_scrappeados/project_play.comentarios.json\")\n",
    "fifa = pd.read_json(\"../../data/datos_scrappeados/project_play.comentarios2.json\")\n",
    "batman = pd.read_json(\"../../data/datos_scrappeados/project_play.comentarios_BATMAN_ARKAM.json\")\n",
    "ciber_punk = pd.read_json(\"../../data/datos_scrappeados/project_play.comentarios_CIBER_PUNK.json\")\n",
    "legacy = pd.read_json(\"../../data/datos_scrappeados/project_play.comentarios_HOGWART_LEGACY.json\")\n",
    "jedi = pd.read_json(\"../../data/datos_scrappeados/project_play.comentarios_JEDI_SURVIVOR.json\")\n",
    "sekiro = pd.read_json(\"../../data/datos_scrappeados/project_play.comentarios_SEKIRO.json\")\n",
    "skyrim = pd.read_json(\"../../data/datos_scrappeados/project_play.comentarios_SKYRIM.json\")\n",
    "witcher = pd.read_json(\"../../data/datos_scrappeados/project_play.comentarios_THE_WITCHER.json\")\n",
    "elder = pd.read_json(\"../../data/datos_scrappeados/project_play.comentarios_elder.json\")"
   ]
  },
  {
   "cell_type": "code",
   "execution_count": 3,
   "metadata": {},
   "outputs": [],
   "source": [
    "reviews_totales = pd.concat([fifa, batman, ciber_punk, legacy, jedi, sekiro, skyrim, witcher, elder])\n",
    "reviews_totales = reviews_totales.reset_index(drop=True)"
   ]
  },
  {
   "cell_type": "code",
   "execution_count": 4,
   "metadata": {},
   "outputs": [
    {
     "name": "stdout",
     "output_type": "stream",
     "text": [
      "<class 'pandas.core.frame.DataFrame'>\n",
      "RangeIndex: 59523 entries, 0 to 59522\n",
      "Data columns (total 3 columns):\n",
      " #   Column      Non-Null Count  Dtype \n",
      "---  ------      --------------  ----- \n",
      " 0   _id         59523 non-null  object\n",
      " 1   Contenido   59523 non-null  object\n",
      " 2   Valoración  59523 non-null  object\n",
      "dtypes: object(3)\n",
      "memory usage: 1.4+ MB\n"
     ]
    }
   ],
   "source": [
    "reviews_totales.info()"
   ]
  },
  {
   "cell_type": "code",
   "execution_count": 5,
   "metadata": {},
   "outputs": [
    {
     "data": {
      "text/html": [
       "<div>\n",
       "<style scoped>\n",
       "    .dataframe tbody tr th:only-of-type {\n",
       "        vertical-align: middle;\n",
       "    }\n",
       "\n",
       "    .dataframe tbody tr th {\n",
       "        vertical-align: top;\n",
       "    }\n",
       "\n",
       "    .dataframe thead th {\n",
       "        text-align: right;\n",
       "    }\n",
       "</style>\n",
       "<table border=\"1\" class=\"dataframe\">\n",
       "  <thead>\n",
       "    <tr style=\"text-align: right;\">\n",
       "      <th></th>\n",
       "      <th>_id</th>\n",
       "      <th>Contenido</th>\n",
       "      <th>Valoración</th>\n",
       "    </tr>\n",
       "  </thead>\n",
       "  <tbody>\n",
       "    <tr>\n",
       "      <th>2322</th>\n",
       "      <td>{'$oid': '6480ec8d72f7343da94b9a72'}</td>\n",
       "      <td>Posted: March 24, 2022\\r\\n\\t\\t\\t\\t\\t\\t\\t\\t\\t\\t...</td>\n",
       "      <td>Not Recommended</td>\n",
       "    </tr>\n",
       "    <tr>\n",
       "      <th>2210</th>\n",
       "      <td>{'$oid': '6480ec8272f7343da94b9a02'}</td>\n",
       "      <td>Posted: June 5, 2022\\r\\n\\t\\t\\t\\t\\t\\t\\t\\t\\t\\t\\t...</td>\n",
       "      <td>Recommended</td>\n",
       "    </tr>\n",
       "    <tr>\n",
       "      <th>2034</th>\n",
       "      <td>{'$oid': '6480ec7272f7343da94b9952'}</td>\n",
       "      <td>Posted: September 2, 2022\\r\\n\\t\\t\\t\\t\\t\\t\\t\\t\\...</td>\n",
       "      <td>Recommended</td>\n",
       "    </tr>\n",
       "    <tr>\n",
       "      <th>3706</th>\n",
       "      <td>{'$oid': '6480ecfc72f7343da94b9fda'}</td>\n",
       "      <td>Posted: October 13, 2020\\r\\n\\t\\t\\t\\t\\t\\t\\t\\t\\t...</td>\n",
       "      <td>Recommended</td>\n",
       "    </tr>\n",
       "    <tr>\n",
       "      <th>4028</th>\n",
       "      <td>{'$oid': '6480ed1472f7343da94ba11c'}</td>\n",
       "      <td>Posted: August 12, 2020\\r\\n\\t\\t\\t\\t\\t\\t\\t\\t\\t\\...</td>\n",
       "      <td>Recommended</td>\n",
       "    </tr>\n",
       "    <tr>\n",
       "      <th>229</th>\n",
       "      <td>{'$oid': '6480ebe672f7343da94b9245'}</td>\n",
       "      <td>Posted: August 7, 2020\\r\\n\\t\\t\\t\\t\\t\\t\\t\\t\\t\\t...</td>\n",
       "      <td>Not Recommended</td>\n",
       "    </tr>\n",
       "    <tr>\n",
       "      <th>2515</th>\n",
       "      <td>{'$oid': '6480ec9b72f7343da94b9b33'}</td>\n",
       "      <td>Posted: January 25, 2022\\r\\n\\t\\t\\t\\t\\t\\t\\t\\t\\t...</td>\n",
       "      <td>Recommended</td>\n",
       "    </tr>\n",
       "    <tr>\n",
       "      <th>3286</th>\n",
       "      <td>{'$oid': '6480ecda72f7343da94b9e36'}</td>\n",
       "      <td>Posted: March 7, 2021\\r\\n\\t\\t\\t\\t\\t\\t\\t\\t\\t\\t\\...</td>\n",
       "      <td>Recommended</td>\n",
       "    </tr>\n",
       "    <tr>\n",
       "      <th>362</th>\n",
       "      <td>{'$oid': '6480ebf072f7343da94b92ca'}</td>\n",
       "      <td>Posted: May 19, 2022\\r\\n\\t\\t\\t\\t\\t\\t\\t\\t\\t\\t\\t...</td>\n",
       "      <td>Recommended</td>\n",
       "    </tr>\n",
       "    <tr>\n",
       "      <th>3567</th>\n",
       "      <td>{'$oid': '6480ecf172f7343da94b9f4f'}</td>\n",
       "      <td>Posted: November 26, 2020\\r\\n\\t\\t\\t\\t\\t\\t\\t\\t\\...</td>\n",
       "      <td>Recommended</td>\n",
       "    </tr>\n",
       "  </tbody>\n",
       "</table>\n",
       "</div>"
      ],
      "text/plain": [
       "                                       _id  \\\n",
       "2322  {'$oid': '6480ec8d72f7343da94b9a72'}   \n",
       "2210  {'$oid': '6480ec8272f7343da94b9a02'}   \n",
       "2034  {'$oid': '6480ec7272f7343da94b9952'}   \n",
       "3706  {'$oid': '6480ecfc72f7343da94b9fda'}   \n",
       "4028  {'$oid': '6480ed1472f7343da94ba11c'}   \n",
       "229   {'$oid': '6480ebe672f7343da94b9245'}   \n",
       "2515  {'$oid': '6480ec9b72f7343da94b9b33'}   \n",
       "3286  {'$oid': '6480ecda72f7343da94b9e36'}   \n",
       "362   {'$oid': '6480ebf072f7343da94b92ca'}   \n",
       "3567  {'$oid': '6480ecf172f7343da94b9f4f'}   \n",
       "\n",
       "                                              Contenido       Valoración  \n",
       "2322  Posted: March 24, 2022\\r\\n\\t\\t\\t\\t\\t\\t\\t\\t\\t\\t...  Not Recommended  \n",
       "2210  Posted: June 5, 2022\\r\\n\\t\\t\\t\\t\\t\\t\\t\\t\\t\\t\\t...      Recommended  \n",
       "2034  Posted: September 2, 2022\\r\\n\\t\\t\\t\\t\\t\\t\\t\\t\\...      Recommended  \n",
       "3706  Posted: October 13, 2020\\r\\n\\t\\t\\t\\t\\t\\t\\t\\t\\t...      Recommended  \n",
       "4028  Posted: August 12, 2020\\r\\n\\t\\t\\t\\t\\t\\t\\t\\t\\t\\...      Recommended  \n",
       "229   Posted: August 7, 2020\\r\\n\\t\\t\\t\\t\\t\\t\\t\\t\\t\\t...  Not Recommended  \n",
       "2515  Posted: January 25, 2022\\r\\n\\t\\t\\t\\t\\t\\t\\t\\t\\t...      Recommended  \n",
       "3286  Posted: March 7, 2021\\r\\n\\t\\t\\t\\t\\t\\t\\t\\t\\t\\t\\...      Recommended  \n",
       "362   Posted: May 19, 2022\\r\\n\\t\\t\\t\\t\\t\\t\\t\\t\\t\\t\\t...      Recommended  \n",
       "3567  Posted: November 26, 2020\\r\\n\\t\\t\\t\\t\\t\\t\\t\\t\\...      Recommended  "
      ]
     },
     "execution_count": 5,
     "metadata": {},
     "output_type": "execute_result"
    }
   ],
   "source": [
    "horizon.sample(10)"
   ]
  },
  {
   "cell_type": "code",
   "execution_count": 6,
   "metadata": {},
   "outputs": [],
   "source": [
    "horizon['Valoración'] = horizon['Valoración'].replace({'Not Recommended': 'No recomendado', 'Recommended': 'Recomendado'})"
   ]
  },
  {
   "cell_type": "code",
   "execution_count": 7,
   "metadata": {},
   "outputs": [
    {
     "data": {
      "text/plain": [
       "0       No recomendado\n",
       "1       No recomendado\n",
       "2       No recomendado\n",
       "3       No recomendado\n",
       "4       No recomendado\n",
       "             ...      \n",
       "4322       Recomendado\n",
       "4323    No recomendado\n",
       "4324       Recomendado\n",
       "4325       Recomendado\n",
       "4326    No recomendado\n",
       "Name: Valoración, Length: 4327, dtype: object"
      ]
     },
     "execution_count": 7,
     "metadata": {},
     "output_type": "execute_result"
    }
   ],
   "source": [
    "horizon.Valoración"
   ]
  },
  {
   "cell_type": "code",
   "execution_count": 8,
   "metadata": {},
   "outputs": [
    {
     "data": {
      "text/plain": [
       "0       Posted: August 9, 2020\\r\\n\\t\\t\\t\\t\\t\\t\\t\\t\\t\\t...\n",
       "1       Posted: August 8, 2020\\r\\n\\t\\t\\t\\t\\t\\t\\t\\t\\t\\t...\n",
       "2       Posted: August 12, 2020\\r\\n\\t\\t\\t\\t\\t\\t\\t\\t\\t\\...\n",
       "3       Posted: August 12, 2020\\r\\n\\t\\t\\t\\t\\t\\t\\t\\t\\t\\...\n",
       "4       Posted: August 7, 2020\\r\\n\\t\\t\\t\\t\\t\\t\\t\\t\\t\\t...\n",
       "                              ...                        \n",
       "4322    Posted: August 7, 2020\\r\\n\\t\\t\\t\\t\\t\\t\\t\\t\\t\\t...\n",
       "4323    Posted: August 7, 2020\\r\\n\\t\\t\\t\\t\\t\\t\\t\\t\\t\\t...\n",
       "4324    Posted: August 7, 2020\\r\\n\\t\\t\\t\\t\\t\\t\\t\\t\\t\\t...\n",
       "4325    Posted: August 7, 2020\\r\\n\\t\\t\\t\\t\\t\\t\\t\\t\\t\\t...\n",
       "4326    Posted: August 7, 2020\\r\\n\\t\\t\\t\\t\\t\\t\\t\\t\\t\\t...\n",
       "Name: Contenido, Length: 4327, dtype: object"
      ]
     },
     "execution_count": 8,
     "metadata": {},
     "output_type": "execute_result"
    }
   ],
   "source": [
    "horizon.Contenido"
   ]
  },
  {
   "cell_type": "code",
   "execution_count": 9,
   "metadata": {},
   "outputs": [
    {
     "name": "stderr",
     "output_type": "stream",
     "text": [
      "[nltk_data] Downloading package stopwords to\n",
      "[nltk_data]     C:\\Users\\GAMM\\AppData\\Roaming\\nltk_data...\n",
      "[nltk_data]   Package stopwords is already up-to-date!\n",
      "[nltk_data] Downloading package punkt to\n",
      "[nltk_data]     C:\\Users\\GAMM\\AppData\\Roaming\\nltk_data...\n",
      "[nltk_data]   Package punkt is already up-to-date!\n"
     ]
    }
   ],
   "source": [
    "import re\n",
    "import nltk\n",
    "from nltk.corpus import stopwords\n",
    "from nltk.tokenize import word_tokenize\n",
    "\n",
    "nltk.download('stopwords')\n",
    "nltk.download('punkt')\n",
    "\n",
    "def procesar_texto(texto):\n",
    "    # Eliminar la fecha del inicio utilizando expresiones regulares\n",
    "    contenido_sin_fecha = re.sub(r\"posted:\\s\\w+\\s\\d+,\\s\\d+\", \"\", texto, flags=re.IGNORECASE)\n",
    "\n",
    "    # Eliminar la palabra \"Posted\"\n",
    "    contenido_sin_posted = re.sub(r\"posted\", \"\", contenido_sin_fecha, flags=re.IGNORECASE)\n",
    "\n",
    "    # Eliminar caracteres especiales y convertir el texto a minúsculas\n",
    "    texto_limpio = re.sub(r\"[^\\w\\s]\", \"\", contenido_sin_posted.lower())\n",
    "\n",
    "    # Tokenizar el texto en palabras\n",
    "    tokens = word_tokenize(texto_limpio)\n",
    "\n",
    "    # Eliminar palabras irrelevantes (stop words)\n",
    "    stop_words = set(stopwords.words('spanish'))\n",
    "    tokens_filtrados = [token for token in tokens if token not in stop_words]\n",
    "\n",
    "    # Unir las palabras nuevamente en un solo texto\n",
    "    texto_procesado = ' '.join(tokens_filtrados)\n",
    "\n",
    "    return texto_procesado"
   ]
  },
  {
   "cell_type": "code",
   "execution_count": 10,
   "metadata": {},
   "outputs": [],
   "source": [
    "def procesar_texto_es(texto):\n",
    "    # Eliminar la fecha del inicio utilizando expresiones regulares\n",
    "    contenido_sin_fecha = re.sub(r\"publicada\\s+el\\s+\\d+\\s+de\\s+\\w+\\s+de\\s+\\d+\", \"\", texto, flags=re.IGNORECASE)\n",
    "\n",
    "    # Eliminar la palabra \"Publicada\"\n",
    "    contenido_sin_publicada = re.sub(r\"publicada\", \"\", contenido_sin_fecha, flags=re.IGNORECASE)\n",
    "\n",
    "    # Eliminar caracteres especiales y convertir el texto a minúsculas\n",
    "    texto_limpio = re.sub(r\"[^\\w\\s]\", \"\", contenido_sin_publicada.lower())\n",
    "\n",
    "    # Tokenizar el texto en palabras\n",
    "    tokens = word_tokenize(texto_limpio)\n",
    "\n",
    "    # Eliminar palabras irrelevantes (stop words)\n",
    "    stop_words = set(stopwords.words('spanish'))\n",
    "    tokens_filtrados = [token for token in tokens if token not in stop_words]\n",
    "\n",
    "    # Unir las palabras nuevamente en un solo texto\n",
    "    texto_procesado = ' '.join(tokens_filtrados)\n",
    "\n",
    "    return texto_procesado\n"
   ]
  },
  {
   "cell_type": "code",
   "execution_count": 11,
   "metadata": {},
   "outputs": [],
   "source": [
    "reviews_totales[\"Contenido\"] = reviews_totales[\"Contenido\"].apply(procesar_texto_es)"
   ]
  },
  {
   "cell_type": "code",
   "execution_count": 12,
   "metadata": {},
   "outputs": [
    {
     "data": {
      "text/plain": [
       "'compreis opinión tremenda estafa compras juego puedes iniciar creado anticheats funciona muchas gracias ea prestarle tanta atención comunidad pc ojalá efootball ponga pilas hundan chiringuito'"
      ]
     },
     "execution_count": 12,
     "metadata": {},
     "output_type": "execute_result"
    }
   ],
   "source": [
    "reviews_totales.Contenido[0]"
   ]
  },
  {
   "cell_type": "code",
   "execution_count": 13,
   "metadata": {},
   "outputs": [],
   "source": [
    "horizon[\"Contenido\"] = horizon[\"Contenido\"].apply(procesar_texto)"
   ]
  },
  {
   "cell_type": "code",
   "execution_count": 14,
   "metadata": {},
   "outputs": [
    {
     "data": {
      "text/plain": [
       "'allltisimo juego encanta inteligencia artificial maquinas desenvuelven juntas cagarte palos'"
      ]
     },
     "execution_count": 14,
     "metadata": {},
     "output_type": "execute_result"
    }
   ],
   "source": [
    "horizon[\"Contenido\"][10]"
   ]
  },
  {
   "cell_type": "code",
   "execution_count": 15,
   "metadata": {},
   "outputs": [],
   "source": [
    "#concateno los df\n",
    "total_reviews = pd.concat([horizon, reviews_totales])\n",
    "total_reviews = total_reviews.reset_index(drop=True)"
   ]
  },
  {
   "cell_type": "code",
   "execution_count": 16,
   "metadata": {},
   "outputs": [],
   "source": [
    "total_reviews['Recomendado_binario'] = total_reviews['Valoración'].apply(lambda x: 1 if x == 'Recomendado' else 0)"
   ]
  },
  {
   "cell_type": "code",
   "execution_count": 17,
   "metadata": {},
   "outputs": [
    {
     "data": {
      "image/png": "[encoded data removed]",
      "text/plain": [
       "<Figure size 640x480 with 1 Axes>"
      ]
     },
     "metadata": {},
     "output_type": "display_data"
    }
   ],
   "source": [
    "# Visualizar\n",
    "sns.countplot(data=total_reviews, x='Recomendado_binario')\n",
    "plt.xlabel('Escala')\n",
    "plt.ylabel('Count')\n",
    "plt.title('Recomendados o No')\n",
    "plt.show()"
   ]
  },
  {
   "cell_type": "code",
   "execution_count": 18,
   "metadata": {},
   "outputs": [
    {
     "data": {
      "text/plain": [
       "1    51898\n",
       "0    11952\n",
       "Name: Recomendado_binario, dtype: int64"
      ]
     },
     "execution_count": 18,
     "metadata": {},
     "output_type": "execute_result"
    }
   ],
   "source": [
    "total_reviews[\"Recomendado_binario\"].value_counts()"
   ]
  },
  {
   "cell_type": "code",
   "execution_count": 19,
   "metadata": {},
   "outputs": [
    {
     "data": {
      "text/plain": [
       "(51898, 11952)"
      ]
     },
     "execution_count": 19,
     "metadata": {},
     "output_type": "execute_result"
    }
   ],
   "source": [
    "#Cuento cantidad de comentarios\n",
    "\n",
    "total_reviews_p=total_reviews[total_reviews['Recomendado_binario']==1]\n",
    "total_reviews_n=total_reviews[total_reviews['Recomendado_binario']==0]\n",
    "len(total_reviews_p), len(total_reviews_n)"
   ]
  },
  {
   "cell_type": "code",
   "execution_count": 20,
   "metadata": {},
   "outputs": [
    {
     "data": {
      "text/plain": [
       "(10000, 10000)"
      ]
     },
     "execution_count": 20,
     "metadata": {},
     "output_type": "execute_result"
    }
   ],
   "source": [
    "#Selecciono la misma cantidad de comentarios positivos y negativos\n",
    "\n",
    "datap = total_reviews_p.iloc[np.random.randint(0, len(total_reviews_p), 10000), :]\n",
    "datan = total_reviews_n.iloc[np.random.randint(0, len(total_reviews_n), 10000), :]\n",
    "\n",
    "len(datan), len(datap)"
   ]
  },
  {
   "cell_type": "code",
   "execution_count": 21,
   "metadata": {},
   "outputs": [],
   "source": [
    "\n",
    "train = pd.concat([datan, datap])"
   ]
  },
  {
   "cell_type": "code",
   "execution_count": 22,
   "metadata": {},
   "outputs": [],
   "source": [
    "train.drop(columns = \"_id\", inplace= True)"
   ]
  },
  {
   "cell_type": "code",
   "execution_count": 23,
   "metadata": {},
   "outputs": [],
   "source": [
    "train.reset_index(drop=True, inplace=True)"
   ]
  },
  {
   "cell_type": "code",
   "execution_count": 28,
   "metadata": {},
   "outputs": [
    {
     "data": {
      "text/plain": [
       "(20000, 3)"
      ]
     },
     "execution_count": 28,
     "metadata": {},
     "output_type": "execute_result"
    }
   ],
   "source": [
    "train.shape"
   ]
  },
  {
   "cell_type": "code",
   "execution_count": 41,
   "metadata": {},
   "outputs": [
    {
     "data": {
      "text/plain": [
       "(2000, 2000)"
      ]
     },
     "execution_count": 41,
     "metadata": {},
     "output_type": "execute_result"
    }
   ],
   "source": [
    "#Selecciono la misma cantidad de comentarios positivos y negativos\n",
    "\n",
    "data1 = total_reviews_p.iloc[np.random.randint(0, len(total_reviews_p), 2000), :]\n",
    "data2 = total_reviews_n.iloc[np.random.randint(0, len(total_reviews_n), 2000), :]\n",
    "\n",
    "len(data1), len(data2)"
   ]
  },
  {
   "cell_type": "code",
   "execution_count": 42,
   "metadata": {},
   "outputs": [],
   "source": [
    "train_log = pd.concat([data1, data2])"
   ]
  },
  {
   "cell_type": "code",
   "execution_count": 49,
   "metadata": {},
   "outputs": [],
   "source": [
    "# asignar palabra de texto con sentimientos, creando el vector\n",
    "\n",
    "vectr = TfidfVectorizer(ngram_range=(1,2),min_df=1)\n",
    "vectr.fit(train['Contenido'])\n",
    "\n",
    "vect_X = vectr.transform(train['Contenido'])"
   ]
  },
  {
   "cell_type": "code",
   "execution_count": 50,
   "metadata": {},
   "outputs": [],
   "source": [
    "# construir modelo de regresión logistica para clasificar, y entrenamos el modelo\n",
    "model = LogisticRegression()\n",
    "clf=model.fit(vect_X,train['Recomendado_binario'])"
   ]
  },
  {
   "cell_type": "code",
   "execution_count": 53,
   "metadata": {},
   "outputs": [
    {
     "name": "stdout",
     "output_type": "stream",
     "text": [
      "Precisión: 94.77%\n"
     ]
    }
   ],
   "source": [
    "# Evaluar precisión del modelo\n",
    "\n",
    "accuracy = model.score(vect_X, train['Recomendado_binario']) * 100\n",
    "print('Precisión: {:.2f}%'.format(accuracy))"
   ]
  },
  {
   "cell_type": "code",
   "execution_count": null,
   "metadata": {},
   "outputs": [],
   "source": []
  },
  {
   "cell_type": "code",
   "execution_count": 29,
   "metadata": {},
   "outputs": [
    {
     "data": {
      "text/html": [
       "<div>\n",
       "<style scoped>\n",
       "    .dataframe tbody tr th:only-of-type {\n",
       "        vertical-align: middle;\n",
       "    }\n",
       "\n",
       "    .dataframe tbody tr th {\n",
       "        vertical-align: top;\n",
       "    }\n",
       "\n",
       "    .dataframe thead th {\n",
       "        text-align: right;\n",
       "    }\n",
       "</style>\n",
       "<table border=\"1\" class=\"dataframe\">\n",
       "  <thead>\n",
       "    <tr style=\"text-align: right;\">\n",
       "      <th></th>\n",
       "      <th>Contenido</th>\n",
       "      <th>Valoración</th>\n",
       "      <th>Recomendado_binario</th>\n",
       "    </tr>\n",
       "  </thead>\n",
       "  <tbody>\n",
       "    <tr>\n",
       "      <th>0</th>\n",
       "      <td>2 marzo so bad</td>\n",
       "      <td>No recomendado</td>\n",
       "      <td>0</td>\n",
       "    </tr>\n",
       "    <tr>\n",
       "      <th>1</th>\n",
       "      <td>10 febrero actualmente recomiendo juego contab...</td>\n",
       "      <td>No recomendado</td>\n",
       "      <td>0</td>\n",
       "    </tr>\n",
       "    <tr>\n",
       "      <th>2</th>\n",
       "      <td>9 febrero increíblemente gracioso ver cómo cdp...</td>\n",
       "      <td>No recomendado</td>\n",
       "      <td>0</td>\n",
       "    </tr>\n",
       "    <tr>\n",
       "      <th>3</th>\n",
       "      <td>the world in this game is extremely static the...</td>\n",
       "      <td>No recomendado</td>\n",
       "      <td>0</td>\n",
       "    </tr>\n",
       "    <tr>\n",
       "      <th>4</th>\n",
       "      <td>zero replayability i finished this game in abo...</td>\n",
       "      <td>No recomendado</td>\n",
       "      <td>0</td>\n",
       "    </tr>\n",
       "    <tr>\n",
       "      <th>...</th>\n",
       "      <td>...</td>\n",
       "      <td>...</td>\n",
       "      <td>...</td>\n",
       "    </tr>\n",
       "    <tr>\n",
       "      <th>19995</th>\n",
       "      <td>si</td>\n",
       "      <td>Recomendado</td>\n",
       "      <td>1</td>\n",
       "    </tr>\n",
       "    <tr>\n",
       "      <th>19996</th>\n",
       "      <td>cojonudo</td>\n",
       "      <td>Recomendado</td>\n",
       "      <td>1</td>\n",
       "    </tr>\n",
       "    <tr>\n",
       "      <th>19997</th>\n",
       "      <td>reostia historia guapisima graficos impresiona...</td>\n",
       "      <td>Recomendado</td>\n",
       "      <td>1</td>\n",
       "    </tr>\n",
       "    <tr>\n",
       "      <th>19998</th>\n",
       "      <td>basicamente sublime obra maestra</td>\n",
       "      <td>Recomendado</td>\n",
       "      <td>1</td>\n",
       "    </tr>\n",
       "    <tr>\n",
       "      <th>19999</th>\n",
       "      <td>puedo dormir</td>\n",
       "      <td>Recomendado</td>\n",
       "      <td>1</td>\n",
       "    </tr>\n",
       "  </tbody>\n",
       "</table>\n",
       "<p>20000 rows × 3 columns</p>\n",
       "</div>"
      ],
      "text/plain": [
       "                                               Contenido      Valoración  \\\n",
       "0                                         2 marzo so bad  No recomendado   \n",
       "1      10 febrero actualmente recomiendo juego contab...  No recomendado   \n",
       "2      9 febrero increíblemente gracioso ver cómo cdp...  No recomendado   \n",
       "3      the world in this game is extremely static the...  No recomendado   \n",
       "4      zero replayability i finished this game in abo...  No recomendado   \n",
       "...                                                  ...             ...   \n",
       "19995                                                 si     Recomendado   \n",
       "19996                                           cojonudo     Recomendado   \n",
       "19997  reostia historia guapisima graficos impresiona...     Recomendado   \n",
       "19998                   basicamente sublime obra maestra     Recomendado   \n",
       "19999                                       puedo dormir     Recomendado   \n",
       "\n",
       "       Recomendado_binario  \n",
       "0                        0  \n",
       "1                        0  \n",
       "2                        0  \n",
       "3                        0  \n",
       "4                        0  \n",
       "...                    ...  \n",
       "19995                    1  \n",
       "19996                    1  \n",
       "19997                    1  \n",
       "19998                    1  \n",
       "19999                    1  \n",
       "\n",
       "[20000 rows x 3 columns]"
      ]
     },
     "execution_count": 29,
     "metadata": {},
     "output_type": "execute_result"
    }
   ],
   "source": [
    "train"
   ]
  },
  {
   "cell_type": "code",
   "execution_count": 30,
   "metadata": {},
   "outputs": [
    {
     "name": "stdout",
     "output_type": "stream",
     "text": [
      "Precisión del árbol de decisión: 0.853\n",
      "Precisión del Random Forest: 0.874\n"
     ]
    }
   ],
   "source": [
    "from sklearn.feature_extraction.text import TfidfVectorizer\n",
    "from sklearn.tree import DecisionTreeClassifier\n",
    "from sklearn.ensemble import RandomForestClassifier\n",
    "from sklearn.model_selection import train_test_split\n",
    "from sklearn.metrics import accuracy_score\n",
    "\n",
    "# Preprocesamiento de los datos\n",
    "vectorizer = TfidfVectorizer()\n",
    "X = vectorizer.fit_transform(train['Contenido'])  # datos_texto es una lista de documentos de texto\n",
    "y = train['Valoración']  # etiquetas es una lista de etiquetas correspondientes a los documentos\n",
    "\n",
    "# División de los datos en conjuntos de entrenamiento y prueba\n",
    "X_train, X_test, y_train, y_test = train_test_split(X, y, test_size=0.2, random_state=42)\n",
    "\n",
    "# Entrenamiento y evaluación de un árbol de decisión\n",
    "tree = DecisionTreeClassifier()\n",
    "tree.fit(X_train, y_train)\n",
    "y_pred_tree = tree.predict(X_test)\n",
    "accuracy_tree = accuracy_score(y_test, y_pred_tree)\n",
    "print(\"Precisión del árbol de decisión:\", accuracy_tree)\n",
    "\n",
    "# Entrenamiento y evaluación de un Random Forest\n",
    "forest = RandomForestClassifier()\n",
    "forest.fit(X_train, y_train)\n",
    "y_pred_forest = forest.predict(X_test)\n",
    "accuracy_forest = accuracy_score(y_test, y_pred_forest)\n",
    "print(\"Precisión del Random Forest:\", accuracy_forest)\n"
   ]
  }
 ],
 "metadata": {
  "kernelspec": {
   "display_name": "ReviewProject",
   "language": "python",
   "name": "python3"
  },
  "language_info": {
   "codemirror_mode": {
    "name": "ipython",
    "version": 3
   },
   "file_extension": ".py",
   "mimetype": "text/x-python",
   "name": "python",
   "nbconvert_exporter": "python",
   "pygments_lexer": "ipython3",
   "version": "3.9.13"
  },
  "orig_nbformat": 4
 },
 "nbformat": 4,
 "nbformat_minor": 2
}
